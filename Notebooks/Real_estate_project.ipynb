{
 "cells": [
  {
   "cell_type": "markdown",
   "metadata": {},
   "source": [
    "# Real Estate Project\n",
    "\n",
    "##### Research on apartment sales ads\n",
    "\n",
    "The goal is to learn how to determine the market value of real estate properties. The task is to define the parameters to make it possible to build an automated system that is capable of detecting anomalies and fraudulent activity.\n",
    "\n",
    "There are two different types of data available for every apartment for sale. The first type is a user’s input. The second type is received automatically based upon the map data. \n",
    "\n",
    "\n",
    "## Content plan\n",
    "\n",
    "1. [Step1](#Step1) Opening the data file and studing the general information\n",
    "2. [Step2](#Step2) Data preprocessing\n",
    "3. [Step3](#Step3) Making calculations and adding them to the table\n",
    "4. [Step4](#Step4) EDA \n",
    "5. [Overall conclusion](#oc)"
   ]
  },
  {
   "cell_type": "markdown",
   "metadata": {},
   "source": [
    "### Step1 "
   ]
  },
  {
   "cell_type": "code",
   "execution_count": 2,
   "metadata": {},
   "outputs": [
    {
     "name": "stdout",
     "output_type": "stream",
     "text": [
      "<class 'pandas.core.frame.DataFrame'>\n",
      "RangeIndex: 23699 entries, 0 to 23698\n",
      "Data columns (total 22 columns):\n",
      "date_posted          23699 non-null object\n",
      "days_listed          20518 non-null float64\n",
      "last_price           23699 non-null int64\n",
      "bedrooms             23699 non-null int64\n",
      "kitchen_area         21421 non-null float64\n",
      "living_area          21796 non-null float64\n",
      "total_area           23699 non-null float64\n",
      "balconies            12180 non-null float64\n",
      "ceiling_height       14504 non-null float64\n",
      "floors_total         23613 non-null float64\n",
      "floor                23699 non-null int64\n",
      "total_images         23699 non-null int64\n",
      "bike_parking         2775 non-null object\n",
      "is_studio            23699 non-null bool\n",
      "is_open_plan         23699 non-null bool\n",
      "locality_name        23650 non-null object\n",
      "airport_dist         18157 non-null float64\n",
      "city_center_dist     18180 non-null float64\n",
      "park_dist            8079 non-null float64\n",
      "parks_within_3000    18181 non-null float64\n",
      "pond_dist            9110 non-null float64\n",
      "ponds_within_3000    18181 non-null float64\n",
      "dtypes: bool(2), float64(13), int64(4), object(3)\n",
      "memory usage: 3.7+ MB\n"
     ]
    }
   ],
   "source": [
    "import pandas as pd\n",
    "estate_data = pd.read_csv('real_estate_data_us2.csv', sep=';')\n",
    "estate_data.info()"
   ]
  },
  {
   "cell_type": "markdown",
   "metadata": {},
   "source": [
    "So far i assume it would be needed to change data types in Floors_total and Date_posted. It seems there are many columns with missing values"
   ]
  },
  {
   "cell_type": "code",
   "execution_count": 3,
   "metadata": {},
   "outputs": [
    {
     "data": {
      "text/html": [
       "<div>\n",
       "<style scoped>\n",
       "    .dataframe tbody tr th:only-of-type {\n",
       "        vertical-align: middle;\n",
       "    }\n",
       "\n",
       "    .dataframe tbody tr th {\n",
       "        vertical-align: top;\n",
       "    }\n",
       "\n",
       "    .dataframe thead th {\n",
       "        text-align: right;\n",
       "    }\n",
       "</style>\n",
       "<table border=\"1\" class=\"dataframe\">\n",
       "  <thead>\n",
       "    <tr style=\"text-align: right;\">\n",
       "      <th></th>\n",
       "      <th>date_posted</th>\n",
       "      <th>days_listed</th>\n",
       "      <th>last_price</th>\n",
       "      <th>bedrooms</th>\n",
       "      <th>kitchen_area</th>\n",
       "      <th>living_area</th>\n",
       "      <th>total_area</th>\n",
       "      <th>balconies</th>\n",
       "      <th>ceiling_height</th>\n",
       "      <th>floors_total</th>\n",
       "      <th>...</th>\n",
       "      <th>bike_parking</th>\n",
       "      <th>is_studio</th>\n",
       "      <th>is_open_plan</th>\n",
       "      <th>locality_name</th>\n",
       "      <th>airport_dist</th>\n",
       "      <th>city_center_dist</th>\n",
       "      <th>park_dist</th>\n",
       "      <th>parks_within_3000</th>\n",
       "      <th>pond_dist</th>\n",
       "      <th>ponds_within_3000</th>\n",
       "    </tr>\n",
       "  </thead>\n",
       "  <tbody>\n",
       "    <tr>\n",
       "      <td>0</td>\n",
       "      <td>2019-03-07T00:00:00</td>\n",
       "      <td>NaN</td>\n",
       "      <td>260000</td>\n",
       "      <td>3</td>\n",
       "      <td>25.0</td>\n",
       "      <td>51.0</td>\n",
       "      <td>108.0</td>\n",
       "      <td>NaN</td>\n",
       "      <td>2.70</td>\n",
       "      <td>16.0</td>\n",
       "      <td>...</td>\n",
       "      <td>NaN</td>\n",
       "      <td>False</td>\n",
       "      <td>False</td>\n",
       "      <td>Saint Petersburg</td>\n",
       "      <td>18863.0</td>\n",
       "      <td>16028.0</td>\n",
       "      <td>482.0</td>\n",
       "      <td>1.0</td>\n",
       "      <td>755.0</td>\n",
       "      <td>2.0</td>\n",
       "    </tr>\n",
       "    <tr>\n",
       "      <td>1</td>\n",
       "      <td>2018-12-04T00:00:00</td>\n",
       "      <td>81.0</td>\n",
       "      <td>67000</td>\n",
       "      <td>1</td>\n",
       "      <td>11.0</td>\n",
       "      <td>18.6</td>\n",
       "      <td>40.4</td>\n",
       "      <td>2.0</td>\n",
       "      <td>NaN</td>\n",
       "      <td>11.0</td>\n",
       "      <td>...</td>\n",
       "      <td>NaN</td>\n",
       "      <td>False</td>\n",
       "      <td>False</td>\n",
       "      <td>Shushary village</td>\n",
       "      <td>12817.0</td>\n",
       "      <td>18603.0</td>\n",
       "      <td>NaN</td>\n",
       "      <td>0.0</td>\n",
       "      <td>NaN</td>\n",
       "      <td>0.0</td>\n",
       "    </tr>\n",
       "    <tr>\n",
       "      <td>2</td>\n",
       "      <td>2015-08-20T00:00:00</td>\n",
       "      <td>558.0</td>\n",
       "      <td>103920</td>\n",
       "      <td>2</td>\n",
       "      <td>8.3</td>\n",
       "      <td>34.3</td>\n",
       "      <td>56.0</td>\n",
       "      <td>0.0</td>\n",
       "      <td>NaN</td>\n",
       "      <td>5.0</td>\n",
       "      <td>...</td>\n",
       "      <td>NaN</td>\n",
       "      <td>False</td>\n",
       "      <td>False</td>\n",
       "      <td>Saint Petersburg</td>\n",
       "      <td>21741.0</td>\n",
       "      <td>13933.0</td>\n",
       "      <td>90.0</td>\n",
       "      <td>1.0</td>\n",
       "      <td>574.0</td>\n",
       "      <td>2.0</td>\n",
       "    </tr>\n",
       "    <tr>\n",
       "      <td>3</td>\n",
       "      <td>2015-07-24T00:00:00</td>\n",
       "      <td>424.0</td>\n",
       "      <td>1298000</td>\n",
       "      <td>3</td>\n",
       "      <td>NaN</td>\n",
       "      <td>NaN</td>\n",
       "      <td>159.0</td>\n",
       "      <td>0.0</td>\n",
       "      <td>NaN</td>\n",
       "      <td>14.0</td>\n",
       "      <td>...</td>\n",
       "      <td>NaN</td>\n",
       "      <td>False</td>\n",
       "      <td>False</td>\n",
       "      <td>Saint Petersburg</td>\n",
       "      <td>28098.0</td>\n",
       "      <td>6800.0</td>\n",
       "      <td>84.0</td>\n",
       "      <td>2.0</td>\n",
       "      <td>234.0</td>\n",
       "      <td>3.0</td>\n",
       "    </tr>\n",
       "    <tr>\n",
       "      <td>4</td>\n",
       "      <td>2018-06-19T00:00:00</td>\n",
       "      <td>121.0</td>\n",
       "      <td>200000</td>\n",
       "      <td>2</td>\n",
       "      <td>41.0</td>\n",
       "      <td>32.0</td>\n",
       "      <td>100.0</td>\n",
       "      <td>NaN</td>\n",
       "      <td>3.03</td>\n",
       "      <td>14.0</td>\n",
       "      <td>...</td>\n",
       "      <td>NaN</td>\n",
       "      <td>False</td>\n",
       "      <td>False</td>\n",
       "      <td>Saint Petersburg</td>\n",
       "      <td>31856.0</td>\n",
       "      <td>8098.0</td>\n",
       "      <td>112.0</td>\n",
       "      <td>2.0</td>\n",
       "      <td>48.0</td>\n",
       "      <td>1.0</td>\n",
       "    </tr>\n",
       "  </tbody>\n",
       "</table>\n",
       "<p>5 rows × 22 columns</p>\n",
       "</div>"
      ],
      "text/plain": [
       "           date_posted  days_listed  last_price  bedrooms  kitchen_area  \\\n",
       "0  2019-03-07T00:00:00          NaN      260000         3          25.0   \n",
       "1  2018-12-04T00:00:00         81.0       67000         1          11.0   \n",
       "2  2015-08-20T00:00:00        558.0      103920         2           8.3   \n",
       "3  2015-07-24T00:00:00        424.0     1298000         3           NaN   \n",
       "4  2018-06-19T00:00:00        121.0      200000         2          41.0   \n",
       "\n",
       "   living_area  total_area  balconies  ceiling_height  floors_total  ...  \\\n",
       "0         51.0       108.0        NaN            2.70          16.0  ...   \n",
       "1         18.6        40.4        2.0             NaN          11.0  ...   \n",
       "2         34.3        56.0        0.0             NaN           5.0  ...   \n",
       "3          NaN       159.0        0.0             NaN          14.0  ...   \n",
       "4         32.0       100.0        NaN            3.03          14.0  ...   \n",
       "\n",
       "   bike_parking  is_studio is_open_plan     locality_name  airport_dist  \\\n",
       "0           NaN      False        False  Saint Petersburg       18863.0   \n",
       "1           NaN      False        False  Shushary village       12817.0   \n",
       "2           NaN      False        False  Saint Petersburg       21741.0   \n",
       "3           NaN      False        False  Saint Petersburg       28098.0   \n",
       "4           NaN      False        False  Saint Petersburg       31856.0   \n",
       "\n",
       "  city_center_dist  park_dist  parks_within_3000  pond_dist  ponds_within_3000  \n",
       "0          16028.0      482.0                1.0      755.0                2.0  \n",
       "1          18603.0        NaN                0.0        NaN                0.0  \n",
       "2          13933.0       90.0                1.0      574.0                2.0  \n",
       "3           6800.0       84.0                2.0      234.0                3.0  \n",
       "4           8098.0      112.0                2.0       48.0                1.0  \n",
       "\n",
       "[5 rows x 22 columns]"
      ]
     },
     "execution_count": 3,
     "metadata": {},
     "output_type": "execute_result"
    }
   ],
   "source": [
    "estate_data.head()"
   ]
  },
  {
   "cell_type": "code",
   "execution_count": 4,
   "metadata": {},
   "outputs": [
    {
     "data": {
      "text/html": [
       "<div>\n",
       "<style scoped>\n",
       "    .dataframe tbody tr th:only-of-type {\n",
       "        vertical-align: middle;\n",
       "    }\n",
       "\n",
       "    .dataframe tbody tr th {\n",
       "        vertical-align: top;\n",
       "    }\n",
       "\n",
       "    .dataframe thead th {\n",
       "        text-align: right;\n",
       "    }\n",
       "</style>\n",
       "<table border=\"1\" class=\"dataframe\">\n",
       "  <thead>\n",
       "    <tr style=\"text-align: right;\">\n",
       "      <th></th>\n",
       "      <th>days_listed</th>\n",
       "      <th>last_price</th>\n",
       "      <th>bedrooms</th>\n",
       "      <th>kitchen_area</th>\n",
       "      <th>living_area</th>\n",
       "      <th>total_area</th>\n",
       "      <th>balconies</th>\n",
       "      <th>ceiling_height</th>\n",
       "      <th>floors_total</th>\n",
       "      <th>floor</th>\n",
       "      <th>total_images</th>\n",
       "      <th>airport_dist</th>\n",
       "      <th>city_center_dist</th>\n",
       "      <th>park_dist</th>\n",
       "      <th>parks_within_3000</th>\n",
       "      <th>pond_dist</th>\n",
       "      <th>ponds_within_3000</th>\n",
       "    </tr>\n",
       "  </thead>\n",
       "  <tbody>\n",
       "    <tr>\n",
       "      <td>count</td>\n",
       "      <td>20518.000000</td>\n",
       "      <td>2.369900e+04</td>\n",
       "      <td>23699.000000</td>\n",
       "      <td>21421.000000</td>\n",
       "      <td>21796.000000</td>\n",
       "      <td>23699.000000</td>\n",
       "      <td>12180.000000</td>\n",
       "      <td>14504.000000</td>\n",
       "      <td>23613.000000</td>\n",
       "      <td>23699.000000</td>\n",
       "      <td>23699.000000</td>\n",
       "      <td>18157.000000</td>\n",
       "      <td>18180.000000</td>\n",
       "      <td>8079.000000</td>\n",
       "      <td>18181.000000</td>\n",
       "      <td>9110.000000</td>\n",
       "      <td>18181.000000</td>\n",
       "    </tr>\n",
       "    <tr>\n",
       "      <td>mean</td>\n",
       "      <td>180.888634</td>\n",
       "      <td>1.308310e+05</td>\n",
       "      <td>2.070636</td>\n",
       "      <td>10.569807</td>\n",
       "      <td>34.457852</td>\n",
       "      <td>60.348651</td>\n",
       "      <td>1.150082</td>\n",
       "      <td>2.771499</td>\n",
       "      <td>10.673824</td>\n",
       "      <td>5.892358</td>\n",
       "      <td>9.858475</td>\n",
       "      <td>28793.672193</td>\n",
       "      <td>14191.277833</td>\n",
       "      <td>490.804555</td>\n",
       "      <td>0.611408</td>\n",
       "      <td>517.980900</td>\n",
       "      <td>0.770255</td>\n",
       "    </tr>\n",
       "    <tr>\n",
       "      <td>std</td>\n",
       "      <td>219.727988</td>\n",
       "      <td>2.177403e+05</td>\n",
       "      <td>1.078405</td>\n",
       "      <td>5.905438</td>\n",
       "      <td>22.030445</td>\n",
       "      <td>35.654083</td>\n",
       "      <td>1.071300</td>\n",
       "      <td>1.261056</td>\n",
       "      <td>6.597173</td>\n",
       "      <td>4.885249</td>\n",
       "      <td>5.682529</td>\n",
       "      <td>12630.880622</td>\n",
       "      <td>8608.386210</td>\n",
       "      <td>342.317995</td>\n",
       "      <td>0.802074</td>\n",
       "      <td>277.720643</td>\n",
       "      <td>0.938346</td>\n",
       "    </tr>\n",
       "    <tr>\n",
       "      <td>min</td>\n",
       "      <td>1.000000</td>\n",
       "      <td>2.440000e+02</td>\n",
       "      <td>0.000000</td>\n",
       "      <td>1.300000</td>\n",
       "      <td>2.000000</td>\n",
       "      <td>12.000000</td>\n",
       "      <td>0.000000</td>\n",
       "      <td>1.000000</td>\n",
       "      <td>1.000000</td>\n",
       "      <td>1.000000</td>\n",
       "      <td>0.000000</td>\n",
       "      <td>0.000000</td>\n",
       "      <td>181.000000</td>\n",
       "      <td>1.000000</td>\n",
       "      <td>0.000000</td>\n",
       "      <td>13.000000</td>\n",
       "      <td>0.000000</td>\n",
       "    </tr>\n",
       "    <tr>\n",
       "      <td>25%</td>\n",
       "      <td>45.000000</td>\n",
       "      <td>6.800000e+04</td>\n",
       "      <td>1.000000</td>\n",
       "      <td>7.000000</td>\n",
       "      <td>18.600000</td>\n",
       "      <td>40.000000</td>\n",
       "      <td>0.000000</td>\n",
       "      <td>2.520000</td>\n",
       "      <td>5.000000</td>\n",
       "      <td>2.000000</td>\n",
       "      <td>6.000000</td>\n",
       "      <td>18585.000000</td>\n",
       "      <td>9238.000000</td>\n",
       "      <td>288.000000</td>\n",
       "      <td>0.000000</td>\n",
       "      <td>294.000000</td>\n",
       "      <td>0.000000</td>\n",
       "    </tr>\n",
       "    <tr>\n",
       "      <td>50%</td>\n",
       "      <td>95.000000</td>\n",
       "      <td>9.300000e+04</td>\n",
       "      <td>2.000000</td>\n",
       "      <td>9.100000</td>\n",
       "      <td>30.000000</td>\n",
       "      <td>52.000000</td>\n",
       "      <td>1.000000</td>\n",
       "      <td>2.650000</td>\n",
       "      <td>9.000000</td>\n",
       "      <td>4.000000</td>\n",
       "      <td>9.000000</td>\n",
       "      <td>26726.000000</td>\n",
       "      <td>13098.500000</td>\n",
       "      <td>455.000000</td>\n",
       "      <td>0.000000</td>\n",
       "      <td>502.000000</td>\n",
       "      <td>1.000000</td>\n",
       "    </tr>\n",
       "    <tr>\n",
       "      <td>75%</td>\n",
       "      <td>232.000000</td>\n",
       "      <td>1.360000e+05</td>\n",
       "      <td>3.000000</td>\n",
       "      <td>12.000000</td>\n",
       "      <td>42.300000</td>\n",
       "      <td>69.900000</td>\n",
       "      <td>2.000000</td>\n",
       "      <td>2.800000</td>\n",
       "      <td>16.000000</td>\n",
       "      <td>8.000000</td>\n",
       "      <td>14.000000</td>\n",
       "      <td>37273.000000</td>\n",
       "      <td>16293.000000</td>\n",
       "      <td>612.000000</td>\n",
       "      <td>1.000000</td>\n",
       "      <td>729.000000</td>\n",
       "      <td>1.000000</td>\n",
       "    </tr>\n",
       "    <tr>\n",
       "      <td>max</td>\n",
       "      <td>1580.000000</td>\n",
       "      <td>1.526000e+07</td>\n",
       "      <td>19.000000</td>\n",
       "      <td>112.000000</td>\n",
       "      <td>409.700000</td>\n",
       "      <td>900.000000</td>\n",
       "      <td>5.000000</td>\n",
       "      <td>100.000000</td>\n",
       "      <td>60.000000</td>\n",
       "      <td>33.000000</td>\n",
       "      <td>50.000000</td>\n",
       "      <td>84869.000000</td>\n",
       "      <td>65968.000000</td>\n",
       "      <td>3190.000000</td>\n",
       "      <td>3.000000</td>\n",
       "      <td>1344.000000</td>\n",
       "      <td>3.000000</td>\n",
       "    </tr>\n",
       "  </tbody>\n",
       "</table>\n",
       "</div>"
      ],
      "text/plain": [
       "        days_listed    last_price      bedrooms  kitchen_area   living_area  \\\n",
       "count  20518.000000  2.369900e+04  23699.000000  21421.000000  21796.000000   \n",
       "mean     180.888634  1.308310e+05      2.070636     10.569807     34.457852   \n",
       "std      219.727988  2.177403e+05      1.078405      5.905438     22.030445   \n",
       "min        1.000000  2.440000e+02      0.000000      1.300000      2.000000   \n",
       "25%       45.000000  6.800000e+04      1.000000      7.000000     18.600000   \n",
       "50%       95.000000  9.300000e+04      2.000000      9.100000     30.000000   \n",
       "75%      232.000000  1.360000e+05      3.000000     12.000000     42.300000   \n",
       "max     1580.000000  1.526000e+07     19.000000    112.000000    409.700000   \n",
       "\n",
       "         total_area     balconies  ceiling_height  floors_total         floor  \\\n",
       "count  23699.000000  12180.000000    14504.000000  23613.000000  23699.000000   \n",
       "mean      60.348651      1.150082        2.771499     10.673824      5.892358   \n",
       "std       35.654083      1.071300        1.261056      6.597173      4.885249   \n",
       "min       12.000000      0.000000        1.000000      1.000000      1.000000   \n",
       "25%       40.000000      0.000000        2.520000      5.000000      2.000000   \n",
       "50%       52.000000      1.000000        2.650000      9.000000      4.000000   \n",
       "75%       69.900000      2.000000        2.800000     16.000000      8.000000   \n",
       "max      900.000000      5.000000      100.000000     60.000000     33.000000   \n",
       "\n",
       "       total_images  airport_dist  city_center_dist    park_dist  \\\n",
       "count  23699.000000  18157.000000      18180.000000  8079.000000   \n",
       "mean       9.858475  28793.672193      14191.277833   490.804555   \n",
       "std        5.682529  12630.880622       8608.386210   342.317995   \n",
       "min        0.000000      0.000000        181.000000     1.000000   \n",
       "25%        6.000000  18585.000000       9238.000000   288.000000   \n",
       "50%        9.000000  26726.000000      13098.500000   455.000000   \n",
       "75%       14.000000  37273.000000      16293.000000   612.000000   \n",
       "max       50.000000  84869.000000      65968.000000  3190.000000   \n",
       "\n",
       "       parks_within_3000    pond_dist  ponds_within_3000  \n",
       "count       18181.000000  9110.000000       18181.000000  \n",
       "mean            0.611408   517.980900           0.770255  \n",
       "std             0.802074   277.720643           0.938346  \n",
       "min             0.000000    13.000000           0.000000  \n",
       "25%             0.000000   294.000000           0.000000  \n",
       "50%             0.000000   502.000000           1.000000  \n",
       "75%             1.000000   729.000000           1.000000  \n",
       "max             3.000000  1344.000000           3.000000  "
      ]
     },
     "execution_count": 4,
     "metadata": {},
     "output_type": "execute_result"
    }
   ],
   "source": [
    "estate_data.describe()"
   ]
  },
  {
   "cell_type": "markdown",
   "metadata": {},
   "source": [
    "There is quite weird min value in Ceiling_height, 1 m high can't be right."
   ]
  },
  {
   "cell_type": "markdown",
   "metadata": {},
   "source": [
    "### Conclusion"
   ]
  },
  {
   "cell_type": "markdown",
   "metadata": {},
   "source": [
    "The data is quite corrupted. We would need to change data types in a few columns, to process missing values before starting analysis."
   ]
  },
  {
   "cell_type": "markdown",
   "metadata": {},
   "source": [
    "### Step2"
   ]
  },
  {
   "cell_type": "markdown",
   "metadata": {},
   "source": [
    "Since we don't need all the columns for analysis, i will process only that ones i need. I will start with missing values in Days_listed"
   ]
  },
  {
   "cell_type": "code",
   "execution_count": 5,
   "metadata": {},
   "outputs": [
    {
     "data": {
      "text/plain": [
       "3181"
      ]
     },
     "execution_count": 5,
     "metadata": {},
     "output_type": "execute_result"
    }
   ],
   "source": [
    "estate_data['days_listed'].isnull().sum()"
   ]
  },
  {
   "cell_type": "markdown",
   "metadata": {},
   "source": [
    "Since there are some extreme values in the column, i assume, it's a good idea to fill cells with missing values with the median"
   ]
  },
  {
   "cell_type": "code",
   "execution_count": 6,
   "metadata": {},
   "outputs": [
    {
     "data": {
      "text/plain": [
       "95.0"
      ]
     },
     "execution_count": 6,
     "metadata": {},
     "output_type": "execute_result"
    }
   ],
   "source": [
    "days_listed_median = estate_data['days_listed'].median()\n",
    "days_listed_median"
   ]
  },
  {
   "cell_type": "code",
   "execution_count": 7,
   "metadata": {},
   "outputs": [
    {
     "data": {
      "text/plain": [
       "0"
      ]
     },
     "execution_count": 7,
     "metadata": {},
     "output_type": "execute_result"
    }
   ],
   "source": [
    "estate_data['days_listed'] = estate_data['days_listed'].fillna(value = days_listed_median)\n",
    "estate_data['days_listed'].isnull().sum()"
   ]
  },
  {
   "cell_type": "markdown",
   "metadata": {},
   "source": [
    "Next step is to fix Living_area and kitchen_area columns. Since there are quite different total areas in different flats, i can't just replace missing values with mean or median. Should try to find median ratios between total area and kitchen and total area and living area."
   ]
  },
  {
   "cell_type": "code",
   "execution_count": 8,
   "metadata": {},
   "outputs": [
    {
     "data": {
      "text/plain": [
       "0.5678598992678503"
      ]
     },
     "execution_count": 8,
     "metadata": {},
     "output_type": "execute_result"
    }
   ],
   "source": [
    "estate_data['living_ratio'] = estate_data['living_area'] / estate_data['total_area']\n",
    "estate_data['living_ratio'].median()"
   ]
  },
  {
   "cell_type": "code",
   "execution_count": 9,
   "metadata": {},
   "outputs": [
    {
     "data": {
      "text/plain": [
       "0    61.328869\n",
       "1    22.941540\n",
       "2    31.800154\n",
       "3    90.289724\n",
       "4    56.785990\n",
       "Name: total_area, dtype: float64"
      ]
     },
     "execution_count": 9,
     "metadata": {},
     "output_type": "execute_result"
    }
   ],
   "source": [
    "estate_data_living_median = estate_data['total_area'] * estate_data['living_ratio'].median()\n",
    "estate_data_living_median.head()"
   ]
  },
  {
   "cell_type": "code",
   "execution_count": 10,
   "metadata": {},
   "outputs": [
    {
     "data": {
      "text/plain": [
       "0"
      ]
     },
     "execution_count": 10,
     "metadata": {},
     "output_type": "execute_result"
    }
   ],
   "source": [
    "estate_data['living_area'] = estate_data['living_area'].fillna(value=estate_data_living_median)\n",
    "estate_data['living_area'].isnull().sum()"
   ]
  },
  {
   "cell_type": "code",
   "execution_count": 11,
   "metadata": {},
   "outputs": [
    {
     "data": {
      "text/plain": [
       "0"
      ]
     },
     "execution_count": 11,
     "metadata": {},
     "output_type": "execute_result"
    }
   ],
   "source": [
    "estate_data['kitchen_ratio'] = estate_data['kitchen_area'] / estate_data['total_area']\n",
    "estate_data['kitchen_ratio'].median()\n",
    "estate_data_kitchen_median = estate_data['total_area'] * estate_data['kitchen_ratio'].median()\n",
    "estate_data['kitchen_area'] = estate_data['kitchen_area'].fillna(value=estate_data_kitchen_median)\n",
    "estate_data['kitchen_area'].isnull().sum()"
   ]
  },
  {
   "cell_type": "code",
   "execution_count": 12,
   "metadata": {},
   "outputs": [
    {
     "data": {
      "text/plain": [
       "2.50      3515\n",
       "2.60      1646\n",
       "2.70      1574\n",
       "3.00      1112\n",
       "2.80       993\n",
       "          ... \n",
       "27.50        1\n",
       "5.00         1\n",
       "3.59         1\n",
       "4.80         1\n",
       "100.00       1\n",
       "Name: ceiling_height, Length: 183, dtype: int64"
      ]
     },
     "execution_count": 12,
     "metadata": {},
     "output_type": "execute_result"
    }
   ],
   "source": [
    "estate_data['ceiling_height'].value_counts()"
   ]
  },
  {
   "cell_type": "code",
   "execution_count": 13,
   "metadata": {},
   "outputs": [
    {
     "data": {
      "text/plain": [
       "9195"
      ]
     },
     "execution_count": 13,
     "metadata": {},
     "output_type": "execute_result"
    }
   ],
   "source": [
    "estate_data['ceiling_height'].isnull().sum()"
   ]
  },
  {
   "cell_type": "markdown",
   "metadata": {},
   "source": [
    "Ceiling_height contains some strange values, like 100m or 1m, and there are 9195 missing values, quite a big number. So far we can say, what was the reason of such extreme values, maybe just a typo during the input, so i'm going to replace cells with missing values with the median value of the column."
   ]
  },
  {
   "cell_type": "code",
   "execution_count": 14,
   "metadata": {},
   "outputs": [
    {
     "data": {
      "text/plain": [
       "2.65"
      ]
     },
     "execution_count": 14,
     "metadata": {},
     "output_type": "execute_result"
    }
   ],
   "source": [
    "estate_ceiling_height_median = estate_data['ceiling_height'].median()\n",
    "estate_ceiling_height_median"
   ]
  },
  {
   "cell_type": "code",
   "execution_count": 15,
   "metadata": {},
   "outputs": [
    {
     "data": {
      "text/plain": [
       "0"
      ]
     },
     "execution_count": 15,
     "metadata": {},
     "output_type": "execute_result"
    }
   ],
   "source": [
    "estate_data['ceiling_height'] = estate_data['ceiling_height'].fillna(value=estate_ceiling_height_median)\n",
    "estate_data['ceiling_height'].isnull().sum()"
   ]
  },
  {
   "cell_type": "code",
   "execution_count": 16,
   "metadata": {},
   "outputs": [
    {
     "data": {
      "text/plain": [
       "86"
      ]
     },
     "execution_count": 16,
     "metadata": {},
     "output_type": "execute_result"
    }
   ],
   "source": [
    "estate_data['floors_total'].isnull().sum()"
   ]
  },
  {
   "cell_type": "markdown",
   "metadata": {},
   "source": [
    "Since i can't find out what is the total floors number for each building, and there are only 86 cells with missing values, i would try to fill it with the median value."
   ]
  },
  {
   "cell_type": "code",
   "execution_count": 17,
   "metadata": {},
   "outputs": [
    {
     "data": {
      "text/plain": [
       "9.0"
      ]
     },
     "execution_count": 17,
     "metadata": {},
     "output_type": "execute_result"
    }
   ],
   "source": [
    "estate_floors_total_median = estate_data['floors_total'].median()\n",
    "estate_floors_total_median"
   ]
  },
  {
   "cell_type": "code",
   "execution_count": 18,
   "metadata": {},
   "outputs": [
    {
     "data": {
      "text/plain": [
       "0"
      ]
     },
     "execution_count": 18,
     "metadata": {},
     "output_type": "execute_result"
    }
   ],
   "source": [
    "estate_data['floors_total'] = estate_data['floors_total'].fillna(value=estate_floors_total_median)\n",
    "estate_data['floors_total'].isnull().sum()"
   ]
  },
  {
   "cell_type": "markdown",
   "metadata": {},
   "source": [
    "For convenience of usage of data i will use .st.lower() method in Locality_name column "
   ]
  },
  {
   "cell_type": "code",
   "execution_count": 19,
   "metadata": {},
   "outputs": [
    {
     "data": {
      "text/plain": [
       "saint petersburg           15721\n",
       "murino village               556\n",
       "shushary village             440\n",
       "vsevolozhsk                  398\n",
       "pushkin                      369\n",
       "                           ...  \n",
       "sadko village                  1\n",
       "kotly village                  1\n",
       "lesnaya polyana village        1\n",
       "gladkoye village               1\n",
       "rappolovo village              1\n",
       "Name: locality_name, Length: 326, dtype: int64"
      ]
     },
     "execution_count": 19,
     "metadata": {},
     "output_type": "execute_result"
    }
   ],
   "source": [
    "estate_data['locality_name'] = estate_data['locality_name'].str.lower()\n",
    "estate_data['locality_name'].value_counts()"
   ]
  },
  {
   "cell_type": "code",
   "execution_count": 20,
   "metadata": {},
   "outputs": [
    {
     "data": {
      "text/plain": [
       "0"
      ]
     },
     "execution_count": 20,
     "metadata": {},
     "output_type": "execute_result"
    }
   ],
   "source": [
    "estate_data.duplicated().sum()"
   ]
  },
  {
   "cell_type": "code",
   "execution_count": 21,
   "metadata": {},
   "outputs": [
    {
     "data": {
      "text/plain": [
       "49"
      ]
     },
     "execution_count": 21,
     "metadata": {},
     "output_type": "execute_result"
    }
   ],
   "source": [
    "estate_data['locality_name'].isnull().sum()"
   ]
  },
  {
   "cell_type": "markdown",
   "metadata": {},
   "source": [
    "As we see, there are a few cells with missing values in this column, i will fill it with STp value, because the number of ads from STp is quite big, and in that case it will not affect the results."
   ]
  },
  {
   "cell_type": "code",
   "execution_count": 22,
   "metadata": {},
   "outputs": [
    {
     "data": {
      "text/plain": [
       "0"
      ]
     },
     "execution_count": 22,
     "metadata": {},
     "output_type": "execute_result"
    }
   ],
   "source": [
    "estate_data['locality_name'] = estate_data['locality_name'].fillna(value='saint petersburg')\n",
    "estate_data['locality_name'].isnull().sum()"
   ]
  },
  {
   "cell_type": "markdown",
   "metadata": {},
   "source": [
    "So far i need to change the data type in the Floors_total and Date_posted columns"
   ]
  },
  {
   "cell_type": "code",
   "execution_count": 23,
   "metadata": {},
   "outputs": [],
   "source": [
    "estate_data['floors_total'] = estate_data['floors_total'].astype(int)"
   ]
  },
  {
   "cell_type": "code",
   "execution_count": 24,
   "metadata": {},
   "outputs": [
    {
     "name": "stdout",
     "output_type": "stream",
     "text": [
      "<class 'pandas.core.frame.DataFrame'>\n",
      "RangeIndex: 23699 entries, 0 to 23698\n",
      "Data columns (total 24 columns):\n",
      "date_posted          23699 non-null datetime64[ns]\n",
      "days_listed          23699 non-null float64\n",
      "last_price           23699 non-null int64\n",
      "bedrooms             23699 non-null int64\n",
      "kitchen_area         23699 non-null float64\n",
      "living_area          23699 non-null float64\n",
      "total_area           23699 non-null float64\n",
      "balconies            12180 non-null float64\n",
      "ceiling_height       23699 non-null float64\n",
      "floors_total         23699 non-null int64\n",
      "floor                23699 non-null int64\n",
      "total_images         23699 non-null int64\n",
      "bike_parking         2775 non-null object\n",
      "is_studio            23699 non-null bool\n",
      "is_open_plan         23699 non-null bool\n",
      "locality_name        23699 non-null object\n",
      "airport_dist         18157 non-null float64\n",
      "city_center_dist     18180 non-null float64\n",
      "park_dist            8079 non-null float64\n",
      "parks_within_3000    18181 non-null float64\n",
      "pond_dist            9110 non-null float64\n",
      "ponds_within_3000    18181 non-null float64\n",
      "living_ratio         21796 non-null float64\n",
      "kitchen_ratio        21421 non-null float64\n",
      "dtypes: bool(2), datetime64[ns](1), float64(14), int64(5), object(2)\n",
      "memory usage: 4.0+ MB\n"
     ]
    }
   ],
   "source": [
    "estate_data['date_posted'] = pd.to_datetime(estate_data['date_posted'])\n",
    "estate_data.info()"
   ]
  },
  {
   "cell_type": "markdown",
   "metadata": {},
   "source": [
    "### Step3"
   ]
  },
  {
   "cell_type": "markdown",
   "metadata": {},
   "source": [
    "Let's make some calculations. First price per square meter."
   ]
  },
  {
   "cell_type": "code",
   "execution_count": 26,
   "metadata": {},
   "outputs": [
    {
     "data": {
      "text/html": [
       "<div>\n",
       "<style scoped>\n",
       "    .dataframe tbody tr th:only-of-type {\n",
       "        vertical-align: middle;\n",
       "    }\n",
       "\n",
       "    .dataframe tbody tr th {\n",
       "        vertical-align: top;\n",
       "    }\n",
       "\n",
       "    .dataframe thead th {\n",
       "        text-align: right;\n",
       "    }\n",
       "</style>\n",
       "<table border=\"1\" class=\"dataframe\">\n",
       "  <thead>\n",
       "    <tr style=\"text-align: right;\">\n",
       "      <th></th>\n",
       "      <th>date_posted</th>\n",
       "      <th>days_listed</th>\n",
       "      <th>last_price</th>\n",
       "      <th>bedrooms</th>\n",
       "      <th>kitchen_area</th>\n",
       "      <th>living_area</th>\n",
       "      <th>total_area</th>\n",
       "      <th>balconies</th>\n",
       "      <th>ceiling_height</th>\n",
       "      <th>floors_total</th>\n",
       "      <th>...</th>\n",
       "      <th>locality_name</th>\n",
       "      <th>airport_dist</th>\n",
       "      <th>city_center_dist</th>\n",
       "      <th>park_dist</th>\n",
       "      <th>parks_within_3000</th>\n",
       "      <th>pond_dist</th>\n",
       "      <th>ponds_within_3000</th>\n",
       "      <th>living_ratio</th>\n",
       "      <th>kitchen_ratio</th>\n",
       "      <th>price_per_meter</th>\n",
       "    </tr>\n",
       "  </thead>\n",
       "  <tbody>\n",
       "    <tr>\n",
       "      <td>0</td>\n",
       "      <td>2019-03-07</td>\n",
       "      <td>95.0</td>\n",
       "      <td>260000</td>\n",
       "      <td>3</td>\n",
       "      <td>25.000000</td>\n",
       "      <td>51.000000</td>\n",
       "      <td>108.0</td>\n",
       "      <td>NaN</td>\n",
       "      <td>2.70</td>\n",
       "      <td>16</td>\n",
       "      <td>...</td>\n",
       "      <td>saint petersburg</td>\n",
       "      <td>18863.0</td>\n",
       "      <td>16028.0</td>\n",
       "      <td>482.0</td>\n",
       "      <td>1.0</td>\n",
       "      <td>755.0</td>\n",
       "      <td>2.0</td>\n",
       "      <td>0.472222</td>\n",
       "      <td>0.231481</td>\n",
       "      <td>2407.407407</td>\n",
       "    </tr>\n",
       "    <tr>\n",
       "      <td>1</td>\n",
       "      <td>2018-12-04</td>\n",
       "      <td>81.0</td>\n",
       "      <td>67000</td>\n",
       "      <td>1</td>\n",
       "      <td>11.000000</td>\n",
       "      <td>18.600000</td>\n",
       "      <td>40.4</td>\n",
       "      <td>2.0</td>\n",
       "      <td>2.65</td>\n",
       "      <td>11</td>\n",
       "      <td>...</td>\n",
       "      <td>shushary village</td>\n",
       "      <td>12817.0</td>\n",
       "      <td>18603.0</td>\n",
       "      <td>NaN</td>\n",
       "      <td>0.0</td>\n",
       "      <td>NaN</td>\n",
       "      <td>0.0</td>\n",
       "      <td>0.460396</td>\n",
       "      <td>0.272277</td>\n",
       "      <td>1658.415842</td>\n",
       "    </tr>\n",
       "    <tr>\n",
       "      <td>2</td>\n",
       "      <td>2015-08-20</td>\n",
       "      <td>558.0</td>\n",
       "      <td>103920</td>\n",
       "      <td>2</td>\n",
       "      <td>8.300000</td>\n",
       "      <td>34.300000</td>\n",
       "      <td>56.0</td>\n",
       "      <td>0.0</td>\n",
       "      <td>2.65</td>\n",
       "      <td>5</td>\n",
       "      <td>...</td>\n",
       "      <td>saint petersburg</td>\n",
       "      <td>21741.0</td>\n",
       "      <td>13933.0</td>\n",
       "      <td>90.0</td>\n",
       "      <td>1.0</td>\n",
       "      <td>574.0</td>\n",
       "      <td>2.0</td>\n",
       "      <td>0.612500</td>\n",
       "      <td>0.148214</td>\n",
       "      <td>1855.714286</td>\n",
       "    </tr>\n",
       "    <tr>\n",
       "      <td>3</td>\n",
       "      <td>2015-07-24</td>\n",
       "      <td>424.0</td>\n",
       "      <td>1298000</td>\n",
       "      <td>3</td>\n",
       "      <td>27.413793</td>\n",
       "      <td>90.289724</td>\n",
       "      <td>159.0</td>\n",
       "      <td>0.0</td>\n",
       "      <td>2.65</td>\n",
       "      <td>14</td>\n",
       "      <td>...</td>\n",
       "      <td>saint petersburg</td>\n",
       "      <td>28098.0</td>\n",
       "      <td>6800.0</td>\n",
       "      <td>84.0</td>\n",
       "      <td>2.0</td>\n",
       "      <td>234.0</td>\n",
       "      <td>3.0</td>\n",
       "      <td>NaN</td>\n",
       "      <td>NaN</td>\n",
       "      <td>8163.522013</td>\n",
       "    </tr>\n",
       "    <tr>\n",
       "      <td>4</td>\n",
       "      <td>2018-06-19</td>\n",
       "      <td>121.0</td>\n",
       "      <td>200000</td>\n",
       "      <td>2</td>\n",
       "      <td>41.000000</td>\n",
       "      <td>32.000000</td>\n",
       "      <td>100.0</td>\n",
       "      <td>NaN</td>\n",
       "      <td>3.03</td>\n",
       "      <td>14</td>\n",
       "      <td>...</td>\n",
       "      <td>saint petersburg</td>\n",
       "      <td>31856.0</td>\n",
       "      <td>8098.0</td>\n",
       "      <td>112.0</td>\n",
       "      <td>2.0</td>\n",
       "      <td>48.0</td>\n",
       "      <td>1.0</td>\n",
       "      <td>0.320000</td>\n",
       "      <td>0.410000</td>\n",
       "      <td>2000.000000</td>\n",
       "    </tr>\n",
       "  </tbody>\n",
       "</table>\n",
       "<p>5 rows × 25 columns</p>\n",
       "</div>"
      ],
      "text/plain": [
       "  date_posted  days_listed  last_price  bedrooms  kitchen_area  living_area  \\\n",
       "0  2019-03-07         95.0      260000         3     25.000000    51.000000   \n",
       "1  2018-12-04         81.0       67000         1     11.000000    18.600000   \n",
       "2  2015-08-20        558.0      103920         2      8.300000    34.300000   \n",
       "3  2015-07-24        424.0     1298000         3     27.413793    90.289724   \n",
       "4  2018-06-19        121.0      200000         2     41.000000    32.000000   \n",
       "\n",
       "   total_area  balconies  ceiling_height  floors_total  ...     locality_name  \\\n",
       "0       108.0        NaN            2.70            16  ...  saint petersburg   \n",
       "1        40.4        2.0            2.65            11  ...  shushary village   \n",
       "2        56.0        0.0            2.65             5  ...  saint petersburg   \n",
       "3       159.0        0.0            2.65            14  ...  saint petersburg   \n",
       "4       100.0        NaN            3.03            14  ...  saint petersburg   \n",
       "\n",
       "   airport_dist city_center_dist  park_dist  parks_within_3000 pond_dist  \\\n",
       "0       18863.0          16028.0      482.0                1.0     755.0   \n",
       "1       12817.0          18603.0        NaN                0.0       NaN   \n",
       "2       21741.0          13933.0       90.0                1.0     574.0   \n",
       "3       28098.0           6800.0       84.0                2.0     234.0   \n",
       "4       31856.0           8098.0      112.0                2.0      48.0   \n",
       "\n",
       "   ponds_within_3000  living_ratio  kitchen_ratio  price_per_meter  \n",
       "0                2.0      0.472222       0.231481      2407.407407  \n",
       "1                0.0      0.460396       0.272277      1658.415842  \n",
       "2                2.0      0.612500       0.148214      1855.714286  \n",
       "3                3.0           NaN            NaN      8163.522013  \n",
       "4                1.0      0.320000       0.410000      2000.000000  \n",
       "\n",
       "[5 rows x 25 columns]"
      ]
     },
     "execution_count": 26,
     "metadata": {},
     "output_type": "execute_result"
    }
   ],
   "source": [
    "estate_data['price_per_meter'] = estate_data['last_price'] / estate_data['total_area']\n",
    "estate_data.head()"
   ]
  },
  {
   "cell_type": "markdown",
   "metadata": {},
   "source": [
    "Second: day, month and year of publication. After changing data type to datetime type i can use dt.weekday, dt.month and dt.year"
   ]
  },
  {
   "cell_type": "code",
   "execution_count": 27,
   "metadata": {},
   "outputs": [
    {
     "data": {
      "text/plain": [
       "0    3\n",
       "1    1\n",
       "2    3\n",
       "3    4\n",
       "4    1\n",
       "Name: day_posted, dtype: int64"
      ]
     },
     "execution_count": 27,
     "metadata": {},
     "output_type": "execute_result"
    }
   ],
   "source": [
    "estate_data['day_posted'] = estate_data['date_posted'].dt.weekday\n",
    "estate_data['day_posted'].head()"
   ]
  },
  {
   "cell_type": "code",
   "execution_count": 28,
   "metadata": {},
   "outputs": [
    {
     "data": {
      "text/plain": [
       "0     3\n",
       "1    12\n",
       "2     8\n",
       "3     7\n",
       "4     6\n",
       "Name: month_posted, dtype: int64"
      ]
     },
     "execution_count": 28,
     "metadata": {},
     "output_type": "execute_result"
    }
   ],
   "source": [
    "estate_data['month_posted'] = estate_data['date_posted'].dt.month\n",
    "estate_data['month_posted'].head()"
   ]
  },
  {
   "cell_type": "code",
   "execution_count": 29,
   "metadata": {},
   "outputs": [
    {
     "data": {
      "text/plain": [
       "0    2019\n",
       "1    2018\n",
       "2    2015\n",
       "3    2015\n",
       "4    2018\n",
       "Name: year_posted, dtype: int64"
      ]
     },
     "execution_count": 29,
     "metadata": {},
     "output_type": "execute_result"
    }
   ],
   "source": [
    "estate_data['year_posted'] = estate_data['date_posted'].dt.year\n",
    "estate_data['year_posted'].head()"
   ]
  },
  {
   "cell_type": "code",
   "execution_count": 30,
   "metadata": {},
   "outputs": [
    {
     "data": {
      "text/plain": [
       "floor_grouped\n",
       "first     2917\n",
       "last      3341\n",
       "other    17441\n",
       "Name: floor, dtype: int64"
      ]
     },
     "execution_count": 30,
     "metadata": {},
     "output_type": "execute_result"
    }
   ],
   "source": [
    "def floor_grouped(row):\n",
    "    \n",
    "    floor = row['floor']\n",
    "    floors_total = row['floors_total']\n",
    "    \n",
    "    if floor == 1:\n",
    "        return 'first'\n",
    "    elif floor != 1:\n",
    "        if floor == floors_total:\n",
    "            return 'last'\n",
    "        else:\n",
    "            return 'other'\n",
    "\n",
    "estate_data['floor_grouped'] = estate_data.apply(floor_grouped, axis=1)\n",
    "estate_data.groupby('floor_grouped')['floor'].count()\n"
   ]
  },
  {
   "cell_type": "code",
   "execution_count": 31,
   "metadata": {},
   "outputs": [
    {
     "data": {
      "text/plain": [
       "2917"
      ]
     },
     "execution_count": 31,
     "metadata": {},
     "output_type": "execute_result"
    }
   ],
   "source": [
    "first_floor_check = estate_data.query('floor == 1')\n",
    "first_floor_check.shape[0]"
   ]
  },
  {
   "cell_type": "markdown",
   "metadata": {},
   "source": [
    "I already have columns with living and kitchen ratios, but there are missing values because i'd counted them before i filled in missing values in living_area and kitchen_area. So i will repeat the code to count it again with all values."
   ]
  },
  {
   "cell_type": "code",
   "execution_count": 32,
   "metadata": {},
   "outputs": [
    {
     "name": "stdout",
     "output_type": "stream",
     "text": [
      "<class 'pandas.core.frame.DataFrame'>\n",
      "RangeIndex: 23699 entries, 0 to 23698\n",
      "Data columns (total 29 columns):\n",
      "date_posted          23699 non-null datetime64[ns]\n",
      "days_listed          23699 non-null float64\n",
      "last_price           23699 non-null int64\n",
      "bedrooms             23699 non-null int64\n",
      "kitchen_area         23699 non-null float64\n",
      "living_area          23699 non-null float64\n",
      "total_area           23699 non-null float64\n",
      "balconies            12180 non-null float64\n",
      "ceiling_height       23699 non-null float64\n",
      "floors_total         23699 non-null int64\n",
      "floor                23699 non-null int64\n",
      "total_images         23699 non-null int64\n",
      "bike_parking         2775 non-null object\n",
      "is_studio            23699 non-null bool\n",
      "is_open_plan         23699 non-null bool\n",
      "locality_name        23699 non-null object\n",
      "airport_dist         18157 non-null float64\n",
      "city_center_dist     18180 non-null float64\n",
      "park_dist            8079 non-null float64\n",
      "parks_within_3000    18181 non-null float64\n",
      "pond_dist            9110 non-null float64\n",
      "ponds_within_3000    18181 non-null float64\n",
      "living_ratio         23699 non-null float64\n",
      "kitchen_ratio        23699 non-null float64\n",
      "price_per_meter      23699 non-null float64\n",
      "day_posted           23699 non-null int64\n",
      "month_posted         23699 non-null int64\n",
      "year_posted          23699 non-null int64\n",
      "floor_grouped        23699 non-null object\n",
      "dtypes: bool(2), datetime64[ns](1), float64(15), int64(8), object(3)\n",
      "memory usage: 4.9+ MB\n"
     ]
    }
   ],
   "source": [
    "estate_data['living_ratio'] = estate_data['living_area'] / estate_data['total_area']\n",
    "estate_data['kitchen_ratio'] = estate_data['kitchen_area'] / estate_data['total_area']\n",
    "estate_data.info()"
   ]
  },
  {
   "cell_type": "markdown",
   "metadata": {},
   "source": [
    "### Step4"
   ]
  },
  {
   "cell_type": "markdown",
   "metadata": {},
   "source": [
    "Now i need to investigate the data in Total_area, Ceiling_height, Bedrooms and Last_price. Let's begin with Total_area"
   ]
  },
  {
   "cell_type": "code",
   "execution_count": 33,
   "metadata": {},
   "outputs": [
    {
     "data": {
      "text/plain": [
       "count    23699.000000\n",
       "mean        60.348651\n",
       "std         35.654083\n",
       "min         12.000000\n",
       "25%         40.000000\n",
       "50%         52.000000\n",
       "75%         69.900000\n",
       "max        900.000000\n",
       "Name: total_area, dtype: float64"
      ]
     },
     "execution_count": 33,
     "metadata": {},
     "output_type": "execute_result"
    }
   ],
   "source": [
    "estate_data['total_area'].describe()\n"
   ]
  },
  {
   "cell_type": "code",
   "execution_count": 34,
   "metadata": {},
   "outputs": [
    {
     "data": {
      "text/plain": [
       "<matplotlib.axes._subplots.AxesSubplot at 0x7f6487f25ed0>"
      ]
     },
     "execution_count": 34,
     "metadata": {},
     "output_type": "execute_result"
    },
    {
     "data": {
      "image/png": "[encoded data removed]",
      "text/plain": [
       "<Figure size 432x288 with 1 Axes>"
      ]
     },
     "metadata": {
      "needs_background": "light"
     },
     "output_type": "display_data"
    }
   ],
   "source": [
    "estate_data['total_area'].hist(bins=200, range=(12, 600))"
   ]
  },
  {
   "cell_type": "code",
   "execution_count": 35,
   "metadata": {
    "scrolled": true
   },
   "outputs": [
    {
     "data": {
      "text/html": [
       "<div>\n",
       "<style scoped>\n",
       "    .dataframe tbody tr th:only-of-type {\n",
       "        vertical-align: middle;\n",
       "    }\n",
       "\n",
       "    .dataframe tbody tr th {\n",
       "        vertical-align: top;\n",
       "    }\n",
       "\n",
       "    .dataframe thead th {\n",
       "        text-align: right;\n",
       "    }\n",
       "</style>\n",
       "<table border=\"1\" class=\"dataframe\">\n",
       "  <thead>\n",
       "    <tr style=\"text-align: right;\">\n",
       "      <th></th>\n",
       "      <th>date_posted</th>\n",
       "      <th>days_listed</th>\n",
       "      <th>last_price</th>\n",
       "      <th>bedrooms</th>\n",
       "      <th>kitchen_area</th>\n",
       "      <th>living_area</th>\n",
       "      <th>total_area</th>\n",
       "      <th>balconies</th>\n",
       "      <th>ceiling_height</th>\n",
       "      <th>floors_total</th>\n",
       "      <th>...</th>\n",
       "      <th>parks_within_3000</th>\n",
       "      <th>pond_dist</th>\n",
       "      <th>ponds_within_3000</th>\n",
       "      <th>living_ratio</th>\n",
       "      <th>kitchen_ratio</th>\n",
       "      <th>price_per_meter</th>\n",
       "      <th>day_posted</th>\n",
       "      <th>month_posted</th>\n",
       "      <th>year_posted</th>\n",
       "      <th>floor_grouped</th>\n",
       "    </tr>\n",
       "  </thead>\n",
       "  <tbody>\n",
       "    <tr>\n",
       "      <td>19540</td>\n",
       "      <td>2017-12-06</td>\n",
       "      <td>106.0</td>\n",
       "      <td>8400000</td>\n",
       "      <td>12</td>\n",
       "      <td>112.000000</td>\n",
       "      <td>409.700000</td>\n",
       "      <td>900.0</td>\n",
       "      <td>NaN</td>\n",
       "      <td>2.80</td>\n",
       "      <td>25</td>\n",
       "      <td>...</td>\n",
       "      <td>0.0</td>\n",
       "      <td>318.0</td>\n",
       "      <td>2.0</td>\n",
       "      <td>0.455222</td>\n",
       "      <td>0.124444</td>\n",
       "      <td>9333.333333</td>\n",
       "      <td>2</td>\n",
       "      <td>12</td>\n",
       "      <td>2017</td>\n",
       "      <td>last</td>\n",
       "    </tr>\n",
       "    <tr>\n",
       "      <td>12859</td>\n",
       "      <td>2019-04-09</td>\n",
       "      <td>95.0</td>\n",
       "      <td>2800000</td>\n",
       "      <td>7</td>\n",
       "      <td>19.500000</td>\n",
       "      <td>322.300000</td>\n",
       "      <td>631.2</td>\n",
       "      <td>1.0</td>\n",
       "      <td>3.90</td>\n",
       "      <td>4</td>\n",
       "      <td>...</td>\n",
       "      <td>0.0</td>\n",
       "      <td>210.0</td>\n",
       "      <td>2.0</td>\n",
       "      <td>0.510615</td>\n",
       "      <td>0.030894</td>\n",
       "      <td>4435.994930</td>\n",
       "      <td>1</td>\n",
       "      <td>4</td>\n",
       "      <td>2019</td>\n",
       "      <td>last</td>\n",
       "    </tr>\n",
       "    <tr>\n",
       "      <td>3117</td>\n",
       "      <td>2019-03-30</td>\n",
       "      <td>95.0</td>\n",
       "      <td>2800000</td>\n",
       "      <td>7</td>\n",
       "      <td>60.000000</td>\n",
       "      <td>358.319596</td>\n",
       "      <td>631.0</td>\n",
       "      <td>NaN</td>\n",
       "      <td>2.65</td>\n",
       "      <td>5</td>\n",
       "      <td>...</td>\n",
       "      <td>0.0</td>\n",
       "      <td>210.0</td>\n",
       "      <td>2.0</td>\n",
       "      <td>0.567860</td>\n",
       "      <td>0.095087</td>\n",
       "      <td>4437.400951</td>\n",
       "      <td>5</td>\n",
       "      <td>3</td>\n",
       "      <td>2019</td>\n",
       "      <td>last</td>\n",
       "    </tr>\n",
       "    <tr>\n",
       "      <td>15651</td>\n",
       "      <td>2017-12-18</td>\n",
       "      <td>111.0</td>\n",
       "      <td>6000000</td>\n",
       "      <td>7</td>\n",
       "      <td>70.000000</td>\n",
       "      <td>258.000000</td>\n",
       "      <td>618.0</td>\n",
       "      <td>NaN</td>\n",
       "      <td>3.40</td>\n",
       "      <td>7</td>\n",
       "      <td>...</td>\n",
       "      <td>0.0</td>\n",
       "      <td>198.0</td>\n",
       "      <td>2.0</td>\n",
       "      <td>0.417476</td>\n",
       "      <td>0.113269</td>\n",
       "      <td>9708.737864</td>\n",
       "      <td>0</td>\n",
       "      <td>12</td>\n",
       "      <td>2017</td>\n",
       "      <td>other</td>\n",
       "    </tr>\n",
       "    <tr>\n",
       "      <td>5358</td>\n",
       "      <td>2019-02-14</td>\n",
       "      <td>14.0</td>\n",
       "      <td>1300000</td>\n",
       "      <td>15</td>\n",
       "      <td>100.000000</td>\n",
       "      <td>409.000000</td>\n",
       "      <td>590.0</td>\n",
       "      <td>NaN</td>\n",
       "      <td>3.50</td>\n",
       "      <td>6</td>\n",
       "      <td>...</td>\n",
       "      <td>1.0</td>\n",
       "      <td>NaN</td>\n",
       "      <td>0.0</td>\n",
       "      <td>0.693220</td>\n",
       "      <td>0.169492</td>\n",
       "      <td>2203.389831</td>\n",
       "      <td>3</td>\n",
       "      <td>2</td>\n",
       "      <td>2019</td>\n",
       "      <td>other</td>\n",
       "    </tr>\n",
       "    <tr>\n",
       "      <td>4237</td>\n",
       "      <td>2017-10-14</td>\n",
       "      <td>95.0</td>\n",
       "      <td>1000000</td>\n",
       "      <td>7</td>\n",
       "      <td>22.000000</td>\n",
       "      <td>332.000000</td>\n",
       "      <td>517.0</td>\n",
       "      <td>NaN</td>\n",
       "      <td>2.65</td>\n",
       "      <td>4</td>\n",
       "      <td>...</td>\n",
       "      <td>2.0</td>\n",
       "      <td>540.0</td>\n",
       "      <td>2.0</td>\n",
       "      <td>0.642166</td>\n",
       "      <td>0.042553</td>\n",
       "      <td>1934.235977</td>\n",
       "      <td>5</td>\n",
       "      <td>10</td>\n",
       "      <td>2017</td>\n",
       "      <td>other</td>\n",
       "    </tr>\n",
       "    <tr>\n",
       "      <td>8018</td>\n",
       "      <td>2015-12-17</td>\n",
       "      <td>1078.0</td>\n",
       "      <td>1680000</td>\n",
       "      <td>5</td>\n",
       "      <td>45.500000</td>\n",
       "      <td>301.500000</td>\n",
       "      <td>507.0</td>\n",
       "      <td>1.0</td>\n",
       "      <td>4.45</td>\n",
       "      <td>7</td>\n",
       "      <td>...</td>\n",
       "      <td>2.0</td>\n",
       "      <td>NaN</td>\n",
       "      <td>0.0</td>\n",
       "      <td>0.594675</td>\n",
       "      <td>0.089744</td>\n",
       "      <td>3313.609467</td>\n",
       "      <td>3</td>\n",
       "      <td>12</td>\n",
       "      <td>2015</td>\n",
       "      <td>last</td>\n",
       "    </tr>\n",
       "    <tr>\n",
       "      <td>5893</td>\n",
       "      <td>2017-05-31</td>\n",
       "      <td>50.0</td>\n",
       "      <td>4600000</td>\n",
       "      <td>6</td>\n",
       "      <td>40.000000</td>\n",
       "      <td>283.929950</td>\n",
       "      <td>500.0</td>\n",
       "      <td>0.0</td>\n",
       "      <td>2.65</td>\n",
       "      <td>7</td>\n",
       "      <td>...</td>\n",
       "      <td>0.0</td>\n",
       "      <td>198.0</td>\n",
       "      <td>2.0</td>\n",
       "      <td>0.567860</td>\n",
       "      <td>0.080000</td>\n",
       "      <td>9200.000000</td>\n",
       "      <td>2</td>\n",
       "      <td>5</td>\n",
       "      <td>2017</td>\n",
       "      <td>last</td>\n",
       "    </tr>\n",
       "    <tr>\n",
       "      <td>15016</td>\n",
       "      <td>2016-01-13</td>\n",
       "      <td>303.0</td>\n",
       "      <td>3000000</td>\n",
       "      <td>4</td>\n",
       "      <td>86.206897</td>\n",
       "      <td>283.929950</td>\n",
       "      <td>500.0</td>\n",
       "      <td>0.0</td>\n",
       "      <td>3.20</td>\n",
       "      <td>7</td>\n",
       "      <td>...</td>\n",
       "      <td>3.0</td>\n",
       "      <td>531.0</td>\n",
       "      <td>3.0</td>\n",
       "      <td>0.567860</td>\n",
       "      <td>0.172414</td>\n",
       "      <td>6000.000000</td>\n",
       "      <td>2</td>\n",
       "      <td>1</td>\n",
       "      <td>2016</td>\n",
       "      <td>last</td>\n",
       "    </tr>\n",
       "    <tr>\n",
       "      <td>12401</td>\n",
       "      <td>2017-06-19</td>\n",
       "      <td>14.0</td>\n",
       "      <td>1830000</td>\n",
       "      <td>7</td>\n",
       "      <td>25.000000</td>\n",
       "      <td>347.500000</td>\n",
       "      <td>495.0</td>\n",
       "      <td>0.0</td>\n",
       "      <td>4.65</td>\n",
       "      <td>7</td>\n",
       "      <td>...</td>\n",
       "      <td>2.0</td>\n",
       "      <td>NaN</td>\n",
       "      <td>0.0</td>\n",
       "      <td>0.702020</td>\n",
       "      <td>0.050505</td>\n",
       "      <td>3696.969697</td>\n",
       "      <td>0</td>\n",
       "      <td>6</td>\n",
       "      <td>2017</td>\n",
       "      <td>last</td>\n",
       "    </tr>\n",
       "  </tbody>\n",
       "</table>\n",
       "<p>10 rows × 29 columns</p>\n",
       "</div>"
      ],
      "text/plain": [
       "      date_posted  days_listed  last_price  bedrooms  kitchen_area  \\\n",
       "19540  2017-12-06        106.0     8400000        12    112.000000   \n",
       "12859  2019-04-09         95.0     2800000         7     19.500000   \n",
       "3117   2019-03-30         95.0     2800000         7     60.000000   \n",
       "15651  2017-12-18        111.0     6000000         7     70.000000   \n",
       "5358   2019-02-14         14.0     1300000        15    100.000000   \n",
       "4237   2017-10-14         95.0     1000000         7     22.000000   \n",
       "8018   2015-12-17       1078.0     1680000         5     45.500000   \n",
       "5893   2017-05-31         50.0     4600000         6     40.000000   \n",
       "15016  2016-01-13        303.0     3000000         4     86.206897   \n",
       "12401  2017-06-19         14.0     1830000         7     25.000000   \n",
       "\n",
       "       living_area  total_area  balconies  ceiling_height  floors_total  ...  \\\n",
       "19540   409.700000       900.0        NaN            2.80            25  ...   \n",
       "12859   322.300000       631.2        1.0            3.90             4  ...   \n",
       "3117    358.319596       631.0        NaN            2.65             5  ...   \n",
       "15651   258.000000       618.0        NaN            3.40             7  ...   \n",
       "5358    409.000000       590.0        NaN            3.50             6  ...   \n",
       "4237    332.000000       517.0        NaN            2.65             4  ...   \n",
       "8018    301.500000       507.0        1.0            4.45             7  ...   \n",
       "5893    283.929950       500.0        0.0            2.65             7  ...   \n",
       "15016   283.929950       500.0        0.0            3.20             7  ...   \n",
       "12401   347.500000       495.0        0.0            4.65             7  ...   \n",
       "\n",
       "       parks_within_3000  pond_dist ponds_within_3000  living_ratio  \\\n",
       "19540                0.0      318.0               2.0      0.455222   \n",
       "12859                0.0      210.0               2.0      0.510615   \n",
       "3117                 0.0      210.0               2.0      0.567860   \n",
       "15651                0.0      198.0               2.0      0.417476   \n",
       "5358                 1.0        NaN               0.0      0.693220   \n",
       "4237                 2.0      540.0               2.0      0.642166   \n",
       "8018                 2.0        NaN               0.0      0.594675   \n",
       "5893                 0.0      198.0               2.0      0.567860   \n",
       "15016                3.0      531.0               3.0      0.567860   \n",
       "12401                2.0        NaN               0.0      0.702020   \n",
       "\n",
       "       kitchen_ratio price_per_meter  day_posted  month_posted  year_posted  \\\n",
       "19540       0.124444     9333.333333           2            12         2017   \n",
       "12859       0.030894     4435.994930           1             4         2019   \n",
       "3117        0.095087     4437.400951           5             3         2019   \n",
       "15651       0.113269     9708.737864           0            12         2017   \n",
       "5358        0.169492     2203.389831           3             2         2019   \n",
       "4237        0.042553     1934.235977           5            10         2017   \n",
       "8018        0.089744     3313.609467           3            12         2015   \n",
       "5893        0.080000     9200.000000           2             5         2017   \n",
       "15016       0.172414     6000.000000           2             1         2016   \n",
       "12401       0.050505     3696.969697           0             6         2017   \n",
       "\n",
       "       floor_grouped  \n",
       "19540           last  \n",
       "12859           last  \n",
       "3117            last  \n",
       "15651          other  \n",
       "5358           other  \n",
       "4237           other  \n",
       "8018            last  \n",
       "5893            last  \n",
       "15016           last  \n",
       "12401           last  \n",
       "\n",
       "[10 rows x 29 columns]"
      ]
     },
     "execution_count": 35,
     "metadata": {},
     "output_type": "execute_result"
    }
   ],
   "source": [
    "estate_data.sort_values(by='total_area', ascending=False).head(10)"
   ]
  },
  {
   "cell_type": "markdown",
   "metadata": {},
   "source": [
    "There are a number of extreme values in the table, but it is difficult to guess how wrong they are. Since the total area in such apartments is correlated with the kitchen area and living area, as well as with the number of rooms, they can hardly be called a typo."
   ]
  },
  {
   "cell_type": "code",
   "execution_count": 36,
   "metadata": {},
   "outputs": [
    {
     "data": {
      "text/plain": [
       "date_posted          1062\n",
       "days_listed          1062\n",
       "last_price           1062\n",
       "bedrooms             1062\n",
       "kitchen_area         1062\n",
       "living_area          1062\n",
       "total_area           1062\n",
       "balconies             473\n",
       "ceiling_height       1062\n",
       "floors_total         1062\n",
       "floor                1062\n",
       "total_images         1062\n",
       "bike_parking          134\n",
       "is_studio            1062\n",
       "is_open_plan         1062\n",
       "locality_name        1062\n",
       "airport_dist         1024\n",
       "city_center_dist     1028\n",
       "park_dist             687\n",
       "parks_within_3000    1028\n",
       "pond_dist             696\n",
       "ponds_within_3000    1028\n",
       "living_ratio         1062\n",
       "kitchen_ratio        1062\n",
       "price_per_meter      1062\n",
       "day_posted           1062\n",
       "month_posted         1062\n",
       "year_posted          1062\n",
       "floor_grouped        1062\n",
       "dtype: int64"
      ]
     },
     "execution_count": 36,
     "metadata": {},
     "output_type": "execute_result"
    }
   ],
   "source": [
    "estate_data[estate_data['total_area'] > 120].count()"
   ]
  },
  {
   "cell_type": "markdown",
   "metadata": {},
   "source": [
    "Since apartments with an area of more than 120 meters are only about 4%, they can be ignored. I'll create a slice without this data."
   ]
  },
  {
   "cell_type": "code",
   "execution_count": 37,
   "metadata": {},
   "outputs": [
    {
     "data": {
      "text/plain": [
       "22637"
      ]
     },
     "execution_count": 37,
     "metadata": {},
     "output_type": "execute_result"
    }
   ],
   "source": [
    "estate_data_total_area = estate_data.query('total_area <= 120')\n",
    "estate_data_total_area.shape[0]"
   ]
  },
  {
   "cell_type": "code",
   "execution_count": 38,
   "metadata": {},
   "outputs": [
    {
     "data": {
      "text/plain": [
       "count    23699.000000\n",
       "mean         2.724358\n",
       "std          0.988298\n",
       "min          1.000000\n",
       "25%          2.600000\n",
       "50%          2.650000\n",
       "75%          2.700000\n",
       "max        100.000000\n",
       "Name: ceiling_height, dtype: float64"
      ]
     },
     "execution_count": 38,
     "metadata": {},
     "output_type": "execute_result"
    }
   ],
   "source": [
    "estate_data['ceiling_height'].describe()"
   ]
  },
  {
   "cell_type": "code",
   "execution_count": 39,
   "metadata": {},
   "outputs": [
    {
     "data": {
      "text/plain": [
       "<matplotlib.axes._subplots.AxesSubplot at 0x7f648775be90>"
      ]
     },
     "execution_count": 39,
     "metadata": {},
     "output_type": "execute_result"
    },
    {
     "data": {
      "image/png": "[encoded data removed]",
      "text/plain": [
       "<Figure size 432x288 with 1 Axes>"
      ]
     },
     "metadata": {
      "needs_background": "light"
     },
     "output_type": "display_data"
    }
   ],
   "source": [
    "estate_data['ceiling_height'].hist(bins=200, range=(1, 100))"
   ]
  },
  {
   "cell_type": "code",
   "execution_count": 40,
   "metadata": {},
   "outputs": [
    {
     "data": {
      "text/plain": [
       "22533"
      ]
     },
     "execution_count": 40,
     "metadata": {},
     "output_type": "execute_result"
    }
   ],
   "source": [
    "estate_good_data = estate_data_total_area.query('2.50 <= ceiling_height <= 5.00')\n",
    "estate_good_data.shape[0]"
   ]
  },
  {
   "cell_type": "markdown",
   "metadata": {},
   "source": [
    "Since the ceiling heights of 1 m and 100 m are definitely unrealistic, perhaps there was some mistake in the data entry process, I sorted the data by the ceiling height, which is adequate, and did this also in the previous slice, so that I could use it later for analysis."
   ]
  },
  {
   "cell_type": "code",
   "execution_count": 41,
   "metadata": {},
   "outputs": [
    {
     "data": {
      "text/plain": [
       "count    23699.000000\n",
       "mean         2.070636\n",
       "std          1.078405\n",
       "min          0.000000\n",
       "25%          1.000000\n",
       "50%          2.000000\n",
       "75%          3.000000\n",
       "max         19.000000\n",
       "Name: bedrooms, dtype: float64"
      ]
     },
     "execution_count": 41,
     "metadata": {},
     "output_type": "execute_result"
    }
   ],
   "source": [
    "estate_data['bedrooms'].describe()"
   ]
  },
  {
   "cell_type": "code",
   "execution_count": 42,
   "metadata": {},
   "outputs": [
    {
     "data": {
      "text/plain": [
       "<matplotlib.axes._subplots.AxesSubplot at 0x7f6484d61090>"
      ]
     },
     "execution_count": 42,
     "metadata": {},
     "output_type": "execute_result"
    },
    {
     "data": {
      "image/png": "[encoded data removed]",
      "text/plain": [
       "<Figure size 432x288 with 1 Axes>"
      ]
     },
     "metadata": {
      "needs_background": "light"
     },
     "output_type": "display_data"
    }
   ],
   "source": [
    "estate_data['bedrooms'].hist(bins=200, range=(0, 19))"
   ]
  },
  {
   "cell_type": "markdown",
   "metadata": {},
   "source": [
    "19 rooms is a fairly large number, but most likely such values were sorted along with a large area. Let's check. "
   ]
  },
  {
   "cell_type": "code",
   "execution_count": 43,
   "metadata": {},
   "outputs": [
    {
     "data": {
      "text/plain": [
       "count    22533.000000\n",
       "mean         1.961301\n",
       "std          0.910329\n",
       "min          0.000000\n",
       "25%          1.000000\n",
       "50%          2.000000\n",
       "75%          3.000000\n",
       "max          7.000000\n",
       "Name: bedrooms, dtype: float64"
      ]
     },
     "execution_count": 43,
     "metadata": {},
     "output_type": "execute_result"
    }
   ],
   "source": [
    "estate_good_data['bedrooms'].describe()"
   ]
  },
  {
   "cell_type": "markdown",
   "metadata": {},
   "source": [
    "7 rooms, judging by the histogram, are very rare, but for an apartment of 120 meters - it is quite possible."
   ]
  },
  {
   "cell_type": "code",
   "execution_count": 44,
   "metadata": {},
   "outputs": [
    {
     "data": {
      "text/html": [
       "<div>\n",
       "<style scoped>\n",
       "    .dataframe tbody tr th:only-of-type {\n",
       "        vertical-align: middle;\n",
       "    }\n",
       "\n",
       "    .dataframe tbody tr th {\n",
       "        vertical-align: top;\n",
       "    }\n",
       "\n",
       "    .dataframe thead th {\n",
       "        text-align: right;\n",
       "    }\n",
       "</style>\n",
       "<table border=\"1\" class=\"dataframe\">\n",
       "  <thead>\n",
       "    <tr style=\"text-align: right;\">\n",
       "      <th></th>\n",
       "      <th>date_posted</th>\n",
       "      <th>days_listed</th>\n",
       "      <th>last_price</th>\n",
       "      <th>bedrooms</th>\n",
       "      <th>kitchen_area</th>\n",
       "      <th>living_area</th>\n",
       "      <th>total_area</th>\n",
       "      <th>balconies</th>\n",
       "      <th>ceiling_height</th>\n",
       "      <th>floors_total</th>\n",
       "      <th>...</th>\n",
       "      <th>parks_within_3000</th>\n",
       "      <th>pond_dist</th>\n",
       "      <th>ponds_within_3000</th>\n",
       "      <th>living_ratio</th>\n",
       "      <th>kitchen_ratio</th>\n",
       "      <th>price_per_meter</th>\n",
       "      <th>day_posted</th>\n",
       "      <th>month_posted</th>\n",
       "      <th>year_posted</th>\n",
       "      <th>floor_grouped</th>\n",
       "    </tr>\n",
       "  </thead>\n",
       "  <tbody>\n",
       "    <tr>\n",
       "      <td>8793</td>\n",
       "      <td>2019-03-20</td>\n",
       "      <td>8.0</td>\n",
       "      <td>244</td>\n",
       "      <td>2</td>\n",
       "      <td>40.500000</td>\n",
       "      <td>32.000000</td>\n",
       "      <td>109.0</td>\n",
       "      <td>NaN</td>\n",
       "      <td>2.75</td>\n",
       "      <td>25</td>\n",
       "      <td>...</td>\n",
       "      <td>1.0</td>\n",
       "      <td>NaN</td>\n",
       "      <td>0.0</td>\n",
       "      <td>0.293578</td>\n",
       "      <td>0.371560</td>\n",
       "      <td>2.238532</td>\n",
       "      <td>2</td>\n",
       "      <td>3</td>\n",
       "      <td>2019</td>\n",
       "      <td>last</td>\n",
       "    </tr>\n",
       "    <tr>\n",
       "      <td>14911</td>\n",
       "      <td>2018-06-26</td>\n",
       "      <td>44.0</td>\n",
       "      <td>8600</td>\n",
       "      <td>2</td>\n",
       "      <td>9.310345</td>\n",
       "      <td>30.664435</td>\n",
       "      <td>54.0</td>\n",
       "      <td>NaN</td>\n",
       "      <td>2.65</td>\n",
       "      <td>3</td>\n",
       "      <td>...</td>\n",
       "      <td>NaN</td>\n",
       "      <td>NaN</td>\n",
       "      <td>NaN</td>\n",
       "      <td>0.567860</td>\n",
       "      <td>0.172414</td>\n",
       "      <td>159.259259</td>\n",
       "      <td>1</td>\n",
       "      <td>6</td>\n",
       "      <td>2018</td>\n",
       "      <td>last</td>\n",
       "    </tr>\n",
       "    <tr>\n",
       "      <td>17456</td>\n",
       "      <td>2019-04-22</td>\n",
       "      <td>95.0</td>\n",
       "      <td>8600</td>\n",
       "      <td>1</td>\n",
       "      <td>6.000000</td>\n",
       "      <td>16.000000</td>\n",
       "      <td>30.4</td>\n",
       "      <td>NaN</td>\n",
       "      <td>2.65</td>\n",
       "      <td>2</td>\n",
       "      <td>...</td>\n",
       "      <td>NaN</td>\n",
       "      <td>NaN</td>\n",
       "      <td>NaN</td>\n",
       "      <td>0.526316</td>\n",
       "      <td>0.197368</td>\n",
       "      <td>282.894737</td>\n",
       "      <td>0</td>\n",
       "      <td>4</td>\n",
       "      <td>2019</td>\n",
       "      <td>first</td>\n",
       "    </tr>\n",
       "    <tr>\n",
       "      <td>16274</td>\n",
       "      <td>2018-07-10</td>\n",
       "      <td>45.0</td>\n",
       "      <td>8800</td>\n",
       "      <td>1</td>\n",
       "      <td>6.896552</td>\n",
       "      <td>22.714396</td>\n",
       "      <td>40.0</td>\n",
       "      <td>NaN</td>\n",
       "      <td>2.65</td>\n",
       "      <td>5</td>\n",
       "      <td>...</td>\n",
       "      <td>NaN</td>\n",
       "      <td>NaN</td>\n",
       "      <td>NaN</td>\n",
       "      <td>0.567860</td>\n",
       "      <td>0.172414</td>\n",
       "      <td>220.000000</td>\n",
       "      <td>1</td>\n",
       "      <td>7</td>\n",
       "      <td>2018</td>\n",
       "      <td>first</td>\n",
       "    </tr>\n",
       "    <tr>\n",
       "      <td>17676</td>\n",
       "      <td>2018-02-01</td>\n",
       "      <td>120.0</td>\n",
       "      <td>9000</td>\n",
       "      <td>1</td>\n",
       "      <td>8.500000</td>\n",
       "      <td>17.300000</td>\n",
       "      <td>36.5</td>\n",
       "      <td>1.0</td>\n",
       "      <td>2.65</td>\n",
       "      <td>5</td>\n",
       "      <td>...</td>\n",
       "      <td>NaN</td>\n",
       "      <td>NaN</td>\n",
       "      <td>NaN</td>\n",
       "      <td>0.473973</td>\n",
       "      <td>0.232877</td>\n",
       "      <td>246.575342</td>\n",
       "      <td>3</td>\n",
       "      <td>2</td>\n",
       "      <td>2018</td>\n",
       "      <td>other</td>\n",
       "    </tr>\n",
       "  </tbody>\n",
       "</table>\n",
       "<p>5 rows × 29 columns</p>\n",
       "</div>"
      ],
      "text/plain": [
       "      date_posted  days_listed  last_price  bedrooms  kitchen_area  \\\n",
       "8793   2019-03-20          8.0         244         2     40.500000   \n",
       "14911  2018-06-26         44.0        8600         2      9.310345   \n",
       "17456  2019-04-22         95.0        8600         1      6.000000   \n",
       "16274  2018-07-10         45.0        8800         1      6.896552   \n",
       "17676  2018-02-01        120.0        9000         1      8.500000   \n",
       "\n",
       "       living_area  total_area  balconies  ceiling_height  floors_total  ...  \\\n",
       "8793     32.000000       109.0        NaN            2.75            25  ...   \n",
       "14911    30.664435        54.0        NaN            2.65             3  ...   \n",
       "17456    16.000000        30.4        NaN            2.65             2  ...   \n",
       "16274    22.714396        40.0        NaN            2.65             5  ...   \n",
       "17676    17.300000        36.5        1.0            2.65             5  ...   \n",
       "\n",
       "       parks_within_3000  pond_dist ponds_within_3000  living_ratio  \\\n",
       "8793                 1.0        NaN               0.0      0.293578   \n",
       "14911                NaN        NaN               NaN      0.567860   \n",
       "17456                NaN        NaN               NaN      0.526316   \n",
       "16274                NaN        NaN               NaN      0.567860   \n",
       "17676                NaN        NaN               NaN      0.473973   \n",
       "\n",
       "       kitchen_ratio price_per_meter  day_posted  month_posted  year_posted  \\\n",
       "8793        0.371560        2.238532           2             3         2019   \n",
       "14911       0.172414      159.259259           1             6         2018   \n",
       "17456       0.197368      282.894737           0             4         2019   \n",
       "16274       0.172414      220.000000           1             7         2018   \n",
       "17676       0.232877      246.575342           3             2         2018   \n",
       "\n",
       "       floor_grouped  \n",
       "8793            last  \n",
       "14911           last  \n",
       "17456          first  \n",
       "16274          first  \n",
       "17676          other  \n",
       "\n",
       "[5 rows x 29 columns]"
      ]
     },
     "execution_count": 44,
     "metadata": {},
     "output_type": "execute_result"
    }
   ],
   "source": [
    "estate_good_data.sort_values(by='last_price').head()"
   ]
  },
  {
   "cell_type": "code",
   "execution_count": 45,
   "metadata": {},
   "outputs": [
    {
     "data": {
      "text/html": [
       "<div>\n",
       "<style scoped>\n",
       "    .dataframe tbody tr th:only-of-type {\n",
       "        vertical-align: middle;\n",
       "    }\n",
       "\n",
       "    .dataframe tbody tr th {\n",
       "        vertical-align: top;\n",
       "    }\n",
       "\n",
       "    .dataframe thead th {\n",
       "        text-align: right;\n",
       "    }\n",
       "</style>\n",
       "<table border=\"1\" class=\"dataframe\">\n",
       "  <thead>\n",
       "    <tr style=\"text-align: right;\">\n",
       "      <th></th>\n",
       "      <th>date_posted</th>\n",
       "      <th>days_listed</th>\n",
       "      <th>last_price</th>\n",
       "      <th>bedrooms</th>\n",
       "      <th>kitchen_area</th>\n",
       "      <th>living_area</th>\n",
       "      <th>total_area</th>\n",
       "      <th>balconies</th>\n",
       "      <th>ceiling_height</th>\n",
       "      <th>floors_total</th>\n",
       "      <th>...</th>\n",
       "      <th>parks_within_3000</th>\n",
       "      <th>pond_dist</th>\n",
       "      <th>ponds_within_3000</th>\n",
       "      <th>living_ratio</th>\n",
       "      <th>kitchen_ratio</th>\n",
       "      <th>price_per_meter</th>\n",
       "      <th>day_posted</th>\n",
       "      <th>month_posted</th>\n",
       "      <th>year_posted</th>\n",
       "      <th>floor_grouped</th>\n",
       "    </tr>\n",
       "  </thead>\n",
       "  <tbody>\n",
       "    <tr>\n",
       "      <td>12916</td>\n",
       "      <td>2015-06-25</td>\n",
       "      <td>95.0</td>\n",
       "      <td>799800</td>\n",
       "      <td>3</td>\n",
       "      <td>9.0</td>\n",
       "      <td>42.90000</td>\n",
       "      <td>67.7</td>\n",
       "      <td>NaN</td>\n",
       "      <td>3.10</td>\n",
       "      <td>7</td>\n",
       "      <td>...</td>\n",
       "      <td>1.0</td>\n",
       "      <td>202.0</td>\n",
       "      <td>3.0</td>\n",
       "      <td>0.633678</td>\n",
       "      <td>0.132939</td>\n",
       "      <td>11813.884786</td>\n",
       "      <td>3</td>\n",
       "      <td>6</td>\n",
       "      <td>2015</td>\n",
       "      <td>other</td>\n",
       "    </tr>\n",
       "    <tr>\n",
       "      <td>6127</td>\n",
       "      <td>2017-07-13</td>\n",
       "      <td>497.0</td>\n",
       "      <td>800000</td>\n",
       "      <td>2</td>\n",
       "      <td>12.0</td>\n",
       "      <td>45.00000</td>\n",
       "      <td>65.3</td>\n",
       "      <td>2.0</td>\n",
       "      <td>4.10</td>\n",
       "      <td>5</td>\n",
       "      <td>...</td>\n",
       "      <td>1.0</td>\n",
       "      <td>283.0</td>\n",
       "      <td>1.0</td>\n",
       "      <td>0.689127</td>\n",
       "      <td>0.183767</td>\n",
       "      <td>12251.148545</td>\n",
       "      <td>3</td>\n",
       "      <td>7</td>\n",
       "      <td>2017</td>\n",
       "      <td>other</td>\n",
       "    </tr>\n",
       "    <tr>\n",
       "      <td>7596</td>\n",
       "      <td>2018-02-19</td>\n",
       "      <td>95.0</td>\n",
       "      <td>800000</td>\n",
       "      <td>3</td>\n",
       "      <td>12.0</td>\n",
       "      <td>74.40000</td>\n",
       "      <td>110.0</td>\n",
       "      <td>NaN</td>\n",
       "      <td>3.20</td>\n",
       "      <td>4</td>\n",
       "      <td>...</td>\n",
       "      <td>2.0</td>\n",
       "      <td>93.0</td>\n",
       "      <td>1.0</td>\n",
       "      <td>0.676364</td>\n",
       "      <td>0.109091</td>\n",
       "      <td>7272.727273</td>\n",
       "      <td>0</td>\n",
       "      <td>2</td>\n",
       "      <td>2018</td>\n",
       "      <td>other</td>\n",
       "    </tr>\n",
       "    <tr>\n",
       "      <td>5297</td>\n",
       "      <td>2018-11-15</td>\n",
       "      <td>95.0</td>\n",
       "      <td>900000</td>\n",
       "      <td>2</td>\n",
       "      <td>45.0</td>\n",
       "      <td>54.51455</td>\n",
       "      <td>96.0</td>\n",
       "      <td>1.0</td>\n",
       "      <td>3.20</td>\n",
       "      <td>6</td>\n",
       "      <td>...</td>\n",
       "      <td>2.0</td>\n",
       "      <td>569.0</td>\n",
       "      <td>3.0</td>\n",
       "      <td>0.567860</td>\n",
       "      <td>0.468750</td>\n",
       "      <td>9375.000000</td>\n",
       "      <td>3</td>\n",
       "      <td>11</td>\n",
       "      <td>2018</td>\n",
       "      <td>other</td>\n",
       "    </tr>\n",
       "    <tr>\n",
       "      <td>11492</td>\n",
       "      <td>2014-12-09</td>\n",
       "      <td>1030.0</td>\n",
       "      <td>928481</td>\n",
       "      <td>2</td>\n",
       "      <td>20.0</td>\n",
       "      <td>54.80000</td>\n",
       "      <td>92.4</td>\n",
       "      <td>1.0</td>\n",
       "      <td>2.65</td>\n",
       "      <td>6</td>\n",
       "      <td>...</td>\n",
       "      <td>2.0</td>\n",
       "      <td>569.0</td>\n",
       "      <td>3.0</td>\n",
       "      <td>0.593074</td>\n",
       "      <td>0.216450</td>\n",
       "      <td>10048.495671</td>\n",
       "      <td>1</td>\n",
       "      <td>12</td>\n",
       "      <td>2014</td>\n",
       "      <td>last</td>\n",
       "    </tr>\n",
       "    <tr>\n",
       "      <td>7136</td>\n",
       "      <td>2018-02-01</td>\n",
       "      <td>144.0</td>\n",
       "      <td>960000</td>\n",
       "      <td>3</td>\n",
       "      <td>13.5</td>\n",
       "      <td>61.00000</td>\n",
       "      <td>108.0</td>\n",
       "      <td>NaN</td>\n",
       "      <td>2.65</td>\n",
       "      <td>5</td>\n",
       "      <td>...</td>\n",
       "      <td>1.0</td>\n",
       "      <td>415.0</td>\n",
       "      <td>3.0</td>\n",
       "      <td>0.564815</td>\n",
       "      <td>0.125000</td>\n",
       "      <td>8888.888889</td>\n",
       "      <td>3</td>\n",
       "      <td>2</td>\n",
       "      <td>2018</td>\n",
       "      <td>other</td>\n",
       "    </tr>\n",
       "    <tr>\n",
       "      <td>10001</td>\n",
       "      <td>2016-01-19</td>\n",
       "      <td>425.0</td>\n",
       "      <td>990000</td>\n",
       "      <td>3</td>\n",
       "      <td>50.0</td>\n",
       "      <td>47.00000</td>\n",
       "      <td>119.0</td>\n",
       "      <td>0.0</td>\n",
       "      <td>3.30</td>\n",
       "      <td>8</td>\n",
       "      <td>...</td>\n",
       "      <td>3.0</td>\n",
       "      <td>NaN</td>\n",
       "      <td>0.0</td>\n",
       "      <td>0.394958</td>\n",
       "      <td>0.420168</td>\n",
       "      <td>8319.327731</td>\n",
       "      <td>1</td>\n",
       "      <td>1</td>\n",
       "      <td>2016</td>\n",
       "      <td>other</td>\n",
       "    </tr>\n",
       "    <tr>\n",
       "      <td>7726</td>\n",
       "      <td>2019-04-18</td>\n",
       "      <td>95.0</td>\n",
       "      <td>1000000</td>\n",
       "      <td>2</td>\n",
       "      <td>28.0</td>\n",
       "      <td>40.00000</td>\n",
       "      <td>93.0</td>\n",
       "      <td>2.0</td>\n",
       "      <td>2.65</td>\n",
       "      <td>7</td>\n",
       "      <td>...</td>\n",
       "      <td>2.0</td>\n",
       "      <td>569.0</td>\n",
       "      <td>3.0</td>\n",
       "      <td>0.430108</td>\n",
       "      <td>0.301075</td>\n",
       "      <td>10752.688172</td>\n",
       "      <td>3</td>\n",
       "      <td>4</td>\n",
       "      <td>2019</td>\n",
       "      <td>other</td>\n",
       "    </tr>\n",
       "    <tr>\n",
       "      <td>10011</td>\n",
       "      <td>2019-03-21</td>\n",
       "      <td>40.0</td>\n",
       "      <td>1060000</td>\n",
       "      <td>3</td>\n",
       "      <td>12.0</td>\n",
       "      <td>73.00000</td>\n",
       "      <td>90.0</td>\n",
       "      <td>NaN</td>\n",
       "      <td>3.15</td>\n",
       "      <td>5</td>\n",
       "      <td>...</td>\n",
       "      <td>3.0</td>\n",
       "      <td>564.0</td>\n",
       "      <td>3.0</td>\n",
       "      <td>0.811111</td>\n",
       "      <td>0.133333</td>\n",
       "      <td>11777.777778</td>\n",
       "      <td>3</td>\n",
       "      <td>3</td>\n",
       "      <td>2019</td>\n",
       "      <td>other</td>\n",
       "    </tr>\n",
       "    <tr>\n",
       "      <td>6462</td>\n",
       "      <td>2015-12-17</td>\n",
       "      <td>651.0</td>\n",
       "      <td>1640000</td>\n",
       "      <td>3</td>\n",
       "      <td>20.0</td>\n",
       "      <td>78.50000</td>\n",
       "      <td>114.0</td>\n",
       "      <td>0.0</td>\n",
       "      <td>2.65</td>\n",
       "      <td>5</td>\n",
       "      <td>...</td>\n",
       "      <td>2.0</td>\n",
       "      <td>69.0</td>\n",
       "      <td>3.0</td>\n",
       "      <td>0.688596</td>\n",
       "      <td>0.175439</td>\n",
       "      <td>14385.964912</td>\n",
       "      <td>3</td>\n",
       "      <td>12</td>\n",
       "      <td>2015</td>\n",
       "      <td>other</td>\n",
       "    </tr>\n",
       "  </tbody>\n",
       "</table>\n",
       "<p>10 rows × 29 columns</p>\n",
       "</div>"
      ],
      "text/plain": [
       "      date_posted  days_listed  last_price  bedrooms  kitchen_area  \\\n",
       "12916  2015-06-25         95.0      799800         3           9.0   \n",
       "6127   2017-07-13        497.0      800000         2          12.0   \n",
       "7596   2018-02-19         95.0      800000         3          12.0   \n",
       "5297   2018-11-15         95.0      900000         2          45.0   \n",
       "11492  2014-12-09       1030.0      928481         2          20.0   \n",
       "7136   2018-02-01        144.0      960000         3          13.5   \n",
       "10001  2016-01-19        425.0      990000         3          50.0   \n",
       "7726   2019-04-18         95.0     1000000         2          28.0   \n",
       "10011  2019-03-21         40.0     1060000         3          12.0   \n",
       "6462   2015-12-17        651.0     1640000         3          20.0   \n",
       "\n",
       "       living_area  total_area  balconies  ceiling_height  floors_total  ...  \\\n",
       "12916     42.90000        67.7        NaN            3.10             7  ...   \n",
       "6127      45.00000        65.3        2.0            4.10             5  ...   \n",
       "7596      74.40000       110.0        NaN            3.20             4  ...   \n",
       "5297      54.51455        96.0        1.0            3.20             6  ...   \n",
       "11492     54.80000        92.4        1.0            2.65             6  ...   \n",
       "7136      61.00000       108.0        NaN            2.65             5  ...   \n",
       "10001     47.00000       119.0        0.0            3.30             8  ...   \n",
       "7726      40.00000        93.0        2.0            2.65             7  ...   \n",
       "10011     73.00000        90.0        NaN            3.15             5  ...   \n",
       "6462      78.50000       114.0        0.0            2.65             5  ...   \n",
       "\n",
       "       parks_within_3000  pond_dist ponds_within_3000  living_ratio  \\\n",
       "12916                1.0      202.0               3.0      0.633678   \n",
       "6127                 1.0      283.0               1.0      0.689127   \n",
       "7596                 2.0       93.0               1.0      0.676364   \n",
       "5297                 2.0      569.0               3.0      0.567860   \n",
       "11492                2.0      569.0               3.0      0.593074   \n",
       "7136                 1.0      415.0               3.0      0.564815   \n",
       "10001                3.0        NaN               0.0      0.394958   \n",
       "7726                 2.0      569.0               3.0      0.430108   \n",
       "10011                3.0      564.0               3.0      0.811111   \n",
       "6462                 2.0       69.0               3.0      0.688596   \n",
       "\n",
       "       kitchen_ratio price_per_meter  day_posted  month_posted  year_posted  \\\n",
       "12916       0.132939    11813.884786           3             6         2015   \n",
       "6127        0.183767    12251.148545           3             7         2017   \n",
       "7596        0.109091     7272.727273           0             2         2018   \n",
       "5297        0.468750     9375.000000           3            11         2018   \n",
       "11492       0.216450    10048.495671           1            12         2014   \n",
       "7136        0.125000     8888.888889           3             2         2018   \n",
       "10001       0.420168     8319.327731           1             1         2016   \n",
       "7726        0.301075    10752.688172           3             4         2019   \n",
       "10011       0.133333    11777.777778           3             3         2019   \n",
       "6462        0.175439    14385.964912           3            12         2015   \n",
       "\n",
       "       floor_grouped  \n",
       "12916          other  \n",
       "6127           other  \n",
       "7596           other  \n",
       "5297           other  \n",
       "11492           last  \n",
       "7136           other  \n",
       "10001          other  \n",
       "7726           other  \n",
       "10011          other  \n",
       "6462           other  \n",
       "\n",
       "[10 rows x 29 columns]"
      ]
     },
     "execution_count": 45,
     "metadata": {},
     "output_type": "execute_result"
    }
   ],
   "source": [
    "estate_good_data.sort_values(by='last_price').tail(10)"
   ]
  },
  {
   "cell_type": "code",
   "execution_count": 46,
   "metadata": {},
   "outputs": [
    {
     "data": {
      "text/plain": [
       "<matplotlib.axes._subplots.AxesSubplot at 0x7f6484aab590>"
      ]
     },
     "execution_count": 46,
     "metadata": {},
     "output_type": "execute_result"
    },
    {
     "data": {
      "image/png": "[encoded data removed]",
      "text/plain": [
       "<Figure size 432x288 with 1 Axes>"
      ]
     },
     "metadata": {
      "needs_background": "light"
     },
     "output_type": "display_data"
    }
   ],
   "source": [
    "estate_good_data['last_price'].hist(bins=200, range=(8600, 1060000))"
   ]
  },
  {
   "cell_type": "markdown",
   "metadata": {},
   "source": [
    "There is a significant difference in cost, the most expensive apartment is 123 times more expensive than the cheapest. Perhaps this is due to the location and condition of the apartments. The average cost is somewhere in the region of 80,000-100,000.\n",
    "Let's determine the average time for which an apartment is sold."
   ]
  },
  {
   "cell_type": "code",
   "execution_count": 47,
   "metadata": {},
   "outputs": [
    {
     "data": {
      "text/plain": [
       "count    22533.000000\n",
       "mean       165.561310\n",
       "std        201.874161\n",
       "min          1.000000\n",
       "25%         45.000000\n",
       "50%         95.000000\n",
       "75%        194.000000\n",
       "max       1580.000000\n",
       "Name: days_listed, dtype: float64"
      ]
     },
     "execution_count": 47,
     "metadata": {},
     "output_type": "execute_result"
    }
   ],
   "source": [
    "estate_good_data['days_listed'].describe()"
   ]
  },
  {
   "cell_type": "code",
   "execution_count": 48,
   "metadata": {},
   "outputs": [
    {
     "data": {
      "text/plain": [
       "<matplotlib.axes._subplots.AxesSubplot at 0x7f64847dd410>"
      ]
     },
     "execution_count": 48,
     "metadata": {},
     "output_type": "execute_result"
    },
    {
     "data": {
      "image/png": "[encoded data removed]",
      "text/plain": [
       "<Figure size 432x288 with 1 Axes>"
      ]
     },
     "metadata": {
      "needs_background": "light"
     },
     "output_type": "display_data"
    }
   ],
   "source": [
    "estate_good_data['days_listed'].hist(bins=100, range=(1, 1580))"
   ]
  },
  {
   "cell_type": "code",
   "execution_count": 49,
   "metadata": {},
   "outputs": [
    {
     "data": {
      "text/plain": [
       "165.56131007855146"
      ]
     },
     "execution_count": 49,
     "metadata": {},
     "output_type": "execute_result"
    }
   ],
   "source": [
    "estate_good_data['days_listed'].mean()"
   ]
  },
  {
   "cell_type": "code",
   "execution_count": 50,
   "metadata": {},
   "outputs": [
    {
     "data": {
      "text/plain": [
       "95.0"
      ]
     },
     "execution_count": 50,
     "metadata": {},
     "output_type": "execute_result"
    }
   ],
   "source": [
    "estate_good_data['days_listed'].median()"
   ]
  },
  {
   "cell_type": "markdown",
   "metadata": {},
   "source": [
    "The average sale period for an apartment is 95 days. Most of the apartments are sold during this period. A sale that takes less time can be considered pretty fast. Quite a few apartments were sold in 45-50 days. Perhaps these were very advantageous offers in terms of price-quality ratio, or favorable credit terms were provided. The term of sale - 1 day is unlikely, perhaps the owner changed his mind about placing the ad and deleted it. Sales longer than 200 days can be considered very long, and owners should probably have revised the price."
   ]
  },
  {
   "cell_type": "markdown",
   "metadata": {},
   "source": [
    "Let's check if the ceiling height, the number of rooms, the total area and the floor affect the cost. And also whether the day, month or year of the ad have an affect."
   ]
  },
  {
   "cell_type": "markdown",
   "metadata": {},
   "source": [
    "To plot prices by floor, I'll rename first - 1, last - 2, other - 3."
   ]
  },
  {
   "cell_type": "code",
   "execution_count": 51,
   "metadata": {},
   "outputs": [
    {
     "data": {
      "text/plain": [
       "3    17441\n",
       "2     3341\n",
       "1     2917\n",
       "Name: floor_grouped, dtype: int64"
      ]
     },
     "execution_count": 51,
     "metadata": {},
     "output_type": "execute_result"
    }
   ],
   "source": [
    "estate_data['floor_grouped'] = estate_data['floor_grouped'].replace('first', 1)\n",
    "estate_data['floor_grouped'] = estate_data['floor_grouped'].replace('last', 2)\n",
    "estate_data['floor_grouped'] = estate_data['floor_grouped'].replace('other', 3)\n",
    "estate_data['floor_grouped'].value_counts()"
   ]
  },
  {
   "cell_type": "code",
   "execution_count": 52,
   "metadata": {},
   "outputs": [
    {
     "name": "stderr",
     "output_type": "stream",
     "text": [
      "/opt/conda/lib/python3.7/site-packages/ipykernel_launcher.py:1: SettingWithCopyWarning: \n",
      "A value is trying to be set on a copy of a slice from a DataFrame.\n",
      "Try using .loc[row_indexer,col_indexer] = value instead\n",
      "\n",
      "See the caveats in the documentation: http://pandas.pydata.org/pandas-docs/stable/user_guide/indexing.html#returning-a-view-versus-a-copy\n",
      "  \"\"\"Entry point for launching an IPython kernel.\n"
     ]
    },
    {
     "data": {
      "text/plain": [
       "3    16609\n",
       "2     3095\n",
       "1     2829\n",
       "Name: floor_grouped, dtype: int64"
      ]
     },
     "execution_count": 52,
     "metadata": {},
     "output_type": "execute_result"
    }
   ],
   "source": [
    "estate_good_data['floor_grouped'] = estate_data['floor_grouped']\n",
    "estate_good_data['floor_grouped'].value_counts()"
   ]
  },
  {
   "cell_type": "code",
   "execution_count": 53,
   "metadata": {},
   "outputs": [
    {
     "name": "stdout",
     "output_type": "stream",
     "text": [
      "<class 'pandas.core.frame.DataFrame'>\n",
      "RangeIndex: 14152 entries, 0 to 14151\n",
      "Data columns (total 8 columns):\n",
      "price_per_meter    14152 non-null float64\n",
      "bedrooms           14152 non-null float64\n",
      "ceiling_height     14152 non-null float64\n",
      "day_posted         14152 non-null float64\n",
      "floor_grouped      14152 non-null float64\n",
      "month_posted       14152 non-null float64\n",
      "total_area         14152 non-null float64\n",
      "year_posted        14152 non-null float64\n",
      "dtypes: float64(8)\n",
      "memory usage: 884.6 KB\n"
     ]
    }
   ],
   "source": [
    "estate_good_data_multi = estate_good_data.pivot_table(index='price_per_meter', values=['floor_grouped','ceiling_height','total_area','bedrooms','day_posted', 'month_posted', 'year_posted']).reset_index()   \n",
    "estate_good_data_multi.info()"
   ]
  },
  {
   "cell_type": "code",
   "execution_count": 54,
   "metadata": {},
   "outputs": [],
   "source": [
    "estate_good_data_multi['bedrooms'] = estate_good_data_multi['bedrooms'].astype(int)\n",
    "estate_good_data_multi['day_posted'] = estate_good_data_multi['day_posted'].astype(int)\n",
    "estate_good_data_multi['month_posted'] = estate_good_data_multi['month_posted'].astype(int)\n",
    "estate_good_data_multi['year_posted'] = estate_good_data_multi['year_posted'].astype(int)\n",
    "estate_good_data_multi['floor_grouped'] = estate_good_data_multi['floor_grouped'].astype(int)"
   ]
  },
  {
   "cell_type": "code",
   "execution_count": 55,
   "metadata": {},
   "outputs": [
    {
     "data": {
      "text/html": [
       "<div>\n",
       "<style scoped>\n",
       "    .dataframe tbody tr th:only-of-type {\n",
       "        vertical-align: middle;\n",
       "    }\n",
       "\n",
       "    .dataframe tbody tr th {\n",
       "        vertical-align: top;\n",
       "    }\n",
       "\n",
       "    .dataframe thead th {\n",
       "        text-align: right;\n",
       "    }\n",
       "</style>\n",
       "<table border=\"1\" class=\"dataframe\">\n",
       "  <thead>\n",
       "    <tr style=\"text-align: right;\">\n",
       "      <th></th>\n",
       "      <th>price_per_meter</th>\n",
       "      <th>bedrooms</th>\n",
       "      <th>ceiling_height</th>\n",
       "      <th>day_posted</th>\n",
       "      <th>floor_grouped</th>\n",
       "      <th>month_posted</th>\n",
       "      <th>total_area</th>\n",
       "      <th>year_posted</th>\n",
       "    </tr>\n",
       "  </thead>\n",
       "  <tbody>\n",
       "    <tr>\n",
       "      <td>price_per_meter</td>\n",
       "      <td>1.000000</td>\n",
       "      <td>-0.085960</td>\n",
       "      <td>0.320007</td>\n",
       "      <td>-0.011664</td>\n",
       "      <td>0.220773</td>\n",
       "      <td>0.002142</td>\n",
       "      <td>0.170639</td>\n",
       "      <td>0.041096</td>\n",
       "    </tr>\n",
       "    <tr>\n",
       "      <td>bedrooms</td>\n",
       "      <td>-0.085960</td>\n",
       "      <td>1.000000</td>\n",
       "      <td>0.110472</td>\n",
       "      <td>0.011750</td>\n",
       "      <td>-0.033547</td>\n",
       "      <td>0.004405</td>\n",
       "      <td>0.768749</td>\n",
       "      <td>-0.005043</td>\n",
       "    </tr>\n",
       "    <tr>\n",
       "      <td>ceiling_height</td>\n",
       "      <td>0.320007</td>\n",
       "      <td>0.110472</td>\n",
       "      <td>1.000000</td>\n",
       "      <td>-0.025836</td>\n",
       "      <td>0.032706</td>\n",
       "      <td>-0.000799</td>\n",
       "      <td>0.305144</td>\n",
       "      <td>-0.025484</td>\n",
       "    </tr>\n",
       "    <tr>\n",
       "      <td>day_posted</td>\n",
       "      <td>-0.011664</td>\n",
       "      <td>0.011750</td>\n",
       "      <td>-0.025836</td>\n",
       "      <td>1.000000</td>\n",
       "      <td>0.009082</td>\n",
       "      <td>0.011984</td>\n",
       "      <td>-0.011867</td>\n",
       "      <td>0.005790</td>\n",
       "    </tr>\n",
       "    <tr>\n",
       "      <td>floor_grouped</td>\n",
       "      <td>0.220773</td>\n",
       "      <td>-0.033547</td>\n",
       "      <td>0.032706</td>\n",
       "      <td>0.009082</td>\n",
       "      <td>1.000000</td>\n",
       "      <td>0.019178</td>\n",
       "      <td>0.057428</td>\n",
       "      <td>0.042739</td>\n",
       "    </tr>\n",
       "    <tr>\n",
       "      <td>month_posted</td>\n",
       "      <td>0.002142</td>\n",
       "      <td>0.004405</td>\n",
       "      <td>-0.000799</td>\n",
       "      <td>0.011984</td>\n",
       "      <td>0.019178</td>\n",
       "      <td>1.000000</td>\n",
       "      <td>0.013200</td>\n",
       "      <td>-0.266439</td>\n",
       "    </tr>\n",
       "    <tr>\n",
       "      <td>total_area</td>\n",
       "      <td>0.170639</td>\n",
       "      <td>0.768749</td>\n",
       "      <td>0.305144</td>\n",
       "      <td>-0.011867</td>\n",
       "      <td>0.057428</td>\n",
       "      <td>0.013200</td>\n",
       "      <td>1.000000</td>\n",
       "      <td>-0.059573</td>\n",
       "    </tr>\n",
       "    <tr>\n",
       "      <td>year_posted</td>\n",
       "      <td>0.041096</td>\n",
       "      <td>-0.005043</td>\n",
       "      <td>-0.025484</td>\n",
       "      <td>0.005790</td>\n",
       "      <td>0.042739</td>\n",
       "      <td>-0.266439</td>\n",
       "      <td>-0.059573</td>\n",
       "      <td>1.000000</td>\n",
       "    </tr>\n",
       "  </tbody>\n",
       "</table>\n",
       "</div>"
      ],
      "text/plain": [
       "                 price_per_meter  bedrooms  ceiling_height  day_posted  \\\n",
       "price_per_meter         1.000000 -0.085960        0.320007   -0.011664   \n",
       "bedrooms               -0.085960  1.000000        0.110472    0.011750   \n",
       "ceiling_height          0.320007  0.110472        1.000000   -0.025836   \n",
       "day_posted             -0.011664  0.011750       -0.025836    1.000000   \n",
       "floor_grouped           0.220773 -0.033547        0.032706    0.009082   \n",
       "month_posted            0.002142  0.004405       -0.000799    0.011984   \n",
       "total_area              0.170639  0.768749        0.305144   -0.011867   \n",
       "year_posted             0.041096 -0.005043       -0.025484    0.005790   \n",
       "\n",
       "                 floor_grouped  month_posted  total_area  year_posted  \n",
       "price_per_meter       0.220773      0.002142    0.170639     0.041096  \n",
       "bedrooms             -0.033547      0.004405    0.768749    -0.005043  \n",
       "ceiling_height        0.032706     -0.000799    0.305144    -0.025484  \n",
       "day_posted            0.009082      0.011984   -0.011867     0.005790  \n",
       "floor_grouped         1.000000      0.019178    0.057428     0.042739  \n",
       "month_posted          0.019178      1.000000    0.013200    -0.266439  \n",
       "total_area            0.057428      0.013200    1.000000    -0.059573  \n",
       "year_posted           0.042739     -0.266439   -0.059573     1.000000  "
      ]
     },
     "execution_count": 55,
     "metadata": {},
     "output_type": "execute_result"
    }
   ],
   "source": [
    "estate_good_data_multi.corr()"
   ]
  },
  {
   "cell_type": "code",
   "execution_count": 56,
   "metadata": {
    "scrolled": true
   },
   "outputs": [
    {
     "data": {
      "text/plain": [
       "<matplotlib.axes._subplots.AxesSubplot at 0x7f6484610bd0>"
      ]
     },
     "execution_count": 56,
     "metadata": {},
     "output_type": "execute_result"
    },
    {
     "data": {
      "image/png": "[encoded data removed]",
      "text/plain": [
       "<Figure size 432x288 with 1 Axes>"
      ]
     },
     "metadata": {
      "needs_background": "light"
     },
     "output_type": "display_data"
    }
   ],
   "source": [
    "estate_good_data_multi.plot(x='ceiling_height', y='price_per_meter', kind='scatter', alpha=0.1)"
   ]
  },
  {
   "cell_type": "markdown",
   "metadata": {},
   "source": [
    "The correlation between the cost and the ceiling height is not very large, according to the graph it is noticeable that with an increase in the ceiling height, the minimum cost per square meter increases."
   ]
  },
  {
   "cell_type": "code",
   "execution_count": 57,
   "metadata": {},
   "outputs": [
    {
     "data": {
      "text/plain": [
       "<matplotlib.axes._subplots.AxesSubplot at 0x7f6487f1b750>"
      ]
     },
     "execution_count": 57,
     "metadata": {},
     "output_type": "execute_result"
    },
    {
     "data": {
      "image/png": "[encoded data removed]",
      "text/plain": [
       "<Figure size 432x288 with 1 Axes>"
      ]
     },
     "metadata": {
      "needs_background": "light"
     },
     "output_type": "display_data"
    }
   ],
   "source": [
    "estate_good_data_multi.plot(x='total_area', y='price_per_meter', kind='scatter', alpha=0.1)"
   ]
  },
  {
   "cell_type": "markdown",
   "metadata": {},
   "source": [
    "There is practically no obvious relationship between the cost and area of an apartment. But we can say that the minimum cost per sq.m. for apartments with an area of more than 75 meters are on average higher than for apartments with a smaller area. Also in larger apartments there're more expensive prices per sq.m."
   ]
  },
  {
   "cell_type": "code",
   "execution_count": 98,
   "metadata": {},
   "outputs": [
    {
     "data": {
      "text/plain": [
       "<matplotlib.axes._subplots.AxesSubplot at 0x7f646e84e650>"
      ]
     },
     "execution_count": 98,
     "metadata": {},
     "output_type": "execute_result"
    },
    {
     "data": {
      "image/png": "[encoded data removed]",
      "text/plain": [
       "<Figure size 432x288 with 1 Axes>"
      ]
     },
     "metadata": {
      "needs_background": "light"
     },
     "output_type": "display_data"
    }
   ],
   "source": [
    "estate_good_data_multi.plot(x='bedrooms', y='price_per_meter', kind='scatter', alpha=0.3)"
   ]
  },
  {
   "cell_type": "markdown",
   "metadata": {},
   "source": [
    "The correlation coefficient between the cost and the number of rooms is negative and tends to zero -0.08, we can say that there is no dependence. Perhaps this is due to the fact that the area of the apartment does not depend on the number of rooms. An apartment with a large area and high cost may have only 2-3 bedrooms. The negative correlation may be due to the fact that traditionally one-room apartments are slightly more expensive in terms of per sq m than 2- or 3-room apartments."
   ]
  },
  {
   "cell_type": "code",
   "execution_count": 99,
   "metadata": {},
   "outputs": [
    {
     "data": {
      "text/plain": [
       "<matplotlib.axes._subplots.AxesSubplot at 0x7f646f1dcf10>"
      ]
     },
     "execution_count": 99,
     "metadata": {},
     "output_type": "execute_result"
    },
    {
     "data": {
      "image/png": "[encoded data removed]",
      "text/plain": [
       "<Figure size 432x288 with 1 Axes>"
      ]
     },
     "metadata": {
      "needs_background": "light"
     },
     "output_type": "display_data"
    }
   ],
   "source": [
    "estate_good_data_multi.plot(x='floor_grouped', y='price_per_meter', kind='scatter', alpha=0.5)"
   ]
  },
  {
   "cell_type": "markdown",
   "metadata": {},
   "source": [
    "Correlation coefficient 0.22 - a slight dependence is present. As we can see from the graph, even in the more expensive segment  the ground floor apartements are on average less expensive than those on other floors. The positions of the apartments on the top floor are slightly better, but also lower than those of the apartments on the other floors."
   ]
  },
  {
   "cell_type": "code",
   "execution_count": 100,
   "metadata": {},
   "outputs": [
    {
     "data": {
      "text/plain": [
       "<matplotlib.axes._subplots.AxesSubplot at 0x7f646f17f850>"
      ]
     },
     "execution_count": 100,
     "metadata": {},
     "output_type": "execute_result"
    },
    {
     "data": {
      "image/png": "[encoded data removed]",
      "text/plain": [
       "<Figure size 432x288 with 1 Axes>"
      ]
     },
     "metadata": {
      "needs_background": "light"
     },
     "output_type": "display_data"
    }
   ],
   "source": [
    "estate_good_data_multi.plot(x='day_posted', y='price_per_meter', kind='scatter', alpha=0.5)"
   ]
  },
  {
   "cell_type": "code",
   "execution_count": 101,
   "metadata": {},
   "outputs": [
    {
     "data": {
      "text/plain": [
       "<matplotlib.axes._subplots.AxesSubplot at 0x7f646f1a9390>"
      ]
     },
     "execution_count": 101,
     "metadata": {},
     "output_type": "execute_result"
    },
    {
     "data": {
      "image/png": "[encoded data removed]",
      "text/plain": [
       "<Figure size 432x288 with 1 Axes>"
      ]
     },
     "metadata": {
      "needs_background": "light"
     },
     "output_type": "display_data"
    }
   ],
   "source": [
    "estate_good_data_multi.plot(x='month_posted', y='price_per_meter', kind='scatter', alpha=0.5)"
   ]
  },
  {
   "cell_type": "code",
   "execution_count": 102,
   "metadata": {},
   "outputs": [
    {
     "data": {
      "text/plain": [
       "<matplotlib.axes._subplots.AxesSubplot at 0x7f646f142850>"
      ]
     },
     "execution_count": 102,
     "metadata": {},
     "output_type": "execute_result"
    },
    {
     "data": {
      "image/png": "[encoded data removed]",
      "text/plain": [
       "<Figure size 432x288 with 1 Axes>"
      ]
     },
     "metadata": {
      "needs_background": "light"
     },
     "output_type": "display_data"
    }
   ],
   "source": [
    "estate_good_data_multi.plot(x='year_posted', y='price_per_meter', kind='scatter', alpha=0.5)"
   ]
  },
  {
   "cell_type": "markdown",
   "metadata": {},
   "source": [
    "If we consider the day of the week, month and year of ad placement, then the correlation coefficient is almost zero: -0.01, 0.002, 0.04, respectively, so we can talk about the absence of a dependence."
   ]
  },
  {
   "cell_type": "code",
   "execution_count": 103,
   "metadata": {},
   "outputs": [
    {
     "data": {
      "text/html": [
       "<div>\n",
       "<style scoped>\n",
       "    .dataframe tbody tr th:only-of-type {\n",
       "        vertical-align: middle;\n",
       "    }\n",
       "\n",
       "    .dataframe tbody tr th {\n",
       "        vertical-align: top;\n",
       "    }\n",
       "\n",
       "    .dataframe thead th {\n",
       "        text-align: right;\n",
       "    }\n",
       "</style>\n",
       "<table border=\"1\" class=\"dataframe\">\n",
       "  <thead>\n",
       "    <tr style=\"text-align: right;\">\n",
       "      <th></th>\n",
       "      <th>locality_name</th>\n",
       "      <th>count</th>\n",
       "      <th>median</th>\n",
       "    </tr>\n",
       "  </thead>\n",
       "  <tbody>\n",
       "    <tr>\n",
       "      <td>185</td>\n",
       "      <td>saint petersburg</td>\n",
       "      <td>14730</td>\n",
       "      <td>2079.709049</td>\n",
       "    </tr>\n",
       "    <tr>\n",
       "      <td>114</td>\n",
       "      <td>murino village</td>\n",
       "      <td>554</td>\n",
       "      <td>1717.563507</td>\n",
       "    </tr>\n",
       "    <tr>\n",
       "      <td>201</td>\n",
       "      <td>shushary village</td>\n",
       "      <td>439</td>\n",
       "      <td>1536.585366</td>\n",
       "    </tr>\n",
       "    <tr>\n",
       "      <td>303</td>\n",
       "      <td>vsevolozhsk</td>\n",
       "      <td>394</td>\n",
       "      <td>1315.789474</td>\n",
       "    </tr>\n",
       "    <tr>\n",
       "      <td>166</td>\n",
       "      <td>pushkin</td>\n",
       "      <td>347</td>\n",
       "      <td>1993.006993</td>\n",
       "    </tr>\n",
       "    <tr>\n",
       "      <td>58</td>\n",
       "      <td>kolpino</td>\n",
       "      <td>335</td>\n",
       "      <td>1494.505495</td>\n",
       "    </tr>\n",
       "    <tr>\n",
       "      <td>135</td>\n",
       "      <td>pargolovo village</td>\n",
       "      <td>325</td>\n",
       "      <td>1838.351823</td>\n",
       "    </tr>\n",
       "    <tr>\n",
       "      <td>26</td>\n",
       "      <td>gatchina</td>\n",
       "      <td>303</td>\n",
       "      <td>1358.490566</td>\n",
       "    </tr>\n",
       "    <tr>\n",
       "      <td>74</td>\n",
       "      <td>kudrovo village</td>\n",
       "      <td>299</td>\n",
       "      <td>1837.209302</td>\n",
       "    </tr>\n",
       "    <tr>\n",
       "      <td>304</td>\n",
       "      <td>vyborg</td>\n",
       "      <td>230</td>\n",
       "      <td>1167.147720</td>\n",
       "    </tr>\n",
       "  </tbody>\n",
       "</table>\n",
       "</div>"
      ],
      "text/plain": [
       "         locality_name  count       median\n",
       "185   saint petersburg  14730  2079.709049\n",
       "114     murino village    554  1717.563507\n",
       "201   shushary village    439  1536.585366\n",
       "303        vsevolozhsk    394  1315.789474\n",
       "166            pushkin    347  1993.006993\n",
       "58             kolpino    335  1494.505495\n",
       "135  pargolovo village    325  1838.351823\n",
       "26            gatchina    303  1358.490566\n",
       "74     kudrovo village    299  1837.209302\n",
       "304             vyborg    230  1167.147720"
      ]
     },
     "execution_count": 103,
     "metadata": {},
     "output_type": "execute_result"
    }
   ],
   "source": [
    "locality_data = estate_good_data.pivot_table(index='locality_name', values='price_per_meter', aggfunc=('median','count')).reset_index()\n",
    "locality_data.sort_values(by='count', ascending=False).head(10)"
   ]
  },
  {
   "cell_type": "code",
   "execution_count": 104,
   "metadata": {},
   "outputs": [
    {
     "data": {
      "text/plain": [
       "<matplotlib.axes._subplots.AxesSubplot at 0x7f646f16ba50>"
      ]
     },
     "execution_count": 104,
     "metadata": {},
     "output_type": "execute_result"
    },
    {
     "data": {
      "image/png": "[encoded data removed]",
      "text/plain": [
       "<Figure size 432x288 with 1 Axes>"
      ]
     },
     "metadata": {
      "needs_background": "light"
     },
     "output_type": "display_data"
    }
   ],
   "source": [
    "locality_data.columns = ['locality_name', 'add_amount', 'price_median']\n",
    "(locality_data\n",
    " .query('add_amount >= 230')\n",
    " .pivot_table(index='locality_name', values='price_median')\n",
    " .plot(grid=True, kind='bar'))"
   ]
  },
  {
   "cell_type": "markdown",
   "metadata": {},
   "source": [
    "As expected, the highest cost per square meter is in St. Petersburg, the cheapest apartments are in Vyborg."
   ]
  },
  {
   "cell_type": "markdown",
   "metadata": {},
   "source": [
    "Let's see if the cost varies depending on the distance from the center. I will select the data for St. Petersburg in a separate table."
   ]
  },
  {
   "cell_type": "code",
   "execution_count": 105,
   "metadata": {},
   "outputs": [
    {
     "name": "stdout",
     "output_type": "stream",
     "text": [
      "<class 'pandas.core.frame.DataFrame'>\n",
      "Int64Index: 14730 entries, 0 to 23697\n",
      "Data columns (total 29 columns):\n",
      "date_posted          14730 non-null datetime64[ns]\n",
      "days_listed          14730 non-null float64\n",
      "last_price           14730 non-null int64\n",
      "bedrooms             14730 non-null int64\n",
      "kitchen_area         14730 non-null float64\n",
      "living_area          14730 non-null float64\n",
      "total_area           14730 non-null float64\n",
      "balconies            7587 non-null float64\n",
      "ceiling_height       14730 non-null float64\n",
      "floors_total         14730 non-null int64\n",
      "floor                14730 non-null int64\n",
      "total_images         14730 non-null int64\n",
      "bike_parking         1720 non-null object\n",
      "is_studio            14730 non-null bool\n",
      "is_open_plan         14730 non-null bool\n",
      "locality_name        14730 non-null object\n",
      "airport_dist         14654 non-null float64\n",
      "city_center_dist     14674 non-null float64\n",
      "park_dist            6611 non-null float64\n",
      "parks_within_3000    14674 non-null float64\n",
      "pond_dist            7316 non-null float64\n",
      "ponds_within_3000    14674 non-null float64\n",
      "living_ratio         14730 non-null float64\n",
      "kitchen_ratio        14730 non-null float64\n",
      "price_per_meter      14730 non-null float64\n",
      "day_posted           14730 non-null int64\n",
      "month_posted         14730 non-null int64\n",
      "year_posted          14730 non-null int64\n",
      "floor_grouped        14730 non-null int64\n",
      "dtypes: bool(2), datetime64[ns](1), float64(15), int64(9), object(2)\n",
      "memory usage: 3.2+ MB\n"
     ]
    }
   ],
   "source": [
    "spb_data = estate_good_data.query('locality_name == \"saint petersburg\"')\n",
    "spb_data.info()"
   ]
  },
  {
   "cell_type": "code",
   "execution_count": 106,
   "metadata": {},
   "outputs": [
    {
     "data": {
      "text/plain": [
       "56"
      ]
     },
     "execution_count": 106,
     "metadata": {},
     "output_type": "execute_result"
    }
   ],
   "source": [
    "spb_data['city_center_dist'].isnull().sum()"
   ]
  },
  {
   "cell_type": "markdown",
   "metadata": {},
   "source": [
    "56 lines is 0.4% of the total, so I'll just delete those lines."
   ]
  },
  {
   "cell_type": "code",
   "execution_count": 107,
   "metadata": {},
   "outputs": [
    {
     "data": {
      "text/plain": [
       "0"
      ]
     },
     "execution_count": 107,
     "metadata": {},
     "output_type": "execute_result"
    }
   ],
   "source": [
    "spb_data=spb_data[spb_data['city_center_dist'].notnull()]\n",
    "spb_data['city_center_dist'].isnull().sum()"
   ]
  },
  {
   "cell_type": "markdown",
   "metadata": {},
   "source": [
    "I will convert the distance into kilometers."
   ]
  },
  {
   "cell_type": "code",
   "execution_count": 108,
   "metadata": {},
   "outputs": [
    {
     "data": {
      "text/html": [
       "<div>\n",
       "<style scoped>\n",
       "    .dataframe tbody tr th:only-of-type {\n",
       "        vertical-align: middle;\n",
       "    }\n",
       "\n",
       "    .dataframe tbody tr th {\n",
       "        vertical-align: top;\n",
       "    }\n",
       "\n",
       "    .dataframe thead th {\n",
       "        text-align: right;\n",
       "    }\n",
       "</style>\n",
       "<table border=\"1\" class=\"dataframe\">\n",
       "  <thead>\n",
       "    <tr style=\"text-align: right;\">\n",
       "      <th></th>\n",
       "      <th>date_posted</th>\n",
       "      <th>days_listed</th>\n",
       "      <th>last_price</th>\n",
       "      <th>bedrooms</th>\n",
       "      <th>kitchen_area</th>\n",
       "      <th>living_area</th>\n",
       "      <th>total_area</th>\n",
       "      <th>balconies</th>\n",
       "      <th>ceiling_height</th>\n",
       "      <th>floors_total</th>\n",
       "      <th>...</th>\n",
       "      <th>pond_dist</th>\n",
       "      <th>ponds_within_3000</th>\n",
       "      <th>living_ratio</th>\n",
       "      <th>kitchen_ratio</th>\n",
       "      <th>price_per_meter</th>\n",
       "      <th>day_posted</th>\n",
       "      <th>month_posted</th>\n",
       "      <th>year_posted</th>\n",
       "      <th>floor_grouped</th>\n",
       "      <th>city_center_dist_km</th>\n",
       "    </tr>\n",
       "  </thead>\n",
       "  <tbody>\n",
       "    <tr>\n",
       "      <td>3800</td>\n",
       "      <td>2015-07-22</td>\n",
       "      <td>398.0</td>\n",
       "      <td>138000</td>\n",
       "      <td>2</td>\n",
       "      <td>8.200000</td>\n",
       "      <td>28.200000</td>\n",
       "      <td>47.6</td>\n",
       "      <td>0.0</td>\n",
       "      <td>2.65</td>\n",
       "      <td>5</td>\n",
       "      <td>...</td>\n",
       "      <td>142.0</td>\n",
       "      <td>3.0</td>\n",
       "      <td>0.592437</td>\n",
       "      <td>0.172269</td>\n",
       "      <td>2899.159664</td>\n",
       "      <td>2</td>\n",
       "      <td>7</td>\n",
       "      <td>2015</td>\n",
       "      <td>2</td>\n",
       "      <td>0.0</td>\n",
       "    </tr>\n",
       "    <tr>\n",
       "      <td>2609</td>\n",
       "      <td>2017-08-24</td>\n",
       "      <td>11.0</td>\n",
       "      <td>144000</td>\n",
       "      <td>3</td>\n",
       "      <td>8.000000</td>\n",
       "      <td>43.000000</td>\n",
       "      <td>80.0</td>\n",
       "      <td>0.0</td>\n",
       "      <td>2.80</td>\n",
       "      <td>4</td>\n",
       "      <td>...</td>\n",
       "      <td>516.0</td>\n",
       "      <td>2.0</td>\n",
       "      <td>0.537500</td>\n",
       "      <td>0.100000</td>\n",
       "      <td>1800.000000</td>\n",
       "      <td>3</td>\n",
       "      <td>8</td>\n",
       "      <td>2017</td>\n",
       "      <td>1</td>\n",
       "      <td>0.0</td>\n",
       "    </tr>\n",
       "    <tr>\n",
       "      <td>8677</td>\n",
       "      <td>2017-12-19</td>\n",
       "      <td>35.0</td>\n",
       "      <td>270000</td>\n",
       "      <td>3</td>\n",
       "      <td>22.000000</td>\n",
       "      <td>46.000000</td>\n",
       "      <td>98.0</td>\n",
       "      <td>NaN</td>\n",
       "      <td>3.50</td>\n",
       "      <td>5</td>\n",
       "      <td>...</td>\n",
       "      <td>222.0</td>\n",
       "      <td>3.0</td>\n",
       "      <td>0.469388</td>\n",
       "      <td>0.224490</td>\n",
       "      <td>2755.102041</td>\n",
       "      <td>1</td>\n",
       "      <td>12</td>\n",
       "      <td>2017</td>\n",
       "      <td>3</td>\n",
       "      <td>0.0</td>\n",
       "    </tr>\n",
       "    <tr>\n",
       "      <td>9488</td>\n",
       "      <td>2018-07-26</td>\n",
       "      <td>60.0</td>\n",
       "      <td>160000</td>\n",
       "      <td>3</td>\n",
       "      <td>18.275862</td>\n",
       "      <td>60.193149</td>\n",
       "      <td>106.0</td>\n",
       "      <td>NaN</td>\n",
       "      <td>3.40</td>\n",
       "      <td>4</td>\n",
       "      <td>...</td>\n",
       "      <td>38.0</td>\n",
       "      <td>2.0</td>\n",
       "      <td>0.567860</td>\n",
       "      <td>0.172414</td>\n",
       "      <td>1509.433962</td>\n",
       "      <td>3</td>\n",
       "      <td>7</td>\n",
       "      <td>2018</td>\n",
       "      <td>1</td>\n",
       "      <td>0.0</td>\n",
       "    </tr>\n",
       "    <tr>\n",
       "      <td>1109</td>\n",
       "      <td>2014-12-09</td>\n",
       "      <td>1572.0</td>\n",
       "      <td>697571</td>\n",
       "      <td>2</td>\n",
       "      <td>20.000000</td>\n",
       "      <td>58.300000</td>\n",
       "      <td>95.8</td>\n",
       "      <td>1.0</td>\n",
       "      <td>2.65</td>\n",
       "      <td>6</td>\n",
       "      <td>...</td>\n",
       "      <td>569.0</td>\n",
       "      <td>3.0</td>\n",
       "      <td>0.608559</td>\n",
       "      <td>0.208768</td>\n",
       "      <td>7281.534447</td>\n",
       "      <td>1</td>\n",
       "      <td>12</td>\n",
       "      <td>2014</td>\n",
       "      <td>3</td>\n",
       "      <td>0.0</td>\n",
       "    </tr>\n",
       "  </tbody>\n",
       "</table>\n",
       "<p>5 rows × 30 columns</p>\n",
       "</div>"
      ],
      "text/plain": [
       "     date_posted  days_listed  last_price  bedrooms  kitchen_area  \\\n",
       "3800  2015-07-22        398.0      138000         2      8.200000   \n",
       "2609  2017-08-24         11.0      144000         3      8.000000   \n",
       "8677  2017-12-19         35.0      270000         3     22.000000   \n",
       "9488  2018-07-26         60.0      160000         3     18.275862   \n",
       "1109  2014-12-09       1572.0      697571         2     20.000000   \n",
       "\n",
       "      living_area  total_area  balconies  ceiling_height  floors_total  ...  \\\n",
       "3800    28.200000        47.6        0.0            2.65             5  ...   \n",
       "2609    43.000000        80.0        0.0            2.80             4  ...   \n",
       "8677    46.000000        98.0        NaN            3.50             5  ...   \n",
       "9488    60.193149       106.0        NaN            3.40             4  ...   \n",
       "1109    58.300000        95.8        1.0            2.65             6  ...   \n",
       "\n",
       "      pond_dist  ponds_within_3000 living_ratio  kitchen_ratio  \\\n",
       "3800      142.0                3.0     0.592437       0.172269   \n",
       "2609      516.0                2.0     0.537500       0.100000   \n",
       "8677      222.0                3.0     0.469388       0.224490   \n",
       "9488       38.0                2.0     0.567860       0.172414   \n",
       "1109      569.0                3.0     0.608559       0.208768   \n",
       "\n",
       "      price_per_meter day_posted  month_posted  year_posted  floor_grouped  \\\n",
       "3800      2899.159664          2             7         2015              2   \n",
       "2609      1800.000000          3             8         2017              1   \n",
       "8677      2755.102041          1            12         2017              3   \n",
       "9488      1509.433962          3             7         2018              1   \n",
       "1109      7281.534447          1            12         2014              3   \n",
       "\n",
       "      city_center_dist_km  \n",
       "3800                  0.0  \n",
       "2609                  0.0  \n",
       "8677                  0.0  \n",
       "9488                  0.0  \n",
       "1109                  0.0  \n",
       "\n",
       "[5 rows x 30 columns]"
      ]
     },
     "execution_count": 108,
     "metadata": {},
     "output_type": "execute_result"
    }
   ],
   "source": [
    "spb_data['city_center_dist_km'] = (spb_data['city_center_dist'] / 1000).round()\n",
    "spb_data.sort_values(by='city_center_dist_km').head() "
   ]
  },
  {
   "cell_type": "code",
   "execution_count": 109,
   "metadata": {
    "scrolled": true
   },
   "outputs": [
    {
     "data": {
      "text/plain": [
       "<matplotlib.axes._subplots.AxesSubplot at 0x7f646f12ea10>"
      ]
     },
     "execution_count": 109,
     "metadata": {},
     "output_type": "execute_result"
    },
    {
     "data": {
      "image/png": "[encoded data removed]",
      "text/plain": [
       "<Figure size 432x288 with 1 Axes>"
      ]
     },
     "metadata": {
      "needs_background": "light"
     },
     "output_type": "display_data"
    }
   ],
   "source": [
    "(spb_data\n",
    " .pivot_table(index='city_center_dist_km', values='price_per_meter')\n",
    " .plot(grid=True))"
   ]
  },
  {
   "cell_type": "markdown",
   "metadata": {},
   "source": [
    "Based on the data, the city center can be considered an area within a radius of 3 km. Beyond this mark, a more even distribution of prices begins."
   ]
  },
  {
   "cell_type": "code",
   "execution_count": 110,
   "metadata": {},
   "outputs": [
    {
     "data": {
      "text/html": [
       "<div>\n",
       "<style scoped>\n",
       "    .dataframe tbody tr th:only-of-type {\n",
       "        vertical-align: middle;\n",
       "    }\n",
       "\n",
       "    .dataframe tbody tr th {\n",
       "        vertical-align: top;\n",
       "    }\n",
       "\n",
       "    .dataframe thead th {\n",
       "        text-align: right;\n",
       "    }\n",
       "</style>\n",
       "<table border=\"1\" class=\"dataframe\">\n",
       "  <thead>\n",
       "    <tr style=\"text-align: right;\">\n",
       "      <th></th>\n",
       "      <th>price_per_meter</th>\n",
       "      <th>bedrooms</th>\n",
       "      <th>ceiling_height</th>\n",
       "      <th>day_posted</th>\n",
       "      <th>floor_grouped</th>\n",
       "      <th>month_posted</th>\n",
       "      <th>total_area</th>\n",
       "      <th>year_posted</th>\n",
       "    </tr>\n",
       "  </thead>\n",
       "  <tbody>\n",
       "    <tr>\n",
       "      <td>price_per_meter</td>\n",
       "      <td>1.000000</td>\n",
       "      <td>-0.192100</td>\n",
       "      <td>0.126786</td>\n",
       "      <td>-0.010880</td>\n",
       "      <td>0.131426</td>\n",
       "      <td>0.004324</td>\n",
       "      <td>-0.041670</td>\n",
       "      <td>0.064156</td>\n",
       "    </tr>\n",
       "    <tr>\n",
       "      <td>bedrooms</td>\n",
       "      <td>-0.192100</td>\n",
       "      <td>1.000000</td>\n",
       "      <td>0.007011</td>\n",
       "      <td>0.006875</td>\n",
       "      <td>0.096010</td>\n",
       "      <td>-0.044882</td>\n",
       "      <td>0.688964</td>\n",
       "      <td>-0.103608</td>\n",
       "    </tr>\n",
       "    <tr>\n",
       "      <td>ceiling_height</td>\n",
       "      <td>0.126786</td>\n",
       "      <td>0.007011</td>\n",
       "      <td>1.000000</td>\n",
       "      <td>-0.039753</td>\n",
       "      <td>0.121670</td>\n",
       "      <td>-0.027339</td>\n",
       "      <td>0.094090</td>\n",
       "      <td>0.071598</td>\n",
       "    </tr>\n",
       "    <tr>\n",
       "      <td>day_posted</td>\n",
       "      <td>-0.010880</td>\n",
       "      <td>0.006875</td>\n",
       "      <td>-0.039753</td>\n",
       "      <td>1.000000</td>\n",
       "      <td>-0.005832</td>\n",
       "      <td>0.011995</td>\n",
       "      <td>-0.016828</td>\n",
       "      <td>-0.031012</td>\n",
       "    </tr>\n",
       "    <tr>\n",
       "      <td>floor_grouped</td>\n",
       "      <td>0.131426</td>\n",
       "      <td>0.096010</td>\n",
       "      <td>0.121670</td>\n",
       "      <td>-0.005832</td>\n",
       "      <td>1.000000</td>\n",
       "      <td>0.049887</td>\n",
       "      <td>0.161159</td>\n",
       "      <td>0.029066</td>\n",
       "    </tr>\n",
       "    <tr>\n",
       "      <td>month_posted</td>\n",
       "      <td>0.004324</td>\n",
       "      <td>-0.044882</td>\n",
       "      <td>-0.027339</td>\n",
       "      <td>0.011995</td>\n",
       "      <td>0.049887</td>\n",
       "      <td>1.000000</td>\n",
       "      <td>-0.043861</td>\n",
       "      <td>-0.238085</td>\n",
       "    </tr>\n",
       "    <tr>\n",
       "      <td>total_area</td>\n",
       "      <td>-0.041670</td>\n",
       "      <td>0.688964</td>\n",
       "      <td>0.094090</td>\n",
       "      <td>-0.016828</td>\n",
       "      <td>0.161159</td>\n",
       "      <td>-0.043861</td>\n",
       "      <td>1.000000</td>\n",
       "      <td>-0.110477</td>\n",
       "    </tr>\n",
       "    <tr>\n",
       "      <td>year_posted</td>\n",
       "      <td>0.064156</td>\n",
       "      <td>-0.103608</td>\n",
       "      <td>0.071598</td>\n",
       "      <td>-0.031012</td>\n",
       "      <td>0.029066</td>\n",
       "      <td>-0.238085</td>\n",
       "      <td>-0.110477</td>\n",
       "      <td>1.000000</td>\n",
       "    </tr>\n",
       "  </tbody>\n",
       "</table>\n",
       "</div>"
      ],
      "text/plain": [
       "                 price_per_meter  bedrooms  ceiling_height  day_posted  \\\n",
       "price_per_meter         1.000000 -0.192100        0.126786   -0.010880   \n",
       "bedrooms               -0.192100  1.000000        0.007011    0.006875   \n",
       "ceiling_height          0.126786  0.007011        1.000000   -0.039753   \n",
       "day_posted             -0.010880  0.006875       -0.039753    1.000000   \n",
       "floor_grouped           0.131426  0.096010        0.121670   -0.005832   \n",
       "month_posted            0.004324 -0.044882       -0.027339    0.011995   \n",
       "total_area             -0.041670  0.688964        0.094090   -0.016828   \n",
       "year_posted             0.064156 -0.103608        0.071598   -0.031012   \n",
       "\n",
       "                 floor_grouped  month_posted  total_area  year_posted  \n",
       "price_per_meter       0.131426      0.004324   -0.041670     0.064156  \n",
       "bedrooms              0.096010     -0.044882    0.688964    -0.103608  \n",
       "ceiling_height        0.121670     -0.027339    0.094090     0.071598  \n",
       "day_posted           -0.005832      0.011995   -0.016828    -0.031012  \n",
       "floor_grouped         1.000000      0.049887    0.161159     0.029066  \n",
       "month_posted          0.049887      1.000000   -0.043861    -0.238085  \n",
       "total_area            0.161159     -0.043861    1.000000    -0.110477  \n",
       "year_posted           0.029066     -0.238085   -0.110477     1.000000  "
      ]
     },
     "execution_count": 110,
     "metadata": {},
     "output_type": "execute_result"
    }
   ],
   "source": [
    "spb_center = spb_data.query('city_center_dist_km <= 3')\n",
    "spb_center_multi = spb_center.pivot_table(index='price_per_meter', values=['floor_grouped','ceiling_height','total_area','bedrooms','day_posted', 'month_posted', 'year_posted']).reset_index()   \n",
    "spb_center_multi.corr()"
   ]
  },
  {
   "cell_type": "code",
   "execution_count": 111,
   "metadata": {},
   "outputs": [
    {
     "data": {
      "text/html": [
       "<div>\n",
       "<style scoped>\n",
       "    .dataframe tbody tr th:only-of-type {\n",
       "        vertical-align: middle;\n",
       "    }\n",
       "\n",
       "    .dataframe tbody tr th {\n",
       "        vertical-align: top;\n",
       "    }\n",
       "\n",
       "    .dataframe thead th {\n",
       "        text-align: right;\n",
       "    }\n",
       "</style>\n",
       "<table border=\"1\" class=\"dataframe\">\n",
       "  <thead>\n",
       "    <tr style=\"text-align: right;\">\n",
       "      <th></th>\n",
       "      <th>price_per_meter</th>\n",
       "      <th>bedrooms</th>\n",
       "      <th>ceiling_height</th>\n",
       "      <th>day_posted</th>\n",
       "      <th>floor_grouped</th>\n",
       "      <th>month_posted</th>\n",
       "      <th>total_area</th>\n",
       "      <th>year_posted</th>\n",
       "    </tr>\n",
       "  </thead>\n",
       "  <tbody>\n",
       "    <tr>\n",
       "      <td>price_per_meter</td>\n",
       "      <td>1.000000</td>\n",
       "      <td>-0.085960</td>\n",
       "      <td>0.320007</td>\n",
       "      <td>-0.011664</td>\n",
       "      <td>0.220773</td>\n",
       "      <td>0.002142</td>\n",
       "      <td>0.170639</td>\n",
       "      <td>0.041096</td>\n",
       "    </tr>\n",
       "    <tr>\n",
       "      <td>bedrooms</td>\n",
       "      <td>-0.085960</td>\n",
       "      <td>1.000000</td>\n",
       "      <td>0.110472</td>\n",
       "      <td>0.011750</td>\n",
       "      <td>-0.033547</td>\n",
       "      <td>0.004405</td>\n",
       "      <td>0.768749</td>\n",
       "      <td>-0.005043</td>\n",
       "    </tr>\n",
       "    <tr>\n",
       "      <td>ceiling_height</td>\n",
       "      <td>0.320007</td>\n",
       "      <td>0.110472</td>\n",
       "      <td>1.000000</td>\n",
       "      <td>-0.025836</td>\n",
       "      <td>0.032706</td>\n",
       "      <td>-0.000799</td>\n",
       "      <td>0.305144</td>\n",
       "      <td>-0.025484</td>\n",
       "    </tr>\n",
       "    <tr>\n",
       "      <td>day_posted</td>\n",
       "      <td>-0.011664</td>\n",
       "      <td>0.011750</td>\n",
       "      <td>-0.025836</td>\n",
       "      <td>1.000000</td>\n",
       "      <td>0.009082</td>\n",
       "      <td>0.011984</td>\n",
       "      <td>-0.011867</td>\n",
       "      <td>0.005790</td>\n",
       "    </tr>\n",
       "    <tr>\n",
       "      <td>floor_grouped</td>\n",
       "      <td>0.220773</td>\n",
       "      <td>-0.033547</td>\n",
       "      <td>0.032706</td>\n",
       "      <td>0.009082</td>\n",
       "      <td>1.000000</td>\n",
       "      <td>0.019178</td>\n",
       "      <td>0.057428</td>\n",
       "      <td>0.042739</td>\n",
       "    </tr>\n",
       "    <tr>\n",
       "      <td>month_posted</td>\n",
       "      <td>0.002142</td>\n",
       "      <td>0.004405</td>\n",
       "      <td>-0.000799</td>\n",
       "      <td>0.011984</td>\n",
       "      <td>0.019178</td>\n",
       "      <td>1.000000</td>\n",
       "      <td>0.013200</td>\n",
       "      <td>-0.266439</td>\n",
       "    </tr>\n",
       "    <tr>\n",
       "      <td>total_area</td>\n",
       "      <td>0.170639</td>\n",
       "      <td>0.768749</td>\n",
       "      <td>0.305144</td>\n",
       "      <td>-0.011867</td>\n",
       "      <td>0.057428</td>\n",
       "      <td>0.013200</td>\n",
       "      <td>1.000000</td>\n",
       "      <td>-0.059573</td>\n",
       "    </tr>\n",
       "    <tr>\n",
       "      <td>year_posted</td>\n",
       "      <td>0.041096</td>\n",
       "      <td>-0.005043</td>\n",
       "      <td>-0.025484</td>\n",
       "      <td>0.005790</td>\n",
       "      <td>0.042739</td>\n",
       "      <td>-0.266439</td>\n",
       "      <td>-0.059573</td>\n",
       "      <td>1.000000</td>\n",
       "    </tr>\n",
       "  </tbody>\n",
       "</table>\n",
       "</div>"
      ],
      "text/plain": [
       "                 price_per_meter  bedrooms  ceiling_height  day_posted  \\\n",
       "price_per_meter         1.000000 -0.085960        0.320007   -0.011664   \n",
       "bedrooms               -0.085960  1.000000        0.110472    0.011750   \n",
       "ceiling_height          0.320007  0.110472        1.000000   -0.025836   \n",
       "day_posted             -0.011664  0.011750       -0.025836    1.000000   \n",
       "floor_grouped           0.220773 -0.033547        0.032706    0.009082   \n",
       "month_posted            0.002142  0.004405       -0.000799    0.011984   \n",
       "total_area              0.170639  0.768749        0.305144   -0.011867   \n",
       "year_posted             0.041096 -0.005043       -0.025484    0.005790   \n",
       "\n",
       "                 floor_grouped  month_posted  total_area  year_posted  \n",
       "price_per_meter       0.220773      0.002142    0.170639     0.041096  \n",
       "bedrooms             -0.033547      0.004405    0.768749    -0.005043  \n",
       "ceiling_height        0.032706     -0.000799    0.305144    -0.025484  \n",
       "day_posted            0.009082      0.011984   -0.011867     0.005790  \n",
       "floor_grouped         1.000000      0.019178    0.057428     0.042739  \n",
       "month_posted          0.019178      1.000000    0.013200    -0.266439  \n",
       "total_area            0.057428      0.013200    1.000000    -0.059573  \n",
       "year_posted           0.042739     -0.266439   -0.059573     1.000000  "
      ]
     },
     "execution_count": 111,
     "metadata": {},
     "output_type": "execute_result"
    }
   ],
   "source": [
    "estate_good_data_multi.corr()"
   ]
  },
  {
   "cell_type": "markdown",
   "metadata": {},
   "source": [
    "Now we can compare the totals across the entire database and in the center of St. Petersburg.\n",
    "- Bedrooms -0.08 / -0.19 in the center, there is a slight negative relationship between the number of rooms and the cost. This may be due to the fact that former communal apartments with a large number of rooms are valued less than already renovated apartments. Also, the reason may be that apartments with a small area and one room are quite rare in this area, and their cost per sq m is correspondingly higher.\n",
    "- Ceiling_height 0.32 / 0.12 The ceiling height practically does not affect the price of an apartment in the city center. Perhaps this is due to the fact that traditionally in central houses, high ceilings are everywhere.\n",
    "- Total_area 0.17 / -0.04 There is no dependence of the cost on the size of the total area in the center, in contrast to other areas.\n",
    "- Floor 0.22 / 0.13 number of storeys practically does not affect the cost of an apartment in the center, although there is still a slight dependence.\n",
    "- The date of placement in both cases does not affect the price in any way."
   ]
  },
  {
   "cell_type": "markdown",
   "metadata": {},
   "source": [
    "<a id=\"oc\"></a>"
   ]
  },
  {
   "cell_type": "markdown",
   "metadata": {},
   "source": [
    "### Overall conclusion"
   ]
  },
  {
   "cell_type": "markdown",
   "metadata": {},
   "source": [
    "Based on all the data studied, we can say that the location has the greatest influence on the cost of an apartment. \n",
    "- So, apartments in St. Petersburg are more expensive than in the nearby suburbs;\n",
    "- You will pay the most money for an apartment in St. Petersburg if it is located in the city center. Further, the cost decreases fairly evenly in accordance with the distance from the center. \n",
    "- At the same time, the area of an apartment and the height of the ceilings practically do not affect the cost, although we noticed that the minimum cost of apartments with a larger area and a higher ceiling is on average higher than that of small apartments.\n",
    "- The correlation coefficient between the cost and the number of rooms is negative and tends to zero for all data, and slightly increases in the center. This may be due to the fact that former communal apartments with a large number of rooms are valued less than already renovated apartments. Also, the reason may be that apartments with a small area and one room are quite rare in this area, and their cost per sq m is correspondingly higher.\n",
    "- It can also be said that, on average, apartments on the first and last floors can be cheaper than their counterparts on other floors.\n",
    "- The date of placement in both cases has no effect on the value."
   ]
  }
 ],
 "metadata": {
  "kernelspec": {
   "display_name": "Python 3",
   "language": "python",
   "name": "python3"
  },
  "language_info": {
   "codemirror_mode": {
    "name": "ipython",
    "version": 3
   },
   "file_extension": ".py",
   "mimetype": "text/x-python",
   "name": "python",
   "nbconvert_exporter": "python",
   "pygments_lexer": "ipython3",
   "version": "3.8.3"
  }
 },
 "nbformat": 4,
 "nbformat_minor": 2
}
