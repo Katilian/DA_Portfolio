{
 "cells": [
  {
   "cell_type": "markdown",
   "metadata": {},
   "source": [
    "# Mobile game SB Project\n",
    "\n",
    "for the developer of the mobile game Space Brothers. The goal is to create a monetization model.\n",
    "\n",
    "## Content plan\n",
    "\n",
    "1. [Step1](#Step1) Opening the data file and studing the general information\n",
    "2. [Step2](#Step2) Preparing the data\n",
    "3. [Step3](#Step3) Analysing the data\n",
    "4. [Step4](#Step4) Testing statistical hypothesis \n",
    "5. [Overall conclusion](#oc)\n"
   ]
  },
  {
   "cell_type": "markdown",
   "metadata": {},
   "source": [
    "### Step1"
   ]
  },
  {
   "cell_type": "code",
   "execution_count": 63,
   "metadata": {},
   "outputs": [],
   "source": [
    "import pandas as pd\n",
    "import numpy as np\n",
    "import seaborn as sns\n",
    "from matplotlib import pyplot as plt\n",
    "from scipy import stats as st\n",
    "from scipy.stats import levene"
   ]
  },
  {
   "cell_type": "code",
   "execution_count": 3,
   "metadata": {},
   "outputs": [
    {
     "name": "stdout",
     "output_type": "stream",
     "text": [
      "<class 'pandas.core.frame.DataFrame'>\n",
      "RangeIndex: 13576 entries, 0 to 13575\n",
      "Data columns (total 3 columns):\n",
      " #   Column      Non-Null Count  Dtype \n",
      "---  ------      --------------  ----- \n",
      " 0   user_id     13576 non-null  object\n",
      " 1   event_date  13576 non-null  object\n",
      " 2   source      13576 non-null  object\n",
      "dtypes: object(3)\n",
      "memory usage: 318.3+ KB\n"
     ]
    }
   ],
   "source": [
    "source = pd.read_csv('user_source_us.csv')\n",
    "source.info()"
   ]
  },
  {
   "cell_type": "code",
   "execution_count": 4,
   "metadata": {},
   "outputs": [
    {
     "data": {
      "text/html": [
       "<div>\n",
       "<style scoped>\n",
       "    .dataframe tbody tr th:only-of-type {\n",
       "        vertical-align: middle;\n",
       "    }\n",
       "\n",
       "    .dataframe tbody tr th {\n",
       "        vertical-align: top;\n",
       "    }\n",
       "\n",
       "    .dataframe thead th {\n",
       "        text-align: right;\n",
       "    }\n",
       "</style>\n",
       "<table border=\"1\" class=\"dataframe\">\n",
       "  <thead>\n",
       "    <tr style=\"text-align: right;\">\n",
       "      <th></th>\n",
       "      <th>user_id</th>\n",
       "      <th>event_date</th>\n",
       "      <th>source</th>\n",
       "    </tr>\n",
       "  </thead>\n",
       "  <tbody>\n",
       "    <tr>\n",
       "      <th>0</th>\n",
       "      <td>0001f83c-c6ac-4621-b7f0-8a28b283ac30</td>\n",
       "      <td>2020-05-06</td>\n",
       "      <td>facebook_ads</td>\n",
       "    </tr>\n",
       "    <tr>\n",
       "      <th>1</th>\n",
       "      <td>00151b4f-ba38-44a8-a650-d7cf130a0105</td>\n",
       "      <td>2020-05-06</td>\n",
       "      <td>google_play_ads</td>\n",
       "    </tr>\n",
       "    <tr>\n",
       "      <th>2</th>\n",
       "      <td>001aaea6-3d14-43f1-8ca8-7f48820f17aa</td>\n",
       "      <td>2020-05-05</td>\n",
       "      <td>youtube_channel_network</td>\n",
       "    </tr>\n",
       "    <tr>\n",
       "      <th>3</th>\n",
       "      <td>001d39dc-366c-4021-9604-6a3b9ff01e25</td>\n",
       "      <td>2020-05-05</td>\n",
       "      <td>instagram_new_adverts</td>\n",
       "    </tr>\n",
       "    <tr>\n",
       "      <th>4</th>\n",
       "      <td>002f508f-67b6-479f-814b-b05f00d4e995</td>\n",
       "      <td>2020-05-05</td>\n",
       "      <td>facebook_ads</td>\n",
       "    </tr>\n",
       "  </tbody>\n",
       "</table>\n",
       "</div>"
      ],
      "text/plain": [
       "                                user_id  event_date                   source\n",
       "0  0001f83c-c6ac-4621-b7f0-8a28b283ac30  2020-05-06             facebook_ads\n",
       "1  00151b4f-ba38-44a8-a650-d7cf130a0105  2020-05-06          google_play_ads\n",
       "2  001aaea6-3d14-43f1-8ca8-7f48820f17aa  2020-05-05  youtube_channel_network\n",
       "3  001d39dc-366c-4021-9604-6a3b9ff01e25  2020-05-05    instagram_new_adverts\n",
       "4  002f508f-67b6-479f-814b-b05f00d4e995  2020-05-05             facebook_ads"
      ]
     },
     "execution_count": 4,
     "metadata": {},
     "output_type": "execute_result"
    }
   ],
   "source": [
    "source.head()"
   ]
  },
  {
   "cell_type": "code",
   "execution_count": 5,
   "metadata": {},
   "outputs": [
    {
     "data": {
      "text/html": [
       "<div>\n",
       "<style scoped>\n",
       "    .dataframe tbody tr th:only-of-type {\n",
       "        vertical-align: middle;\n",
       "    }\n",
       "\n",
       "    .dataframe tbody tr th {\n",
       "        vertical-align: top;\n",
       "    }\n",
       "\n",
       "    .dataframe thead th {\n",
       "        text-align: right;\n",
       "    }\n",
       "</style>\n",
       "<table border=\"1\" class=\"dataframe\">\n",
       "  <thead>\n",
       "    <tr style=\"text-align: right;\">\n",
       "      <th></th>\n",
       "      <th>user_id</th>\n",
       "      <th>event_date</th>\n",
       "      <th>source</th>\n",
       "    </tr>\n",
       "  </thead>\n",
       "  <tbody>\n",
       "    <tr>\n",
       "      <th>count</th>\n",
       "      <td>13576</td>\n",
       "      <td>13576</td>\n",
       "      <td>13576</td>\n",
       "    </tr>\n",
       "    <tr>\n",
       "      <th>unique</th>\n",
       "      <td>13576</td>\n",
       "      <td>7</td>\n",
       "      <td>4</td>\n",
       "    </tr>\n",
       "    <tr>\n",
       "      <th>top</th>\n",
       "      <td>13c2eec6-170f-4503-868c-6c637a4a7bbd</td>\n",
       "      <td>2020-05-04</td>\n",
       "      <td>google_play_ads</td>\n",
       "    </tr>\n",
       "    <tr>\n",
       "      <th>freq</th>\n",
       "      <td>1</td>\n",
       "      <td>5860</td>\n",
       "      <td>4817</td>\n",
       "    </tr>\n",
       "  </tbody>\n",
       "</table>\n",
       "</div>"
      ],
      "text/plain": [
       "                                     user_id  event_date           source\n",
       "count                                  13576       13576            13576\n",
       "unique                                 13576           7                4\n",
       "top     13c2eec6-170f-4503-868c-6c637a4a7bbd  2020-05-04  google_play_ads\n",
       "freq                                       1        5860             4817"
      ]
     },
     "execution_count": 5,
     "metadata": {},
     "output_type": "execute_result"
    }
   ],
   "source": [
    "source.describe()"
   ]
  },
  {
   "cell_type": "code",
   "execution_count": 6,
   "metadata": {},
   "outputs": [
    {
     "name": "stdout",
     "output_type": "stream",
     "text": [
      "<class 'pandas.core.frame.DataFrame'>\n",
      "RangeIndex: 28 entries, 0 to 27\n",
      "Data columns (total 3 columns):\n",
      " #   Column  Non-Null Count  Dtype  \n",
      "---  ------  --------------  -----  \n",
      " 0   source  28 non-null     object \n",
      " 1   day     28 non-null     object \n",
      " 2   cost    28 non-null     float64\n",
      "dtypes: float64(1), object(2)\n",
      "memory usage: 800.0+ bytes\n"
     ]
    }
   ],
   "source": [
    "ad_cost=pd.read_csv('ad_costs_us.csv')\n",
    "ad_cost.info()"
   ]
  },
  {
   "cell_type": "code",
   "execution_count": 7,
   "metadata": {},
   "outputs": [
    {
     "data": {
      "text/html": [
       "<div>\n",
       "<style scoped>\n",
       "    .dataframe tbody tr th:only-of-type {\n",
       "        vertical-align: middle;\n",
       "    }\n",
       "\n",
       "    .dataframe tbody tr th {\n",
       "        vertical-align: top;\n",
       "    }\n",
       "\n",
       "    .dataframe thead th {\n",
       "        text-align: right;\n",
       "    }\n",
       "</style>\n",
       "<table border=\"1\" class=\"dataframe\">\n",
       "  <thead>\n",
       "    <tr style=\"text-align: right;\">\n",
       "      <th></th>\n",
       "      <th>source</th>\n",
       "      <th>day</th>\n",
       "      <th>cost</th>\n",
       "    </tr>\n",
       "  </thead>\n",
       "  <tbody>\n",
       "    <tr>\n",
       "      <th>0</th>\n",
       "      <td>facebook_ads</td>\n",
       "      <td>2020-05-03</td>\n",
       "      <td>935.882786</td>\n",
       "    </tr>\n",
       "    <tr>\n",
       "      <th>1</th>\n",
       "      <td>facebook_ads</td>\n",
       "      <td>2020-05-04</td>\n",
       "      <td>548.354480</td>\n",
       "    </tr>\n",
       "    <tr>\n",
       "      <th>2</th>\n",
       "      <td>facebook_ads</td>\n",
       "      <td>2020-05-05</td>\n",
       "      <td>260.185754</td>\n",
       "    </tr>\n",
       "    <tr>\n",
       "      <th>3</th>\n",
       "      <td>facebook_ads</td>\n",
       "      <td>2020-05-06</td>\n",
       "      <td>177.982200</td>\n",
       "    </tr>\n",
       "    <tr>\n",
       "      <th>4</th>\n",
       "      <td>facebook_ads</td>\n",
       "      <td>2020-05-07</td>\n",
       "      <td>111.766796</td>\n",
       "    </tr>\n",
       "  </tbody>\n",
       "</table>\n",
       "</div>"
      ],
      "text/plain": [
       "         source         day        cost\n",
       "0  facebook_ads  2020-05-03  935.882786\n",
       "1  facebook_ads  2020-05-04  548.354480\n",
       "2  facebook_ads  2020-05-05  260.185754\n",
       "3  facebook_ads  2020-05-06  177.982200\n",
       "4  facebook_ads  2020-05-07  111.766796"
      ]
     },
     "execution_count": 7,
     "metadata": {},
     "output_type": "execute_result"
    }
   ],
   "source": [
    "ad_cost.head(5)"
   ]
  },
  {
   "cell_type": "code",
   "execution_count": 8,
   "metadata": {},
   "outputs": [
    {
     "name": "stdout",
     "output_type": "stream",
     "text": [
      "<class 'pandas.core.frame.DataFrame'>\n",
      "RangeIndex: 135640 entries, 0 to 135639\n",
      "Data columns (total 5 columns):\n",
      " #   Column          Non-Null Count   Dtype \n",
      "---  ------          --------------   ----- \n",
      " 0   event_datetime  135640 non-null  object\n",
      " 1   event           135640 non-null  object\n",
      " 2   building_type   127957 non-null  object\n",
      " 3   user_id         135640 non-null  object\n",
      " 4   project_type    1866 non-null    object\n",
      "dtypes: object(5)\n",
      "memory usage: 5.2+ MB\n"
     ]
    }
   ],
   "source": [
    "events=pd.read_csv('events_us.csv')\n",
    "events.info()"
   ]
  },
  {
   "cell_type": "code",
   "execution_count": 9,
   "metadata": {
    "scrolled": true
   },
   "outputs": [
    {
     "data": {
      "text/html": [
       "<div>\n",
       "<style scoped>\n",
       "    .dataframe tbody tr th:only-of-type {\n",
       "        vertical-align: middle;\n",
       "    }\n",
       "\n",
       "    .dataframe tbody tr th {\n",
       "        vertical-align: top;\n",
       "    }\n",
       "\n",
       "    .dataframe thead th {\n",
       "        text-align: right;\n",
       "    }\n",
       "</style>\n",
       "<table border=\"1\" class=\"dataframe\">\n",
       "  <thead>\n",
       "    <tr style=\"text-align: right;\">\n",
       "      <th></th>\n",
       "      <th>event_datetime</th>\n",
       "      <th>event</th>\n",
       "      <th>building_type</th>\n",
       "      <th>user_id</th>\n",
       "      <th>project_type</th>\n",
       "    </tr>\n",
       "  </thead>\n",
       "  <tbody>\n",
       "    <tr>\n",
       "      <th>0</th>\n",
       "      <td>2020-05-04 00:00:01</td>\n",
       "      <td>building</td>\n",
       "      <td>assembly_shop</td>\n",
       "      <td>55e92310-cb8e-4754-b622-597e124b03de</td>\n",
       "      <td>NaN</td>\n",
       "    </tr>\n",
       "    <tr>\n",
       "      <th>1</th>\n",
       "      <td>2020-05-04 00:00:03</td>\n",
       "      <td>building</td>\n",
       "      <td>assembly_shop</td>\n",
       "      <td>c07b1c10-f477-44dc-81dc-ec82254b1347</td>\n",
       "      <td>NaN</td>\n",
       "    </tr>\n",
       "    <tr>\n",
       "      <th>2</th>\n",
       "      <td>2020-05-04 00:00:16</td>\n",
       "      <td>building</td>\n",
       "      <td>assembly_shop</td>\n",
       "      <td>6edd42cc-e753-4ff6-a947-2107cd560710</td>\n",
       "      <td>NaN</td>\n",
       "    </tr>\n",
       "    <tr>\n",
       "      <th>3</th>\n",
       "      <td>2020-05-04 00:00:16</td>\n",
       "      <td>building</td>\n",
       "      <td>assembly_shop</td>\n",
       "      <td>92c69003-d60a-444a-827f-8cc51bf6bf4c</td>\n",
       "      <td>NaN</td>\n",
       "    </tr>\n",
       "    <tr>\n",
       "      <th>4</th>\n",
       "      <td>2020-05-04 00:00:35</td>\n",
       "      <td>building</td>\n",
       "      <td>assembly_shop</td>\n",
       "      <td>cdc6bb92-0ccb-4490-9866-ef142f09139d</td>\n",
       "      <td>NaN</td>\n",
       "    </tr>\n",
       "  </tbody>\n",
       "</table>\n",
       "</div>"
      ],
      "text/plain": [
       "        event_datetime     event  building_type  \\\n",
       "0  2020-05-04 00:00:01  building  assembly_shop   \n",
       "1  2020-05-04 00:00:03  building  assembly_shop   \n",
       "2  2020-05-04 00:00:16  building  assembly_shop   \n",
       "3  2020-05-04 00:00:16  building  assembly_shop   \n",
       "4  2020-05-04 00:00:35  building  assembly_shop   \n",
       "\n",
       "                                user_id project_type  \n",
       "0  55e92310-cb8e-4754-b622-597e124b03de          NaN  \n",
       "1  c07b1c10-f477-44dc-81dc-ec82254b1347          NaN  \n",
       "2  6edd42cc-e753-4ff6-a947-2107cd560710          NaN  \n",
       "3  92c69003-d60a-444a-827f-8cc51bf6bf4c          NaN  \n",
       "4  cdc6bb92-0ccb-4490-9866-ef142f09139d          NaN  "
      ]
     },
     "execution_count": 9,
     "metadata": {},
     "output_type": "execute_result"
    }
   ],
   "source": [
    "events.head()"
   ]
  },
  {
   "cell_type": "code",
   "execution_count": 10,
   "metadata": {},
   "outputs": [
    {
     "data": {
      "text/html": [
       "<div>\n",
       "<style scoped>\n",
       "    .dataframe tbody tr th:only-of-type {\n",
       "        vertical-align: middle;\n",
       "    }\n",
       "\n",
       "    .dataframe tbody tr th {\n",
       "        vertical-align: top;\n",
       "    }\n",
       "\n",
       "    .dataframe thead th {\n",
       "        text-align: right;\n",
       "    }\n",
       "</style>\n",
       "<table border=\"1\" class=\"dataframe\">\n",
       "  <thead>\n",
       "    <tr style=\"text-align: right;\">\n",
       "      <th></th>\n",
       "      <th>event_datetime</th>\n",
       "      <th>event</th>\n",
       "      <th>building_type</th>\n",
       "      <th>user_id</th>\n",
       "      <th>project_type</th>\n",
       "    </tr>\n",
       "  </thead>\n",
       "  <tbody>\n",
       "    <tr>\n",
       "      <th>135635</th>\n",
       "      <td>2020-06-05 00:08:06</td>\n",
       "      <td>building</td>\n",
       "      <td>research_center</td>\n",
       "      <td>f21d179f-1c4b-437e-b9c6-ab1976907195</td>\n",
       "      <td>NaN</td>\n",
       "    </tr>\n",
       "    <tr>\n",
       "      <th>135636</th>\n",
       "      <td>2020-06-05 02:25:12</td>\n",
       "      <td>finished_stage_1</td>\n",
       "      <td>NaN</td>\n",
       "      <td>515c1952-99aa-4bca-a7ea-d0449eb5385a</td>\n",
       "      <td>NaN</td>\n",
       "    </tr>\n",
       "    <tr>\n",
       "      <th>135637</th>\n",
       "      <td>2020-06-05 08:57:52</td>\n",
       "      <td>building</td>\n",
       "      <td>research_center</td>\n",
       "      <td>ed3e7d02-8a96-4be7-9998-e9813ff9c316</td>\n",
       "      <td>NaN</td>\n",
       "    </tr>\n",
       "    <tr>\n",
       "      <th>135638</th>\n",
       "      <td>2020-06-05 12:12:27</td>\n",
       "      <td>finished_stage_1</td>\n",
       "      <td>NaN</td>\n",
       "      <td>32572adb-900f-4b5d-a453-1eb1e6d88d8b</td>\n",
       "      <td>NaN</td>\n",
       "    </tr>\n",
       "    <tr>\n",
       "      <th>135639</th>\n",
       "      <td>2020-06-05 12:32:49</td>\n",
       "      <td>finished_stage_1</td>\n",
       "      <td>NaN</td>\n",
       "      <td>f21d179f-1c4b-437e-b9c6-ab1976907195</td>\n",
       "      <td>NaN</td>\n",
       "    </tr>\n",
       "  </tbody>\n",
       "</table>\n",
       "</div>"
      ],
      "text/plain": [
       "             event_datetime             event    building_type  \\\n",
       "135635  2020-06-05 00:08:06          building  research_center   \n",
       "135636  2020-06-05 02:25:12  finished_stage_1              NaN   \n",
       "135637  2020-06-05 08:57:52          building  research_center   \n",
       "135638  2020-06-05 12:12:27  finished_stage_1              NaN   \n",
       "135639  2020-06-05 12:32:49  finished_stage_1              NaN   \n",
       "\n",
       "                                     user_id project_type  \n",
       "135635  f21d179f-1c4b-437e-b9c6-ab1976907195          NaN  \n",
       "135636  515c1952-99aa-4bca-a7ea-d0449eb5385a          NaN  \n",
       "135637  ed3e7d02-8a96-4be7-9998-e9813ff9c316          NaN  \n",
       "135638  32572adb-900f-4b5d-a453-1eb1e6d88d8b          NaN  \n",
       "135639  f21d179f-1c4b-437e-b9c6-ab1976907195          NaN  "
      ]
     },
     "execution_count": 10,
     "metadata": {},
     "output_type": "execute_result"
    }
   ],
   "source": [
    "events.tail()"
   ]
  },
  {
   "cell_type": "code",
   "execution_count": 11,
   "metadata": {},
   "outputs": [
    {
     "data": {
      "text/html": [
       "<div>\n",
       "<style scoped>\n",
       "    .dataframe tbody tr th:only-of-type {\n",
       "        vertical-align: middle;\n",
       "    }\n",
       "\n",
       "    .dataframe tbody tr th {\n",
       "        vertical-align: top;\n",
       "    }\n",
       "\n",
       "    .dataframe thead th {\n",
       "        text-align: right;\n",
       "    }\n",
       "</style>\n",
       "<table border=\"1\" class=\"dataframe\">\n",
       "  <thead>\n",
       "    <tr style=\"text-align: right;\">\n",
       "      <th></th>\n",
       "      <th>event_datetime</th>\n",
       "      <th>event</th>\n",
       "      <th>building_type</th>\n",
       "      <th>user_id</th>\n",
       "      <th>project_type</th>\n",
       "    </tr>\n",
       "  </thead>\n",
       "  <tbody>\n",
       "    <tr>\n",
       "      <th>count</th>\n",
       "      <td>135640</td>\n",
       "      <td>135640</td>\n",
       "      <td>127957</td>\n",
       "      <td>135640</td>\n",
       "      <td>1866</td>\n",
       "    </tr>\n",
       "    <tr>\n",
       "      <th>unique</th>\n",
       "      <td>128790</td>\n",
       "      <td>3</td>\n",
       "      <td>3</td>\n",
       "      <td>13576</td>\n",
       "      <td>1</td>\n",
       "    </tr>\n",
       "    <tr>\n",
       "      <th>top</th>\n",
       "      <td>2020-05-07 03:10:43</td>\n",
       "      <td>building</td>\n",
       "      <td>spaceport</td>\n",
       "      <td>ff841992-d93b-462e-bc6e-18c24a514f36</td>\n",
       "      <td>satellite_orbital_assembly</td>\n",
       "    </tr>\n",
       "    <tr>\n",
       "      <th>freq</th>\n",
       "      <td>4</td>\n",
       "      <td>127957</td>\n",
       "      <td>59325</td>\n",
       "      <td>22</td>\n",
       "      <td>1866</td>\n",
       "    </tr>\n",
       "  </tbody>\n",
       "</table>\n",
       "</div>"
      ],
      "text/plain": [
       "             event_datetime     event building_type  \\\n",
       "count                135640    135640        127957   \n",
       "unique               128790         3             3   \n",
       "top     2020-05-07 03:10:43  building     spaceport   \n",
       "freq                      4    127957         59325   \n",
       "\n",
       "                                     user_id                project_type  \n",
       "count                                 135640                        1866  \n",
       "unique                                 13576                           1  \n",
       "top     ff841992-d93b-462e-bc6e-18c24a514f36  satellite_orbital_assembly  \n",
       "freq                                      22                        1866  "
      ]
     },
     "execution_count": 11,
     "metadata": {},
     "output_type": "execute_result"
    }
   ],
   "source": [
    "events.describe()"
   ]
  },
  {
   "cell_type": "code",
   "execution_count": 12,
   "metadata": {},
   "outputs": [
    {
     "data": {
      "text/plain": [
       "building            127957\n",
       "finished_stage_1      5817\n",
       "project               1866\n",
       "Name: event, dtype: int64"
      ]
     },
     "execution_count": 12,
     "metadata": {},
     "output_type": "execute_result"
    }
   ],
   "source": [
    "events['event'].value_counts()"
   ]
  },
  {
   "cell_type": "code",
   "execution_count": 13,
   "metadata": {},
   "outputs": [
    {
     "data": {
      "text/plain": [
       "spaceport          59325\n",
       "assembly_shop      54494\n",
       "research_center    14138\n",
       "Name: building_type, dtype: int64"
      ]
     },
     "execution_count": 13,
     "metadata": {},
     "output_type": "execute_result"
    }
   ],
   "source": [
    "events['building_type'].value_counts()"
   ]
  },
  {
   "cell_type": "code",
   "execution_count": 14,
   "metadata": {},
   "outputs": [
    {
     "data": {
      "text/plain": [
       "satellite_orbital_assembly    1866\n",
       "Name: project_type, dtype: int64"
      ]
     },
     "execution_count": 14,
     "metadata": {},
     "output_type": "execute_result"
    }
   ],
   "source": [
    "events['project_type'].value_counts()"
   ]
  },
  {
   "cell_type": "code",
   "execution_count": 15,
   "metadata": {},
   "outputs": [
    {
     "data": {
      "text/plain": [
       "7683"
      ]
     },
     "execution_count": 15,
     "metadata": {},
     "output_type": "execute_result"
    }
   ],
   "source": [
    "events['building_type'].isnull().sum()"
   ]
  },
  {
   "cell_type": "markdown",
   "metadata": {},
   "source": [
    "It seems, the values in the building type column are missing for those types of events where they are not provided."
   ]
  },
  {
   "cell_type": "code",
   "execution_count": 16,
   "metadata": {},
   "outputs": [
    {
     "data": {
      "text/plain": [
       "5817"
      ]
     },
     "execution_count": 16,
     "metadata": {},
     "output_type": "execute_result"
    }
   ],
   "source": [
    "events.query('event == \"finished_stage_1\"' or 'event == \"project\"')['user_id'].nunique()"
   ]
  },
  {
   "cell_type": "code",
   "execution_count": 17,
   "metadata": {},
   "outputs": [
    {
     "data": {
      "text/plain": [
       "1866"
      ]
     },
     "execution_count": 17,
     "metadata": {},
     "output_type": "execute_result"
    }
   ],
   "source": [
    "events.query('event == \"finished_stage_1\"' and 'event == \"project\"')['user_id'].nunique()"
   ]
  },
  {
   "cell_type": "code",
   "execution_count": 18,
   "metadata": {},
   "outputs": [
    {
     "data": {
      "text/plain": [
       "5817"
      ]
     },
     "execution_count": 18,
     "metadata": {},
     "output_type": "execute_result"
    }
   ],
   "source": [
    "events.query('event != \"building\"')['user_id'].nunique()\n"
   ]
  },
  {
   "cell_type": "markdown",
   "metadata": {},
   "source": [
    "Based on the data, we can say that some of the players with the finished_stage_1 status also have an event project, which means that they completed the first level by building a satellite station."
   ]
  },
  {
   "cell_type": "markdown",
   "metadata": {},
   "source": [
    "### Step2"
   ]
  },
  {
   "cell_type": "markdown",
   "metadata": {},
   "source": [
    "Convert the data to the required types"
   ]
  },
  {
   "cell_type": "code",
   "execution_count": 19,
   "metadata": {
    "scrolled": false
   },
   "outputs": [
    {
     "data": {
      "text/html": [
       "<div>\n",
       "<style scoped>\n",
       "    .dataframe tbody tr th:only-of-type {\n",
       "        vertical-align: middle;\n",
       "    }\n",
       "\n",
       "    .dataframe tbody tr th {\n",
       "        vertical-align: top;\n",
       "    }\n",
       "\n",
       "    .dataframe thead th {\n",
       "        text-align: right;\n",
       "    }\n",
       "</style>\n",
       "<table border=\"1\" class=\"dataframe\">\n",
       "  <thead>\n",
       "    <tr style=\"text-align: right;\">\n",
       "      <th></th>\n",
       "      <th>event_datetime</th>\n",
       "      <th>event</th>\n",
       "      <th>building_type</th>\n",
       "      <th>user_id</th>\n",
       "      <th>project_type</th>\n",
       "    </tr>\n",
       "  </thead>\n",
       "  <tbody>\n",
       "    <tr>\n",
       "      <th>0</th>\n",
       "      <td>2020-05-04 00:00:01</td>\n",
       "      <td>building</td>\n",
       "      <td>assembly_shop</td>\n",
       "      <td>55e92310-cb8e-4754-b622-597e124b03de</td>\n",
       "      <td>NaN</td>\n",
       "    </tr>\n",
       "    <tr>\n",
       "      <th>1</th>\n",
       "      <td>2020-05-04 00:00:03</td>\n",
       "      <td>building</td>\n",
       "      <td>assembly_shop</td>\n",
       "      <td>c07b1c10-f477-44dc-81dc-ec82254b1347</td>\n",
       "      <td>NaN</td>\n",
       "    </tr>\n",
       "    <tr>\n",
       "      <th>2</th>\n",
       "      <td>2020-05-04 00:00:16</td>\n",
       "      <td>building</td>\n",
       "      <td>assembly_shop</td>\n",
       "      <td>6edd42cc-e753-4ff6-a947-2107cd560710</td>\n",
       "      <td>NaN</td>\n",
       "    </tr>\n",
       "    <tr>\n",
       "      <th>3</th>\n",
       "      <td>2020-05-04 00:00:16</td>\n",
       "      <td>building</td>\n",
       "      <td>assembly_shop</td>\n",
       "      <td>92c69003-d60a-444a-827f-8cc51bf6bf4c</td>\n",
       "      <td>NaN</td>\n",
       "    </tr>\n",
       "    <tr>\n",
       "      <th>4</th>\n",
       "      <td>2020-05-04 00:00:35</td>\n",
       "      <td>building</td>\n",
       "      <td>assembly_shop</td>\n",
       "      <td>cdc6bb92-0ccb-4490-9866-ef142f09139d</td>\n",
       "      <td>NaN</td>\n",
       "    </tr>\n",
       "  </tbody>\n",
       "</table>\n",
       "</div>"
      ],
      "text/plain": [
       "       event_datetime     event  building_type  \\\n",
       "0 2020-05-04 00:00:01  building  assembly_shop   \n",
       "1 2020-05-04 00:00:03  building  assembly_shop   \n",
       "2 2020-05-04 00:00:16  building  assembly_shop   \n",
       "3 2020-05-04 00:00:16  building  assembly_shop   \n",
       "4 2020-05-04 00:00:35  building  assembly_shop   \n",
       "\n",
       "                                user_id project_type  \n",
       "0  55e92310-cb8e-4754-b622-597e124b03de          NaN  \n",
       "1  c07b1c10-f477-44dc-81dc-ec82254b1347          NaN  \n",
       "2  6edd42cc-e753-4ff6-a947-2107cd560710          NaN  \n",
       "3  92c69003-d60a-444a-827f-8cc51bf6bf4c          NaN  \n",
       "4  cdc6bb92-0ccb-4490-9866-ef142f09139d          NaN  "
      ]
     },
     "execution_count": 19,
     "metadata": {},
     "output_type": "execute_result"
    }
   ],
   "source": [
    "source['event_date'] = pd.to_datetime(source['event_date'], format=\"%Y-%m-%d\")\n",
    "ad_cost['day'] = pd.to_datetime(ad_cost['day'], format=\"%Y-%m-%d\")\n",
    "events['event_datetime'] = pd.to_datetime(events['event_datetime'], format=\"%Y-%m-%d %H:%M:%S\")\n",
    "events.head()"
   ]
  },
  {
   "cell_type": "code",
   "execution_count": 20,
   "metadata": {},
   "outputs": [
    {
     "data": {
      "text/plain": [
       "1"
      ]
     },
     "execution_count": 20,
     "metadata": {},
     "output_type": "execute_result"
    }
   ],
   "source": [
    "events.duplicated().sum()"
   ]
  },
  {
   "cell_type": "code",
   "execution_count": 21,
   "metadata": {},
   "outputs": [
    {
     "data": {
      "text/plain": [
       "0"
      ]
     },
     "execution_count": 21,
     "metadata": {},
     "output_type": "execute_result"
    }
   ],
   "source": [
    "ad_cost.duplicated().sum()"
   ]
  },
  {
   "cell_type": "code",
   "execution_count": 22,
   "metadata": {},
   "outputs": [
    {
     "data": {
      "text/plain": [
       "0"
      ]
     },
     "execution_count": 22,
     "metadata": {},
     "output_type": "execute_result"
    }
   ],
   "source": [
    "source.duplicated().sum()"
   ]
  },
  {
   "cell_type": "code",
   "execution_count": 23,
   "metadata": {},
   "outputs": [
    {
     "data": {
      "text/plain": [
       "0"
      ]
     },
     "execution_count": 23,
     "metadata": {},
     "output_type": "execute_result"
    }
   ],
   "source": [
    "events.drop_duplicates(inplace=True)\n",
    "events.duplicated().sum()"
   ]
  },
  {
   "cell_type": "markdown",
   "metadata": {},
   "source": [
    "There are no duplicates and all data types are as required."
   ]
  },
  {
   "cell_type": "markdown",
   "metadata": {},
   "source": [
    "### Step3"
   ]
  },
  {
   "cell_type": "markdown",
   "metadata": {},
   "source": [
    "**Make cohorts\n",
    "How long does it take from the moment of clicking on the advertisement to the first event.\n",
    "Look at how many users have reached the end of the first stage. How long did it take.**"
   ]
  },
  {
   "cell_type": "code",
   "execution_count": 24,
   "metadata": {},
   "outputs": [
    {
     "data": {
      "text/plain": [
       "5817"
      ]
     },
     "execution_count": 24,
     "metadata": {},
     "output_type": "execute_result"
    }
   ],
   "source": [
    "events[events['event'] == 'finished_stage_1']['user_id'].nunique()"
   ]
  },
  {
   "cell_type": "markdown",
   "metadata": {},
   "source": [
    "First stage finished 5817 users"
   ]
  },
  {
   "cell_type": "code",
   "execution_count": 25,
   "metadata": {
    "scrolled": true
   },
   "outputs": [
    {
     "data": {
      "text/html": [
       "<div>\n",
       "<style scoped>\n",
       "    .dataframe tbody tr th:only-of-type {\n",
       "        vertical-align: middle;\n",
       "    }\n",
       "\n",
       "    .dataframe tbody tr th {\n",
       "        vertical-align: top;\n",
       "    }\n",
       "\n",
       "    .dataframe thead th {\n",
       "        text-align: right;\n",
       "    }\n",
       "</style>\n",
       "<table border=\"1\" class=\"dataframe\">\n",
       "  <thead>\n",
       "    <tr style=\"text-align: right;\">\n",
       "      <th></th>\n",
       "      <th>user_id</th>\n",
       "      <th>first_event</th>\n",
       "    </tr>\n",
       "  </thead>\n",
       "  <tbody>\n",
       "    <tr>\n",
       "      <th>0</th>\n",
       "      <td>0001f83c-c6ac-4621-b7f0-8a28b283ac30</td>\n",
       "      <td>2020-05-06</td>\n",
       "    </tr>\n",
       "    <tr>\n",
       "      <th>1</th>\n",
       "      <td>00151b4f-ba38-44a8-a650-d7cf130a0105</td>\n",
       "      <td>2020-05-06</td>\n",
       "    </tr>\n",
       "    <tr>\n",
       "      <th>2</th>\n",
       "      <td>001aaea6-3d14-43f1-8ca8-7f48820f17aa</td>\n",
       "      <td>2020-05-05</td>\n",
       "    </tr>\n",
       "    <tr>\n",
       "      <th>3</th>\n",
       "      <td>001d39dc-366c-4021-9604-6a3b9ff01e25</td>\n",
       "      <td>2020-05-05</td>\n",
       "    </tr>\n",
       "    <tr>\n",
       "      <th>4</th>\n",
       "      <td>002f508f-67b6-479f-814b-b05f00d4e995</td>\n",
       "      <td>2020-05-05</td>\n",
       "    </tr>\n",
       "  </tbody>\n",
       "</table>\n",
       "</div>"
      ],
      "text/plain": [
       "                                user_id first_event\n",
       "0  0001f83c-c6ac-4621-b7f0-8a28b283ac30  2020-05-06\n",
       "1  00151b4f-ba38-44a8-a650-d7cf130a0105  2020-05-06\n",
       "2  001aaea6-3d14-43f1-8ca8-7f48820f17aa  2020-05-05\n",
       "3  001d39dc-366c-4021-9604-6a3b9ff01e25  2020-05-05\n",
       "4  002f508f-67b6-479f-814b-b05f00d4e995  2020-05-05"
      ]
     },
     "execution_count": 25,
     "metadata": {},
     "output_type": "execute_result"
    }
   ],
   "source": [
    "first_event = events.groupby(['user_id']).agg({'event_datetime': 'min'}).reset_index()\n",
    "first_event.columns = ['user_id', 'first_event']\n",
    "first_event['first_event'] = first_event['first_event'].dt.date\n",
    "first_event['first_event'] = pd.to_datetime(first_event['first_event'], format=\"%Y-%m-%d\")\n",
    "first_event.head() "
   ]
  },
  {
   "cell_type": "code",
   "execution_count": 26,
   "metadata": {},
   "outputs": [
    {
     "data": {
      "text/html": [
       "<div>\n",
       "<style scoped>\n",
       "    .dataframe tbody tr th:only-of-type {\n",
       "        vertical-align: middle;\n",
       "    }\n",
       "\n",
       "    .dataframe tbody tr th {\n",
       "        vertical-align: top;\n",
       "    }\n",
       "\n",
       "    .dataframe thead th {\n",
       "        text-align: right;\n",
       "    }\n",
       "</style>\n",
       "<table border=\"1\" class=\"dataframe\">\n",
       "  <thead>\n",
       "    <tr style=\"text-align: right;\">\n",
       "      <th></th>\n",
       "      <th>event_datetime</th>\n",
       "      <th>event</th>\n",
       "      <th>building_type</th>\n",
       "      <th>user_id</th>\n",
       "      <th>project_type</th>\n",
       "      <th>first_event</th>\n",
       "      <th>event_date</th>\n",
       "      <th>source</th>\n",
       "    </tr>\n",
       "  </thead>\n",
       "  <tbody>\n",
       "    <tr>\n",
       "      <th>0</th>\n",
       "      <td>2020-05-04 00:00:01</td>\n",
       "      <td>building</td>\n",
       "      <td>assembly_shop</td>\n",
       "      <td>55e92310-cb8e-4754-b622-597e124b03de</td>\n",
       "      <td>NaN</td>\n",
       "      <td>2020-05-04</td>\n",
       "      <td>2020-05-04</td>\n",
       "      <td>youtube_channel_network</td>\n",
       "    </tr>\n",
       "    <tr>\n",
       "      <th>1</th>\n",
       "      <td>2020-05-05 05:20:15</td>\n",
       "      <td>building</td>\n",
       "      <td>assembly_shop</td>\n",
       "      <td>55e92310-cb8e-4754-b622-597e124b03de</td>\n",
       "      <td>NaN</td>\n",
       "      <td>2020-05-04</td>\n",
       "      <td>2020-05-04</td>\n",
       "      <td>youtube_channel_network</td>\n",
       "    </tr>\n",
       "    <tr>\n",
       "      <th>2</th>\n",
       "      <td>2020-05-05 19:24:02</td>\n",
       "      <td>building</td>\n",
       "      <td>assembly_shop</td>\n",
       "      <td>55e92310-cb8e-4754-b622-597e124b03de</td>\n",
       "      <td>NaN</td>\n",
       "      <td>2020-05-04</td>\n",
       "      <td>2020-05-04</td>\n",
       "      <td>youtube_channel_network</td>\n",
       "    </tr>\n",
       "    <tr>\n",
       "      <th>3</th>\n",
       "      <td>2020-05-05 20:59:19</td>\n",
       "      <td>building</td>\n",
       "      <td>assembly_shop</td>\n",
       "      <td>55e92310-cb8e-4754-b622-597e124b03de</td>\n",
       "      <td>NaN</td>\n",
       "      <td>2020-05-04</td>\n",
       "      <td>2020-05-04</td>\n",
       "      <td>youtube_channel_network</td>\n",
       "    </tr>\n",
       "    <tr>\n",
       "      <th>4</th>\n",
       "      <td>2020-05-06 00:52:56</td>\n",
       "      <td>building</td>\n",
       "      <td>assembly_shop</td>\n",
       "      <td>55e92310-cb8e-4754-b622-597e124b03de</td>\n",
       "      <td>NaN</td>\n",
       "      <td>2020-05-04</td>\n",
       "      <td>2020-05-04</td>\n",
       "      <td>youtube_channel_network</td>\n",
       "    </tr>\n",
       "  </tbody>\n",
       "</table>\n",
       "</div>"
      ],
      "text/plain": [
       "       event_datetime     event  building_type  \\\n",
       "0 2020-05-04 00:00:01  building  assembly_shop   \n",
       "1 2020-05-05 05:20:15  building  assembly_shop   \n",
       "2 2020-05-05 19:24:02  building  assembly_shop   \n",
       "3 2020-05-05 20:59:19  building  assembly_shop   \n",
       "4 2020-05-06 00:52:56  building  assembly_shop   \n",
       "\n",
       "                                user_id project_type first_event event_date  \\\n",
       "0  55e92310-cb8e-4754-b622-597e124b03de          NaN  2020-05-04 2020-05-04   \n",
       "1  55e92310-cb8e-4754-b622-597e124b03de          NaN  2020-05-04 2020-05-04   \n",
       "2  55e92310-cb8e-4754-b622-597e124b03de          NaN  2020-05-04 2020-05-04   \n",
       "3  55e92310-cb8e-4754-b622-597e124b03de          NaN  2020-05-04 2020-05-04   \n",
       "4  55e92310-cb8e-4754-b622-597e124b03de          NaN  2020-05-04 2020-05-04   \n",
       "\n",
       "                    source  \n",
       "0  youtube_channel_network  \n",
       "1  youtube_channel_network  \n",
       "2  youtube_channel_network  \n",
       "3  youtube_channel_network  \n",
       "4  youtube_channel_network  "
      ]
     },
     "execution_count": 26,
     "metadata": {},
     "output_type": "execute_result"
    }
   ],
   "source": [
    "events_ = pd.merge(events, first_event, on='user_id')\n",
    "events_total = pd.merge(events_, source, on='user_id')\n",
    "events_total.head()"
   ]
  },
  {
   "cell_type": "code",
   "execution_count": 27,
   "metadata": {},
   "outputs": [
    {
     "data": {
      "text/html": [
       "<div>\n",
       "<style scoped>\n",
       "    .dataframe tbody tr th:only-of-type {\n",
       "        vertical-align: middle;\n",
       "    }\n",
       "\n",
       "    .dataframe tbody tr th {\n",
       "        vertical-align: top;\n",
       "    }\n",
       "\n",
       "    .dataframe thead tr th {\n",
       "        text-align: left;\n",
       "    }\n",
       "\n",
       "    .dataframe thead tr:last-of-type th {\n",
       "        text-align: right;\n",
       "    }\n",
       "</style>\n",
       "<table border=\"1\" class=\"dataframe\">\n",
       "  <thead>\n",
       "    <tr>\n",
       "      <th></th>\n",
       "      <th>count</th>\n",
       "      <th>nunique</th>\n",
       "    </tr>\n",
       "    <tr>\n",
       "      <th>time_to_first_event</th>\n",
       "      <th>0 days</th>\n",
       "      <th>0 days</th>\n",
       "    </tr>\n",
       "    <tr>\n",
       "      <th>event_date</th>\n",
       "      <th></th>\n",
       "      <th></th>\n",
       "    </tr>\n",
       "  </thead>\n",
       "  <tbody>\n",
       "    <tr>\n",
       "      <th>2020-05-04</th>\n",
       "      <td>64226</td>\n",
       "      <td>5860</td>\n",
       "    </tr>\n",
       "    <tr>\n",
       "      <th>2020-05-05</th>\n",
       "      <td>34756</td>\n",
       "      <td>3361</td>\n",
       "    </tr>\n",
       "    <tr>\n",
       "      <th>2020-05-06</th>\n",
       "      <td>17399</td>\n",
       "      <td>1847</td>\n",
       "    </tr>\n",
       "    <tr>\n",
       "      <th>2020-05-07</th>\n",
       "      <td>9429</td>\n",
       "      <td>1109</td>\n",
       "    </tr>\n",
       "    <tr>\n",
       "      <th>2020-05-08</th>\n",
       "      <td>5121</td>\n",
       "      <td>688</td>\n",
       "    </tr>\n",
       "    <tr>\n",
       "      <th>2020-05-09</th>\n",
       "      <td>3025</td>\n",
       "      <td>440</td>\n",
       "    </tr>\n",
       "    <tr>\n",
       "      <th>2020-05-10</th>\n",
       "      <td>1683</td>\n",
       "      <td>271</td>\n",
       "    </tr>\n",
       "  </tbody>\n",
       "</table>\n",
       "</div>"
      ],
      "text/plain": [
       "                     count nunique\n",
       "time_to_first_event 0 days  0 days\n",
       "event_date                        \n",
       "2020-05-04           64226    5860\n",
       "2020-05-05           34756    3361\n",
       "2020-05-06           17399    1847\n",
       "2020-05-07            9429    1109\n",
       "2020-05-08            5121     688\n",
       "2020-05-09            3025     440\n",
       "2020-05-10            1683     271"
      ]
     },
     "execution_count": 27,
     "metadata": {},
     "output_type": "execute_result"
    }
   ],
   "source": [
    "events_total['time_to_first_event'] = events_total['first_event'] - events_total['event_date']\n",
    "event_time = events_total.pivot_table(index='event_date', columns='time_to_first_event', values='user_id', aggfunc=['count','nunique'])\n",
    "event_time"
   ]
  },
  {
   "cell_type": "markdown",
   "metadata": {},
   "source": [
    "All the users made the first event on the same day when they clicked on the advertisement."
   ]
  },
  {
   "cell_type": "code",
   "execution_count": 28,
   "metadata": {},
   "outputs": [
    {
     "data": {
      "text/html": [
       "<div>\n",
       "<style scoped>\n",
       "    .dataframe tbody tr th:only-of-type {\n",
       "        vertical-align: middle;\n",
       "    }\n",
       "\n",
       "    .dataframe tbody tr th {\n",
       "        vertical-align: top;\n",
       "    }\n",
       "\n",
       "    .dataframe thead th {\n",
       "        text-align: right;\n",
       "    }\n",
       "</style>\n",
       "<table border=\"1\" class=\"dataframe\">\n",
       "  <thead>\n",
       "    <tr style=\"text-align: right;\">\n",
       "      <th></th>\n",
       "      <th>first_event</th>\n",
       "      <th>n_users</th>\n",
       "    </tr>\n",
       "  </thead>\n",
       "  <tbody>\n",
       "    <tr>\n",
       "      <th>0</th>\n",
       "      <td>2020-05-04</td>\n",
       "      <td>5860</td>\n",
       "    </tr>\n",
       "    <tr>\n",
       "      <th>1</th>\n",
       "      <td>2020-05-05</td>\n",
       "      <td>3361</td>\n",
       "    </tr>\n",
       "    <tr>\n",
       "      <th>2</th>\n",
       "      <td>2020-05-06</td>\n",
       "      <td>1847</td>\n",
       "    </tr>\n",
       "    <tr>\n",
       "      <th>3</th>\n",
       "      <td>2020-05-07</td>\n",
       "      <td>1109</td>\n",
       "    </tr>\n",
       "    <tr>\n",
       "      <th>4</th>\n",
       "      <td>2020-05-08</td>\n",
       "      <td>688</td>\n",
       "    </tr>\n",
       "    <tr>\n",
       "      <th>5</th>\n",
       "      <td>2020-05-09</td>\n",
       "      <td>440</td>\n",
       "    </tr>\n",
       "    <tr>\n",
       "      <th>6</th>\n",
       "      <td>2020-05-10</td>\n",
       "      <td>271</td>\n",
       "    </tr>\n",
       "  </tbody>\n",
       "</table>\n",
       "</div>"
      ],
      "text/plain": [
       "  first_event  n_users\n",
       "0  2020-05-04     5860\n",
       "1  2020-05-05     3361\n",
       "2  2020-05-06     1847\n",
       "3  2020-05-07     1109\n",
       "4  2020-05-08      688\n",
       "5  2020-05-09      440\n",
       "6  2020-05-10      271"
      ]
     },
     "execution_count": 28,
     "metadata": {},
     "output_type": "execute_result"
    }
   ],
   "source": [
    "users_per_cohort = events_total.groupby('first_event').agg({'user_id': 'nunique'}).reset_index()\n",
    "users_per_cohort.columns = ['first_event', 'n_users']\n",
    "users_per_cohort"
   ]
  },
  {
   "cell_type": "code",
   "execution_count": 29,
   "metadata": {},
   "outputs": [
    {
     "data": {
      "image/png": "[encoded data removed]",
      "text/plain": [
       "<Figure size 1080x576 with 1 Axes>"
      ]
     },
     "metadata": {
      "needs_background": "light"
     },
     "output_type": "display_data"
    }
   ],
   "source": [
    "colors = ['#7d7650', '#99986a', '#a68674', '#e7a885', '#e67548', '#eeaf93', '#f8e078']\n",
    "\n",
    "\n",
    "plt.subplots(figsize=(15, 8))\n",
    "x_dates = users_per_cohort['first_event'].dt.strftime('%Y-%m-%d')\n",
    "ax = sns.barplot(x=x_dates, y='n_users', data=users_per_cohort, palette=colors)\n",
    "\n",
    "plt.title('Users joined the game per day', fontsize=16)\n",
    "plt.xlabel('Join date', fontsize=12)\n",
    "plt.ylabel('Number of users', fontsize=12)\n",
    "plt.xticks(rotation=45)\n",
    "\n",
    "for p in ax.patches:\n",
    "    ax.annotate(format(p.get_height()),\n",
    "               (p.get_x()+p.get_width()/2., p.get_height()),\n",
    "                ha = 'center', va = 'center',\n",
    "                xytext = (0, 9),\n",
    "                textcoords = 'offset points')\n",
    "\n",
    "plt.show()"
   ]
  },
  {
   "cell_type": "markdown",
   "metadata": {},
   "source": [
    "We clearly see that every day the number of players starting to play is significantly decreasing. Let's see how long it takes to complete the first step."
   ]
  },
  {
   "cell_type": "code",
   "execution_count": 30,
   "metadata": {},
   "outputs": [
    {
     "data": {
      "text/html": [
       "<div>\n",
       "<style scoped>\n",
       "    .dataframe tbody tr th:only-of-type {\n",
       "        vertical-align: middle;\n",
       "    }\n",
       "\n",
       "    .dataframe tbody tr th {\n",
       "        vertical-align: top;\n",
       "    }\n",
       "\n",
       "    .dataframe thead th {\n",
       "        text-align: right;\n",
       "    }\n",
       "</style>\n",
       "<table border=\"1\" class=\"dataframe\">\n",
       "  <thead>\n",
       "    <tr style=\"text-align: right;\">\n",
       "      <th></th>\n",
       "      <th>user_id</th>\n",
       "      <th>finish_date</th>\n",
       "    </tr>\n",
       "  </thead>\n",
       "  <tbody>\n",
       "    <tr>\n",
       "      <th>0</th>\n",
       "      <td>001d39dc-366c-4021-9604-6a3b9ff01e25</td>\n",
       "      <td>2020-05-12</td>\n",
       "    </tr>\n",
       "    <tr>\n",
       "      <th>1</th>\n",
       "      <td>003ee7e8-6356-4286-a715-62f22a18d2a1</td>\n",
       "      <td>2020-05-17</td>\n",
       "    </tr>\n",
       "    <tr>\n",
       "      <th>2</th>\n",
       "      <td>004074f8-251a-4776-922c-8348dca1a2f6</td>\n",
       "      <td>2020-05-16</td>\n",
       "    </tr>\n",
       "    <tr>\n",
       "      <th>3</th>\n",
       "      <td>00464e5e-28ed-4be6-bf44-517ef7b3937b</td>\n",
       "      <td>2020-05-15</td>\n",
       "    </tr>\n",
       "    <tr>\n",
       "      <th>4</th>\n",
       "      <td>0056c007-c082-43cc-bdef-afc49bca4cb9</td>\n",
       "      <td>2020-05-16</td>\n",
       "    </tr>\n",
       "  </tbody>\n",
       "</table>\n",
       "</div>"
      ],
      "text/plain": [
       "                                user_id finish_date\n",
       "0  001d39dc-366c-4021-9604-6a3b9ff01e25  2020-05-12\n",
       "1  003ee7e8-6356-4286-a715-62f22a18d2a1  2020-05-17\n",
       "2  004074f8-251a-4776-922c-8348dca1a2f6  2020-05-16\n",
       "3  00464e5e-28ed-4be6-bf44-517ef7b3937b  2020-05-15\n",
       "4  0056c007-c082-43cc-bdef-afc49bca4cb9  2020-05-16"
      ]
     },
     "execution_count": 30,
     "metadata": {},
     "output_type": "execute_result"
    }
   ],
   "source": [
    "finish_date = events_total[events_total['event'] == 'finished_stage_1'].groupby('user_id').agg({'event_datetime': 'min'}).reset_index()\n",
    "finish_date.columns = ['user_id', 'finish_date']\n",
    "finish_date['finish_date'] = finish_date['finish_date'].dt.date\n",
    "finish_date['finish_date'] = pd.to_datetime(finish_date['finish_date'], format=\"%Y-%m-%d\")\n",
    "finish_date.head() "
   ]
  },
  {
   "cell_type": "code",
   "execution_count": 31,
   "metadata": {},
   "outputs": [
    {
     "data": {
      "text/html": [
       "<div>\n",
       "<style scoped>\n",
       "    .dataframe tbody tr th:only-of-type {\n",
       "        vertical-align: middle;\n",
       "    }\n",
       "\n",
       "    .dataframe tbody tr th {\n",
       "        vertical-align: top;\n",
       "    }\n",
       "\n",
       "    .dataframe thead th {\n",
       "        text-align: right;\n",
       "    }\n",
       "</style>\n",
       "<table border=\"1\" class=\"dataframe\">\n",
       "  <thead>\n",
       "    <tr style=\"text-align: right;\">\n",
       "      <th></th>\n",
       "      <th>event_datetime</th>\n",
       "      <th>event</th>\n",
       "      <th>building_type</th>\n",
       "      <th>user_id</th>\n",
       "      <th>project_type</th>\n",
       "      <th>first_event</th>\n",
       "      <th>event_date</th>\n",
       "      <th>source</th>\n",
       "      <th>time_to_first_event</th>\n",
       "      <th>finish_date</th>\n",
       "    </tr>\n",
       "  </thead>\n",
       "  <tbody>\n",
       "    <tr>\n",
       "      <th>0</th>\n",
       "      <td>2020-05-15 05:29:13</td>\n",
       "      <td>finished_stage_1</td>\n",
       "      <td>NaN</td>\n",
       "      <td>c07b1c10-f477-44dc-81dc-ec82254b1347</td>\n",
       "      <td>NaN</td>\n",
       "      <td>2020-05-04</td>\n",
       "      <td>2020-05-04</td>\n",
       "      <td>facebook_ads</td>\n",
       "      <td>0 days</td>\n",
       "      <td>2020-05-15</td>\n",
       "    </tr>\n",
       "    <tr>\n",
       "      <th>1</th>\n",
       "      <td>2020-05-16 11:51:58</td>\n",
       "      <td>finished_stage_1</td>\n",
       "      <td>NaN</td>\n",
       "      <td>6edd42cc-e753-4ff6-a947-2107cd560710</td>\n",
       "      <td>NaN</td>\n",
       "      <td>2020-05-04</td>\n",
       "      <td>2020-05-04</td>\n",
       "      <td>instagram_new_adverts</td>\n",
       "      <td>0 days</td>\n",
       "      <td>2020-05-16</td>\n",
       "    </tr>\n",
       "    <tr>\n",
       "      <th>2</th>\n",
       "      <td>2020-05-11 14:18:05</td>\n",
       "      <td>finished_stage_1</td>\n",
       "      <td>NaN</td>\n",
       "      <td>cdc6bb92-0ccb-4490-9866-ef142f09139d</td>\n",
       "      <td>NaN</td>\n",
       "      <td>2020-05-04</td>\n",
       "      <td>2020-05-04</td>\n",
       "      <td>google_play_ads</td>\n",
       "      <td>0 days</td>\n",
       "      <td>2020-05-11</td>\n",
       "    </tr>\n",
       "    <tr>\n",
       "      <th>3</th>\n",
       "      <td>2020-05-16 13:08:11</td>\n",
       "      <td>finished_stage_1</td>\n",
       "      <td>NaN</td>\n",
       "      <td>4fe0f101-694b-4e31-9740-d1d87f7208ea</td>\n",
       "      <td>NaN</td>\n",
       "      <td>2020-05-04</td>\n",
       "      <td>2020-05-04</td>\n",
       "      <td>facebook_ads</td>\n",
       "      <td>0 days</td>\n",
       "      <td>2020-05-16</td>\n",
       "    </tr>\n",
       "    <tr>\n",
       "      <th>4</th>\n",
       "      <td>2020-05-18 03:50:27</td>\n",
       "      <td>finished_stage_1</td>\n",
       "      <td>NaN</td>\n",
       "      <td>65a92713-5969-48b1-8945-bfefa5063887</td>\n",
       "      <td>NaN</td>\n",
       "      <td>2020-05-04</td>\n",
       "      <td>2020-05-04</td>\n",
       "      <td>google_play_ads</td>\n",
       "      <td>0 days</td>\n",
       "      <td>2020-05-18</td>\n",
       "    </tr>\n",
       "  </tbody>\n",
       "</table>\n",
       "</div>"
      ],
      "text/plain": [
       "       event_datetime             event building_type  \\\n",
       "0 2020-05-15 05:29:13  finished_stage_1           NaN   \n",
       "1 2020-05-16 11:51:58  finished_stage_1           NaN   \n",
       "2 2020-05-11 14:18:05  finished_stage_1           NaN   \n",
       "3 2020-05-16 13:08:11  finished_stage_1           NaN   \n",
       "4 2020-05-18 03:50:27  finished_stage_1           NaN   \n",
       "\n",
       "                                user_id project_type first_event event_date  \\\n",
       "0  c07b1c10-f477-44dc-81dc-ec82254b1347          NaN  2020-05-04 2020-05-04   \n",
       "1  6edd42cc-e753-4ff6-a947-2107cd560710          NaN  2020-05-04 2020-05-04   \n",
       "2  cdc6bb92-0ccb-4490-9866-ef142f09139d          NaN  2020-05-04 2020-05-04   \n",
       "3  4fe0f101-694b-4e31-9740-d1d87f7208ea          NaN  2020-05-04 2020-05-04   \n",
       "4  65a92713-5969-48b1-8945-bfefa5063887          NaN  2020-05-04 2020-05-04   \n",
       "\n",
       "                  source time_to_first_event finish_date  \n",
       "0           facebook_ads              0 days  2020-05-15  \n",
       "1  instagram_new_adverts              0 days  2020-05-16  \n",
       "2        google_play_ads              0 days  2020-05-11  \n",
       "3           facebook_ads              0 days  2020-05-16  \n",
       "4        google_play_ads              0 days  2020-05-18  "
      ]
     },
     "execution_count": 31,
     "metadata": {},
     "output_type": "execute_result"
    }
   ],
   "source": [
    "finish_ = events_total.query('event == \"finished_stage_1\"').reset_index(drop=True)\n",
    "finish_group = pd.merge(finish_, finish_date, on='user_id')\n",
    "finish_group.head()"
   ]
  },
  {
   "cell_type": "code",
   "execution_count": 32,
   "metadata": {},
   "outputs": [
    {
     "data": {
      "text/html": [
       "<div>\n",
       "<style scoped>\n",
       "    .dataframe tbody tr th:only-of-type {\n",
       "        vertical-align: middle;\n",
       "    }\n",
       "\n",
       "    .dataframe tbody tr th {\n",
       "        vertical-align: top;\n",
       "    }\n",
       "\n",
       "    .dataframe thead tr th {\n",
       "        text-align: left;\n",
       "    }\n",
       "\n",
       "    .dataframe thead tr:last-of-type th {\n",
       "        text-align: right;\n",
       "    }\n",
       "</style>\n",
       "<table border=\"1\" class=\"dataframe\">\n",
       "  <thead>\n",
       "    <tr>\n",
       "      <th></th>\n",
       "      <th colspan=\"10\" halign=\"left\">count</th>\n",
       "      <th>...</th>\n",
       "      <th colspan=\"10\" halign=\"left\">nunique</th>\n",
       "    </tr>\n",
       "    <tr>\n",
       "      <th>time_to_finish</th>\n",
       "      <th>0 days</th>\n",
       "      <th>1 days</th>\n",
       "      <th>2 days</th>\n",
       "      <th>3 days</th>\n",
       "      <th>4 days</th>\n",
       "      <th>5 days</th>\n",
       "      <th>6 days</th>\n",
       "      <th>7 days</th>\n",
       "      <th>8 days</th>\n",
       "      <th>9 days</th>\n",
       "      <th>...</th>\n",
       "      <th>22 days</th>\n",
       "      <th>23 days</th>\n",
       "      <th>24 days</th>\n",
       "      <th>25 days</th>\n",
       "      <th>26 days</th>\n",
       "      <th>27 days</th>\n",
       "      <th>28 days</th>\n",
       "      <th>29 days</th>\n",
       "      <th>30 days</th>\n",
       "      <th>31 days</th>\n",
       "    </tr>\n",
       "    <tr>\n",
       "      <th>first_event</th>\n",
       "      <th></th>\n",
       "      <th></th>\n",
       "      <th></th>\n",
       "      <th></th>\n",
       "      <th></th>\n",
       "      <th></th>\n",
       "      <th></th>\n",
       "      <th></th>\n",
       "      <th></th>\n",
       "      <th></th>\n",
       "      <th></th>\n",
       "      <th></th>\n",
       "      <th></th>\n",
       "      <th></th>\n",
       "      <th></th>\n",
       "      <th></th>\n",
       "      <th></th>\n",
       "      <th></th>\n",
       "      <th></th>\n",
       "      <th></th>\n",
       "      <th></th>\n",
       "    </tr>\n",
       "  </thead>\n",
       "  <tbody>\n",
       "    <tr>\n",
       "      <th>2020-05-04</th>\n",
       "      <td>1.0</td>\n",
       "      <td>3.0</td>\n",
       "      <td>3.0</td>\n",
       "      <td>4.0</td>\n",
       "      <td>15.0</td>\n",
       "      <td>26.0</td>\n",
       "      <td>82.0</td>\n",
       "      <td>136.0</td>\n",
       "      <td>186.0</td>\n",
       "      <td>213.0</td>\n",
       "      <td>...</td>\n",
       "      <td>11.0</td>\n",
       "      <td>13.0</td>\n",
       "      <td>3.0</td>\n",
       "      <td>5.0</td>\n",
       "      <td>2.0</td>\n",
       "      <td>1.0</td>\n",
       "      <td>1.0</td>\n",
       "      <td>1.0</td>\n",
       "      <td>1.0</td>\n",
       "      <td>2.0</td>\n",
       "    </tr>\n",
       "    <tr>\n",
       "      <th>2020-05-05</th>\n",
       "      <td>NaN</td>\n",
       "      <td>1.0</td>\n",
       "      <td>5.0</td>\n",
       "      <td>6.0</td>\n",
       "      <td>19.0</td>\n",
       "      <td>39.0</td>\n",
       "      <td>55.0</td>\n",
       "      <td>75.0</td>\n",
       "      <td>103.0</td>\n",
       "      <td>133.0</td>\n",
       "      <td>...</td>\n",
       "      <td>9.0</td>\n",
       "      <td>6.0</td>\n",
       "      <td>1.0</td>\n",
       "      <td>4.0</td>\n",
       "      <td>NaN</td>\n",
       "      <td>2.0</td>\n",
       "      <td>1.0</td>\n",
       "      <td>NaN</td>\n",
       "      <td>NaN</td>\n",
       "      <td>NaN</td>\n",
       "    </tr>\n",
       "    <tr>\n",
       "      <th>2020-05-06</th>\n",
       "      <td>NaN</td>\n",
       "      <td>2.0</td>\n",
       "      <td>4.0</td>\n",
       "      <td>9.0</td>\n",
       "      <td>16.0</td>\n",
       "      <td>22.0</td>\n",
       "      <td>27.0</td>\n",
       "      <td>45.0</td>\n",
       "      <td>53.0</td>\n",
       "      <td>64.0</td>\n",
       "      <td>...</td>\n",
       "      <td>4.0</td>\n",
       "      <td>3.0</td>\n",
       "      <td>NaN</td>\n",
       "      <td>NaN</td>\n",
       "      <td>1.0</td>\n",
       "      <td>1.0</td>\n",
       "      <td>NaN</td>\n",
       "      <td>1.0</td>\n",
       "      <td>1.0</td>\n",
       "      <td>NaN</td>\n",
       "    </tr>\n",
       "    <tr>\n",
       "      <th>2020-05-07</th>\n",
       "      <td>NaN</td>\n",
       "      <td>3.0</td>\n",
       "      <td>3.0</td>\n",
       "      <td>7.0</td>\n",
       "      <td>10.0</td>\n",
       "      <td>11.0</td>\n",
       "      <td>15.0</td>\n",
       "      <td>23.0</td>\n",
       "      <td>27.0</td>\n",
       "      <td>35.0</td>\n",
       "      <td>...</td>\n",
       "      <td>3.0</td>\n",
       "      <td>2.0</td>\n",
       "      <td>2.0</td>\n",
       "      <td>2.0</td>\n",
       "      <td>1.0</td>\n",
       "      <td>NaN</td>\n",
       "      <td>1.0</td>\n",
       "      <td>2.0</td>\n",
       "      <td>NaN</td>\n",
       "      <td>NaN</td>\n",
       "    </tr>\n",
       "    <tr>\n",
       "      <th>2020-05-08</th>\n",
       "      <td>NaN</td>\n",
       "      <td>3.0</td>\n",
       "      <td>7.0</td>\n",
       "      <td>9.0</td>\n",
       "      <td>8.0</td>\n",
       "      <td>7.0</td>\n",
       "      <td>13.0</td>\n",
       "      <td>19.0</td>\n",
       "      <td>12.0</td>\n",
       "      <td>24.0</td>\n",
       "      <td>...</td>\n",
       "      <td>1.0</td>\n",
       "      <td>1.0</td>\n",
       "      <td>NaN</td>\n",
       "      <td>NaN</td>\n",
       "      <td>1.0</td>\n",
       "      <td>1.0</td>\n",
       "      <td>NaN</td>\n",
       "      <td>NaN</td>\n",
       "      <td>NaN</td>\n",
       "      <td>NaN</td>\n",
       "    </tr>\n",
       "    <tr>\n",
       "      <th>2020-05-09</th>\n",
       "      <td>NaN</td>\n",
       "      <td>NaN</td>\n",
       "      <td>1.0</td>\n",
       "      <td>4.0</td>\n",
       "      <td>6.0</td>\n",
       "      <td>3.0</td>\n",
       "      <td>7.0</td>\n",
       "      <td>8.0</td>\n",
       "      <td>6.0</td>\n",
       "      <td>9.0</td>\n",
       "      <td>...</td>\n",
       "      <td>1.0</td>\n",
       "      <td>1.0</td>\n",
       "      <td>NaN</td>\n",
       "      <td>1.0</td>\n",
       "      <td>NaN</td>\n",
       "      <td>NaN</td>\n",
       "      <td>NaN</td>\n",
       "      <td>NaN</td>\n",
       "      <td>NaN</td>\n",
       "      <td>NaN</td>\n",
       "    </tr>\n",
       "    <tr>\n",
       "      <th>2020-05-10</th>\n",
       "      <td>NaN</td>\n",
       "      <td>NaN</td>\n",
       "      <td>2.0</td>\n",
       "      <td>NaN</td>\n",
       "      <td>1.0</td>\n",
       "      <td>4.0</td>\n",
       "      <td>3.0</td>\n",
       "      <td>5.0</td>\n",
       "      <td>4.0</td>\n",
       "      <td>3.0</td>\n",
       "      <td>...</td>\n",
       "      <td>NaN</td>\n",
       "      <td>1.0</td>\n",
       "      <td>NaN</td>\n",
       "      <td>NaN</td>\n",
       "      <td>NaN</td>\n",
       "      <td>NaN</td>\n",
       "      <td>NaN</td>\n",
       "      <td>NaN</td>\n",
       "      <td>NaN</td>\n",
       "      <td>NaN</td>\n",
       "    </tr>\n",
       "  </tbody>\n",
       "</table>\n",
       "<p>7 rows × 64 columns</p>\n",
       "</div>"
      ],
      "text/plain": [
       "                count                                                          \\\n",
       "time_to_finish 0 days 1 days 2 days 3 days 4 days 5 days 6 days 7 days 8 days   \n",
       "first_event                                                                     \n",
       "2020-05-04        1.0    3.0    3.0    4.0   15.0   26.0   82.0  136.0  186.0   \n",
       "2020-05-05        NaN    1.0    5.0    6.0   19.0   39.0   55.0   75.0  103.0   \n",
       "2020-05-06        NaN    2.0    4.0    9.0   16.0   22.0   27.0   45.0   53.0   \n",
       "2020-05-07        NaN    3.0    3.0    7.0   10.0   11.0   15.0   23.0   27.0   \n",
       "2020-05-08        NaN    3.0    7.0    9.0    8.0    7.0   13.0   19.0   12.0   \n",
       "2020-05-09        NaN    NaN    1.0    4.0    6.0    3.0    7.0    8.0    6.0   \n",
       "2020-05-10        NaN    NaN    2.0    NaN    1.0    4.0    3.0    5.0    4.0   \n",
       "\n",
       "                       ... nunique                                          \\\n",
       "time_to_finish 9 days  ... 22 days 23 days 24 days 25 days 26 days 27 days   \n",
       "first_event            ...                                                   \n",
       "2020-05-04      213.0  ...    11.0    13.0     3.0     5.0     2.0     1.0   \n",
       "2020-05-05      133.0  ...     9.0     6.0     1.0     4.0     NaN     2.0   \n",
       "2020-05-06       64.0  ...     4.0     3.0     NaN     NaN     1.0     1.0   \n",
       "2020-05-07       35.0  ...     3.0     2.0     2.0     2.0     1.0     NaN   \n",
       "2020-05-08       24.0  ...     1.0     1.0     NaN     NaN     1.0     1.0   \n",
       "2020-05-09        9.0  ...     1.0     1.0     NaN     1.0     NaN     NaN   \n",
       "2020-05-10        3.0  ...     NaN     1.0     NaN     NaN     NaN     NaN   \n",
       "\n",
       "                                                \n",
       "time_to_finish 28 days 29 days 30 days 31 days  \n",
       "first_event                                     \n",
       "2020-05-04         1.0     1.0     1.0     2.0  \n",
       "2020-05-05         1.0     NaN     NaN     NaN  \n",
       "2020-05-06         NaN     1.0     1.0     NaN  \n",
       "2020-05-07         1.0     2.0     NaN     NaN  \n",
       "2020-05-08         NaN     NaN     NaN     NaN  \n",
       "2020-05-09         NaN     NaN     NaN     NaN  \n",
       "2020-05-10         NaN     NaN     NaN     NaN  \n",
       "\n",
       "[7 rows x 64 columns]"
      ]
     },
     "execution_count": 32,
     "metadata": {},
     "output_type": "execute_result"
    }
   ],
   "source": [
    "finish_group['time_to_finish'] = finish_group['finish_date'] - finish_group['first_event']\n",
    "finish_time = finish_group.pivot_table(index='first_event', columns='time_to_finish', values='user_id', aggfunc=['count','nunique'])\n",
    "finish_time"
   ]
  },
  {
   "cell_type": "code",
   "execution_count": 33,
   "metadata": {},
   "outputs": [
    {
     "data": {
      "text/plain": [
       "count                       5817\n",
       "mean     11 days 19:24:13.739040\n",
       "std       4 days 01:49:31.756241\n",
       "min              0 days 00:00:00\n",
       "25%              9 days 00:00:00\n",
       "50%             12 days 00:00:00\n",
       "75%             14 days 00:00:00\n",
       "max             31 days 00:00:00\n",
       "Name: time_to_finish, dtype: object"
      ]
     },
     "execution_count": 33,
     "metadata": {},
     "output_type": "execute_result"
    }
   ],
   "source": [
    "finish_group['time_to_finish'].describe()"
   ]
  },
  {
   "cell_type": "markdown",
   "metadata": {},
   "source": [
    "As we can see players complete the first level on average in 11-12 days. It can also be seen that the later the players joined, the fewer people went to the finish line."
   ]
  },
  {
   "cell_type": "markdown",
   "metadata": {},
   "source": [
    "**Group users by number of events**"
   ]
  },
  {
   "cell_type": "code",
   "execution_count": 34,
   "metadata": {},
   "outputs": [
    {
     "data": {
      "text/html": [
       "<div>\n",
       "<style scoped>\n",
       "    .dataframe tbody tr th:only-of-type {\n",
       "        vertical-align: middle;\n",
       "    }\n",
       "\n",
       "    .dataframe tbody tr th {\n",
       "        vertical-align: top;\n",
       "    }\n",
       "\n",
       "    .dataframe thead th {\n",
       "        text-align: right;\n",
       "    }\n",
       "</style>\n",
       "<table border=\"1\" class=\"dataframe\">\n",
       "  <thead>\n",
       "    <tr style=\"text-align: right;\">\n",
       "      <th></th>\n",
       "      <th>first_event</th>\n",
       "      <th>n_events</th>\n",
       "    </tr>\n",
       "  </thead>\n",
       "  <tbody>\n",
       "    <tr>\n",
       "      <th>0</th>\n",
       "      <td>2020-05-04</td>\n",
       "      <td>64226</td>\n",
       "    </tr>\n",
       "    <tr>\n",
       "      <th>1</th>\n",
       "      <td>2020-05-05</td>\n",
       "      <td>34756</td>\n",
       "    </tr>\n",
       "    <tr>\n",
       "      <th>2</th>\n",
       "      <td>2020-05-06</td>\n",
       "      <td>17399</td>\n",
       "    </tr>\n",
       "    <tr>\n",
       "      <th>3</th>\n",
       "      <td>2020-05-07</td>\n",
       "      <td>9429</td>\n",
       "    </tr>\n",
       "    <tr>\n",
       "      <th>4</th>\n",
       "      <td>2020-05-08</td>\n",
       "      <td>5121</td>\n",
       "    </tr>\n",
       "    <tr>\n",
       "      <th>5</th>\n",
       "      <td>2020-05-09</td>\n",
       "      <td>3025</td>\n",
       "    </tr>\n",
       "    <tr>\n",
       "      <th>6</th>\n",
       "      <td>2020-05-10</td>\n",
       "      <td>1683</td>\n",
       "    </tr>\n",
       "  </tbody>\n",
       "</table>\n",
       "</div>"
      ],
      "text/plain": [
       "  first_event  n_events\n",
       "0  2020-05-04     64226\n",
       "1  2020-05-05     34756\n",
       "2  2020-05-06     17399\n",
       "3  2020-05-07      9429\n",
       "4  2020-05-08      5121\n",
       "5  2020-05-09      3025\n",
       "6  2020-05-10      1683"
      ]
     },
     "execution_count": 34,
     "metadata": {},
     "output_type": "execute_result"
    }
   ],
   "source": [
    "events_per_cohort = events_total.groupby(['first_event']).agg({'event': 'count'}).reset_index()\n",
    "events_per_cohort.columns = ['first_event', 'n_events']\n",
    "events_per_cohort"
   ]
  },
  {
   "cell_type": "code",
   "execution_count": 35,
   "metadata": {},
   "outputs": [
    {
     "data": {
      "text/html": [
       "<div>\n",
       "<style scoped>\n",
       "    .dataframe tbody tr th:only-of-type {\n",
       "        vertical-align: middle;\n",
       "    }\n",
       "\n",
       "    .dataframe tbody tr th {\n",
       "        vertical-align: top;\n",
       "    }\n",
       "\n",
       "    .dataframe thead th {\n",
       "        text-align: right;\n",
       "    }\n",
       "</style>\n",
       "<table border=\"1\" class=\"dataframe\">\n",
       "  <thead>\n",
       "    <tr style=\"text-align: right;\">\n",
       "      <th></th>\n",
       "      <th>first_event</th>\n",
       "      <th>n_users</th>\n",
       "      <th>n_events</th>\n",
       "    </tr>\n",
       "  </thead>\n",
       "  <tbody>\n",
       "    <tr>\n",
       "      <th>0</th>\n",
       "      <td>2020-05-04</td>\n",
       "      <td>5860</td>\n",
       "      <td>64226</td>\n",
       "    </tr>\n",
       "    <tr>\n",
       "      <th>1</th>\n",
       "      <td>2020-05-05</td>\n",
       "      <td>3361</td>\n",
       "      <td>34756</td>\n",
       "    </tr>\n",
       "    <tr>\n",
       "      <th>2</th>\n",
       "      <td>2020-05-06</td>\n",
       "      <td>1847</td>\n",
       "      <td>17399</td>\n",
       "    </tr>\n",
       "    <tr>\n",
       "      <th>3</th>\n",
       "      <td>2020-05-07</td>\n",
       "      <td>1109</td>\n",
       "      <td>9429</td>\n",
       "    </tr>\n",
       "    <tr>\n",
       "      <th>4</th>\n",
       "      <td>2020-05-08</td>\n",
       "      <td>688</td>\n",
       "      <td>5121</td>\n",
       "    </tr>\n",
       "    <tr>\n",
       "      <th>5</th>\n",
       "      <td>2020-05-09</td>\n",
       "      <td>440</td>\n",
       "      <td>3025</td>\n",
       "    </tr>\n",
       "    <tr>\n",
       "      <th>6</th>\n",
       "      <td>2020-05-10</td>\n",
       "      <td>271</td>\n",
       "      <td>1683</td>\n",
       "    </tr>\n",
       "  </tbody>\n",
       "</table>\n",
       "</div>"
      ],
      "text/plain": [
       "  first_event  n_users  n_events\n",
       "0  2020-05-04     5860     64226\n",
       "1  2020-05-05     3361     34756\n",
       "2  2020-05-06     1847     17399\n",
       "3  2020-05-07     1109      9429\n",
       "4  2020-05-08      688      5121\n",
       "5  2020-05-09      440      3025\n",
       "6  2020-05-10      271      1683"
      ]
     },
     "execution_count": 35,
     "metadata": {},
     "output_type": "execute_result"
    }
   ],
   "source": [
    "cohort_events = pd.merge(users_per_cohort, events_per_cohort, on='first_event')\n",
    "cohort_events"
   ]
  },
  {
   "cell_type": "code",
   "execution_count": 36,
   "metadata": {},
   "outputs": [
    {
     "data": {
      "text/html": [
       "<div>\n",
       "<style scoped>\n",
       "    .dataframe tbody tr th:only-of-type {\n",
       "        vertical-align: middle;\n",
       "    }\n",
       "\n",
       "    .dataframe tbody tr th {\n",
       "        vertical-align: top;\n",
       "    }\n",
       "\n",
       "    .dataframe thead th {\n",
       "        text-align: right;\n",
       "    }\n",
       "</style>\n",
       "<table border=\"1\" class=\"dataframe\">\n",
       "  <thead>\n",
       "    <tr style=\"text-align: right;\">\n",
       "      <th></th>\n",
       "      <th>first_event</th>\n",
       "      <th>n_finish</th>\n",
       "    </tr>\n",
       "  </thead>\n",
       "  <tbody>\n",
       "    <tr>\n",
       "      <th>0</th>\n",
       "      <td>2020-05-04</td>\n",
       "      <td>2670</td>\n",
       "    </tr>\n",
       "    <tr>\n",
       "      <th>1</th>\n",
       "      <td>2020-05-05</td>\n",
       "      <td>1513</td>\n",
       "    </tr>\n",
       "    <tr>\n",
       "      <th>2</th>\n",
       "      <td>2020-05-06</td>\n",
       "      <td>771</td>\n",
       "    </tr>\n",
       "    <tr>\n",
       "      <th>3</th>\n",
       "      <td>2020-05-07</td>\n",
       "      <td>412</td>\n",
       "    </tr>\n",
       "    <tr>\n",
       "      <th>4</th>\n",
       "      <td>2020-05-08</td>\n",
       "      <td>235</td>\n",
       "    </tr>\n",
       "    <tr>\n",
       "      <th>5</th>\n",
       "      <td>2020-05-09</td>\n",
       "      <td>134</td>\n",
       "    </tr>\n",
       "    <tr>\n",
       "      <th>6</th>\n",
       "      <td>2020-05-10</td>\n",
       "      <td>82</td>\n",
       "    </tr>\n",
       "  </tbody>\n",
       "</table>\n",
       "</div>"
      ],
      "text/plain": [
       "  first_event  n_finish\n",
       "0  2020-05-04      2670\n",
       "1  2020-05-05      1513\n",
       "2  2020-05-06       771\n",
       "3  2020-05-07       412\n",
       "4  2020-05-08       235\n",
       "5  2020-05-09       134\n",
       "6  2020-05-10        82"
      ]
     },
     "execution_count": 36,
     "metadata": {},
     "output_type": "execute_result"
    }
   ],
   "source": [
    "cohort_finish = events_total[events_total['event'] == 'finished_stage_1'].groupby(['first_event']).agg({'event': 'count'}).reset_index()\n",
    "cohort_finish.columns = ['first_event', 'n_finish']\n",
    "cohort_finish  "
   ]
  },
  {
   "cell_type": "code",
   "execution_count": 37,
   "metadata": {},
   "outputs": [
    {
     "data": {
      "text/html": [
       "<div>\n",
       "<style scoped>\n",
       "    .dataframe tbody tr th:only-of-type {\n",
       "        vertical-align: middle;\n",
       "    }\n",
       "\n",
       "    .dataframe tbody tr th {\n",
       "        vertical-align: top;\n",
       "    }\n",
       "\n",
       "    .dataframe thead th {\n",
       "        text-align: right;\n",
       "    }\n",
       "</style>\n",
       "<table border=\"1\" class=\"dataframe\">\n",
       "  <thead>\n",
       "    <tr style=\"text-align: right;\">\n",
       "      <th></th>\n",
       "      <th>first_event</th>\n",
       "      <th>n_users</th>\n",
       "      <th>n_events</th>\n",
       "      <th>n_finish</th>\n",
       "    </tr>\n",
       "  </thead>\n",
       "  <tbody>\n",
       "    <tr>\n",
       "      <th>0</th>\n",
       "      <td>2020-05-04</td>\n",
       "      <td>5860</td>\n",
       "      <td>64226</td>\n",
       "      <td>2670</td>\n",
       "    </tr>\n",
       "    <tr>\n",
       "      <th>1</th>\n",
       "      <td>2020-05-05</td>\n",
       "      <td>3361</td>\n",
       "      <td>34756</td>\n",
       "      <td>1513</td>\n",
       "    </tr>\n",
       "    <tr>\n",
       "      <th>2</th>\n",
       "      <td>2020-05-06</td>\n",
       "      <td>1847</td>\n",
       "      <td>17399</td>\n",
       "      <td>771</td>\n",
       "    </tr>\n",
       "    <tr>\n",
       "      <th>3</th>\n",
       "      <td>2020-05-07</td>\n",
       "      <td>1109</td>\n",
       "      <td>9429</td>\n",
       "      <td>412</td>\n",
       "    </tr>\n",
       "    <tr>\n",
       "      <th>4</th>\n",
       "      <td>2020-05-08</td>\n",
       "      <td>688</td>\n",
       "      <td>5121</td>\n",
       "      <td>235</td>\n",
       "    </tr>\n",
       "    <tr>\n",
       "      <th>5</th>\n",
       "      <td>2020-05-09</td>\n",
       "      <td>440</td>\n",
       "      <td>3025</td>\n",
       "      <td>134</td>\n",
       "    </tr>\n",
       "    <tr>\n",
       "      <th>6</th>\n",
       "      <td>2020-05-10</td>\n",
       "      <td>271</td>\n",
       "      <td>1683</td>\n",
       "      <td>82</td>\n",
       "    </tr>\n",
       "  </tbody>\n",
       "</table>\n",
       "</div>"
      ],
      "text/plain": [
       "  first_event  n_users  n_events  n_finish\n",
       "0  2020-05-04     5860     64226      2670\n",
       "1  2020-05-05     3361     34756      1513\n",
       "2  2020-05-06     1847     17399       771\n",
       "3  2020-05-07     1109      9429       412\n",
       "4  2020-05-08      688      5121       235\n",
       "5  2020-05-09      440      3025       134\n",
       "6  2020-05-10      271      1683        82"
      ]
     },
     "execution_count": 37,
     "metadata": {},
     "output_type": "execute_result"
    }
   ],
   "source": [
    "cohort_events_total = pd.merge(cohort_events, cohort_finish, on='first_event')\n",
    "cohort_events_total"
   ]
  },
  {
   "cell_type": "code",
   "execution_count": 38,
   "metadata": {},
   "outputs": [
    {
     "data": {
      "text/html": [
       "<div>\n",
       "<style scoped>\n",
       "    .dataframe tbody tr th:only-of-type {\n",
       "        vertical-align: middle;\n",
       "    }\n",
       "\n",
       "    .dataframe tbody tr th {\n",
       "        vertical-align: top;\n",
       "    }\n",
       "\n",
       "    .dataframe thead th {\n",
       "        text-align: right;\n",
       "    }\n",
       "</style>\n",
       "<table border=\"1\" class=\"dataframe\">\n",
       "  <thead>\n",
       "    <tr style=\"text-align: right;\">\n",
       "      <th></th>\n",
       "      <th>first_event</th>\n",
       "      <th>n_users</th>\n",
       "      <th>n_events</th>\n",
       "      <th>n_finish</th>\n",
       "      <th>avg_events_per_user</th>\n",
       "      <th>ratio_finished</th>\n",
       "    </tr>\n",
       "  </thead>\n",
       "  <tbody>\n",
       "    <tr>\n",
       "      <th>0</th>\n",
       "      <td>2020-05-04</td>\n",
       "      <td>5860</td>\n",
       "      <td>64226</td>\n",
       "      <td>2670</td>\n",
       "      <td>10.960068</td>\n",
       "      <td>0.455631</td>\n",
       "    </tr>\n",
       "    <tr>\n",
       "      <th>1</th>\n",
       "      <td>2020-05-05</td>\n",
       "      <td>3361</td>\n",
       "      <td>34756</td>\n",
       "      <td>1513</td>\n",
       "      <td>10.340970</td>\n",
       "      <td>0.450164</td>\n",
       "    </tr>\n",
       "    <tr>\n",
       "      <th>2</th>\n",
       "      <td>2020-05-06</td>\n",
       "      <td>1847</td>\n",
       "      <td>17399</td>\n",
       "      <td>771</td>\n",
       "      <td>9.420141</td>\n",
       "      <td>0.417434</td>\n",
       "    </tr>\n",
       "    <tr>\n",
       "      <th>3</th>\n",
       "      <td>2020-05-07</td>\n",
       "      <td>1109</td>\n",
       "      <td>9429</td>\n",
       "      <td>412</td>\n",
       "      <td>8.502254</td>\n",
       "      <td>0.371506</td>\n",
       "    </tr>\n",
       "    <tr>\n",
       "      <th>4</th>\n",
       "      <td>2020-05-08</td>\n",
       "      <td>688</td>\n",
       "      <td>5121</td>\n",
       "      <td>235</td>\n",
       "      <td>7.443314</td>\n",
       "      <td>0.341570</td>\n",
       "    </tr>\n",
       "    <tr>\n",
       "      <th>5</th>\n",
       "      <td>2020-05-09</td>\n",
       "      <td>440</td>\n",
       "      <td>3025</td>\n",
       "      <td>134</td>\n",
       "      <td>6.875000</td>\n",
       "      <td>0.304545</td>\n",
       "    </tr>\n",
       "    <tr>\n",
       "      <th>6</th>\n",
       "      <td>2020-05-10</td>\n",
       "      <td>271</td>\n",
       "      <td>1683</td>\n",
       "      <td>82</td>\n",
       "      <td>6.210332</td>\n",
       "      <td>0.302583</td>\n",
       "    </tr>\n",
       "  </tbody>\n",
       "</table>\n",
       "</div>"
      ],
      "text/plain": [
       "  first_event  n_users  n_events  n_finish  avg_events_per_user  \\\n",
       "0  2020-05-04     5860     64226      2670            10.960068   \n",
       "1  2020-05-05     3361     34756      1513            10.340970   \n",
       "2  2020-05-06     1847     17399       771             9.420141   \n",
       "3  2020-05-07     1109      9429       412             8.502254   \n",
       "4  2020-05-08      688      5121       235             7.443314   \n",
       "5  2020-05-09      440      3025       134             6.875000   \n",
       "6  2020-05-10      271      1683        82             6.210332   \n",
       "\n",
       "   ratio_finished  \n",
       "0        0.455631  \n",
       "1        0.450164  \n",
       "2        0.417434  \n",
       "3        0.371506  \n",
       "4        0.341570  \n",
       "5        0.304545  \n",
       "6        0.302583  "
      ]
     },
     "execution_count": 38,
     "metadata": {},
     "output_type": "execute_result"
    }
   ],
   "source": [
    "cohort_events_total['avg_events_per_user'] = cohort_events_total['n_events'] / cohort_events_total['n_users']\n",
    "cohort_events_total['ratio_finished'] = cohort_events_total['n_finish'] / cohort_events_total['n_users']\n",
    "cohort_events_total"
   ]
  },
  {
   "cell_type": "code",
   "execution_count": 39,
   "metadata": {},
   "outputs": [
    {
     "data": {
      "image/png": "[encoded data removed]",
      "text/plain": [
       "<Figure size 1080x576 with 1 Axes>"
      ]
     },
     "metadata": {
      "needs_background": "light"
     },
     "output_type": "display_data"
    }
   ],
   "source": [
    "colors = ['#7d7650', '#99986a', '#a68674', '#e7a885', '#e67548', '#eeaf93', '#f8e078']\n",
    "\n",
    "plt.subplots(figsize=(15, 8))\n",
    "x_dates = cohort_events_total['first_event'].dt.strftime('%Y-%m-%d')\n",
    "ax = sns.barplot(x=x_dates, y=\"avg_events_per_user\", data=cohort_events_total, palette = colors)\n",
    "\n",
    "plt.title('Average number of events per user', fontsize=16)\n",
    "plt.xlabel('Joining date', fontsize=12)\n",
    "plt.ylabel('Number of events', fontsize=12)\n",
    "plt.xticks(rotation=45)\n",
    "\n",
    "\n",
    "for p in ax.patches:\n",
    "    ax.annotate(format(p.get_height(), '.1f'),\n",
    "               (p.get_x()+p.get_width()/2., p.get_height()),\n",
    "                ha = 'center', va = 'center',\n",
    "                xytext = (0, 9),\n",
    "                textcoords = 'offset points')\n",
    "\n",
    "plt.show()"
   ]
  },
  {
   "cell_type": "code",
   "execution_count": 40,
   "metadata": {
    "scrolled": false
   },
   "outputs": [
    {
     "data": {
      "image/png": "[encoded data removed]",
      "text/plain": [
       "<Figure size 1080x576 with 1 Axes>"
      ]
     },
     "metadata": {
      "needs_background": "light"
     },
     "output_type": "display_data"
    }
   ],
   "source": [
    "colors = ['#7d7650', '#99986a', '#a68674', '#e7a885', '#e67548', '#eeaf93', '#f8e078']\n",
    "\n",
    "plt.subplots(figsize=(15, 8))\n",
    "x_dates = cohort_events_total['first_event'].dt.strftime('%Y-%m-%d')\n",
    "ax = sns.barplot(x=x_dates, y=\"ratio_finished\", data=cohort_events_total, palette = colors)\n",
    "\n",
    "plt.title('Users finished the first stage ratio', fontsize=16)\n",
    "plt.xlabel('Joining date', fontsize=12)\n",
    "plt.ylabel('Ratio', fontsize=12)\n",
    "plt.xticks(rotation=45)\n",
    "\n",
    "\n",
    "for p in ax.patches:\n",
    "    ax.annotate(format(p.get_height(), '.1%'),\n",
    "               (p.get_x()+p.get_width()/2., p.get_height()),\n",
    "                ha = 'center', va = 'center',\n",
    "                xytext = (0, 9),\n",
    "                textcoords = 'offset points')\n",
    "\n",
    "plt.show()"
   ]
  },
  {
   "cell_type": "markdown",
   "metadata": {},
   "source": [
    "Now we can say for sure that not only the number of attracted new players is decreasing, but also the interest of new users in the game itself. With a difference of only 7 days in the game, the number of events decreased from 11 to 6 on average, the percentage of those who completed the first stage - from 45 to 30."
   ]
  },
  {
   "cell_type": "markdown",
   "metadata": {},
   "source": [
    "**Group users by number of buildings they built.**"
   ]
  },
  {
   "cell_type": "code",
   "execution_count": 41,
   "metadata": {},
   "outputs": [
    {
     "data": {
      "text/html": [
       "<div>\n",
       "<style scoped>\n",
       "    .dataframe tbody tr th:only-of-type {\n",
       "        vertical-align: middle;\n",
       "    }\n",
       "\n",
       "    .dataframe tbody tr th {\n",
       "        vertical-align: top;\n",
       "    }\n",
       "\n",
       "    .dataframe thead th {\n",
       "        text-align: right;\n",
       "    }\n",
       "</style>\n",
       "<table border=\"1\" class=\"dataframe\">\n",
       "  <thead>\n",
       "    <tr style=\"text-align: right;\">\n",
       "      <th></th>\n",
       "      <th>first_event</th>\n",
       "      <th>building_type</th>\n",
       "      <th>n_build</th>\n",
       "    </tr>\n",
       "  </thead>\n",
       "  <tbody>\n",
       "    <tr>\n",
       "      <th>0</th>\n",
       "      <td>2020-05-04</td>\n",
       "      <td>assembly_shop</td>\n",
       "      <td>28029</td>\n",
       "    </tr>\n",
       "    <tr>\n",
       "      <th>1</th>\n",
       "      <td>2020-05-04</td>\n",
       "      <td>research_center</td>\n",
       "      <td>6848</td>\n",
       "    </tr>\n",
       "    <tr>\n",
       "      <th>2</th>\n",
       "      <td>2020-05-04</td>\n",
       "      <td>spaceport</td>\n",
       "      <td>25758</td>\n",
       "    </tr>\n",
       "    <tr>\n",
       "      <th>3</th>\n",
       "      <td>2020-05-05</td>\n",
       "      <td>assembly_shop</td>\n",
       "      <td>14400</td>\n",
       "    </tr>\n",
       "    <tr>\n",
       "      <th>4</th>\n",
       "      <td>2020-05-05</td>\n",
       "      <td>research_center</td>\n",
       "      <td>3760</td>\n",
       "    </tr>\n",
       "  </tbody>\n",
       "</table>\n",
       "</div>"
      ],
      "text/plain": [
       "  first_event    building_type  n_build\n",
       "0  2020-05-04    assembly_shop    28029\n",
       "1  2020-05-04  research_center     6848\n",
       "2  2020-05-04        spaceport    25758\n",
       "3  2020-05-05    assembly_shop    14400\n",
       "4  2020-05-05  research_center     3760"
      ]
     },
     "execution_count": 41,
     "metadata": {},
     "output_type": "execute_result"
    }
   ],
   "source": [
    "build_type=events_total.groupby(['first_event', 'building_type']).agg({'user_id': 'count'}).reset_index()\n",
    "build_type.columns = ['first_event', 'building_type', 'n_build']\n",
    "build_type.head()"
   ]
  },
  {
   "cell_type": "code",
   "execution_count": 42,
   "metadata": {},
   "outputs": [
    {
     "data": {
      "text/html": [
       "<div>\n",
       "<style scoped>\n",
       "    .dataframe tbody tr th:only-of-type {\n",
       "        vertical-align: middle;\n",
       "    }\n",
       "\n",
       "    .dataframe tbody tr th {\n",
       "        vertical-align: top;\n",
       "    }\n",
       "\n",
       "    .dataframe thead th {\n",
       "        text-align: right;\n",
       "    }\n",
       "</style>\n",
       "<table border=\"1\" class=\"dataframe\">\n",
       "  <thead>\n",
       "    <tr style=\"text-align: right;\">\n",
       "      <th></th>\n",
       "      <th>first_event</th>\n",
       "      <th>building_type</th>\n",
       "      <th>n_build</th>\n",
       "      <th>n_users</th>\n",
       "      <th>avg_n_build_per_user</th>\n",
       "    </tr>\n",
       "  </thead>\n",
       "  <tbody>\n",
       "    <tr>\n",
       "      <th>0</th>\n",
       "      <td>2020-05-04</td>\n",
       "      <td>assembly_shop</td>\n",
       "      <td>28029</td>\n",
       "      <td>5860</td>\n",
       "      <td>4.783106</td>\n",
       "    </tr>\n",
       "    <tr>\n",
       "      <th>1</th>\n",
       "      <td>2020-05-04</td>\n",
       "      <td>research_center</td>\n",
       "      <td>6848</td>\n",
       "      <td>5860</td>\n",
       "      <td>1.168601</td>\n",
       "    </tr>\n",
       "    <tr>\n",
       "      <th>2</th>\n",
       "      <td>2020-05-04</td>\n",
       "      <td>spaceport</td>\n",
       "      <td>25758</td>\n",
       "      <td>5860</td>\n",
       "      <td>4.395563</td>\n",
       "    </tr>\n",
       "    <tr>\n",
       "      <th>3</th>\n",
       "      <td>2020-05-05</td>\n",
       "      <td>assembly_shop</td>\n",
       "      <td>14400</td>\n",
       "      <td>3361</td>\n",
       "      <td>4.284439</td>\n",
       "    </tr>\n",
       "    <tr>\n",
       "      <th>4</th>\n",
       "      <td>2020-05-05</td>\n",
       "      <td>research_center</td>\n",
       "      <td>3760</td>\n",
       "      <td>3361</td>\n",
       "      <td>1.118715</td>\n",
       "    </tr>\n",
       "  </tbody>\n",
       "</table>\n",
       "</div>"
      ],
      "text/plain": [
       "  first_event    building_type  n_build  n_users  avg_n_build_per_user\n",
       "0  2020-05-04    assembly_shop    28029     5860              4.783106\n",
       "1  2020-05-04  research_center     6848     5860              1.168601\n",
       "2  2020-05-04        spaceport    25758     5860              4.395563\n",
       "3  2020-05-05    assembly_shop    14400     3361              4.284439\n",
       "4  2020-05-05  research_center     3760     3361              1.118715"
      ]
     },
     "execution_count": 42,
     "metadata": {},
     "output_type": "execute_result"
    }
   ],
   "source": [
    "n_build_type = pd.merge(build_type, users_per_cohort, on='first_event')\n",
    "n_build_type['avg_n_build_per_user'] = n_build_type['n_build'] / n_build_type['n_users']\n",
    "n_build_type.head()"
   ]
  },
  {
   "cell_type": "code",
   "execution_count": 43,
   "metadata": {},
   "outputs": [
    {
     "data": {
      "text/plain": [
       "Text(0, 0.5, 'Number of constructions')"
      ]
     },
     "execution_count": 43,
     "metadata": {},
     "output_type": "execute_result"
    },
    {
     "data": {
      "image/png": "[encoded data removed]",
      "text/plain": [
       "<Figure size 1224x720 with 1 Axes>"
      ]
     },
     "metadata": {
      "needs_background": "light"
     },
     "output_type": "display_data"
    }
   ],
   "source": [
    "n_build = n_build_type.pivot_table(index='first_event', columns='building_type', values='avg_n_build_per_user')\n",
    "ax = n_build.plot(kind='bar', figsize=(17,10), title = \"Average number of constructions per user\")\n",
    "ax.set_xlabel('Joining date')\n",
    "ax.set_ylabel('Number of constructions')"
   ]
  },
  {
   "cell_type": "markdown",
   "metadata": {},
   "source": [
    "As we can see, the spaceport is built at the same level from cohort to cohort. At the same time, the number of assembly shops built decreased by almost five times. The research center is being built as a whole several times less, and their number has also decreased from cohort to cohort. We do not know the exact algorithm for passing the game, but it is necessary to pay attention to this."
   ]
  },
  {
   "cell_type": "markdown",
   "metadata": {},
   "source": [
    "***Look at number of users from different traffic sources. What was the average cost of attraction. Estimate how much an ad should cost per view in order to recoup user acquisition and make a profit. Is there any connection between the number of events and the channel of attraction.***"
   ]
  },
  {
   "cell_type": "code",
   "execution_count": 44,
   "metadata": {},
   "outputs": [
    {
     "data": {
      "text/html": [
       "<div>\n",
       "<style scoped>\n",
       "    .dataframe tbody tr th:only-of-type {\n",
       "        vertical-align: middle;\n",
       "    }\n",
       "\n",
       "    .dataframe tbody tr th {\n",
       "        vertical-align: top;\n",
       "    }\n",
       "\n",
       "    .dataframe thead th {\n",
       "        text-align: right;\n",
       "    }\n",
       "</style>\n",
       "<table border=\"1\" class=\"dataframe\">\n",
       "  <thead>\n",
       "    <tr style=\"text-align: right;\">\n",
       "      <th></th>\n",
       "      <th>event_datetime</th>\n",
       "      <th>event</th>\n",
       "      <th>building_type</th>\n",
       "      <th>user_id</th>\n",
       "      <th>project_type</th>\n",
       "      <th>first_event</th>\n",
       "      <th>event_date</th>\n",
       "      <th>source</th>\n",
       "      <th>time_to_first_event</th>\n",
       "    </tr>\n",
       "  </thead>\n",
       "  <tbody>\n",
       "    <tr>\n",
       "      <th>0</th>\n",
       "      <td>2020-05-04 00:00:01</td>\n",
       "      <td>building</td>\n",
       "      <td>assembly_shop</td>\n",
       "      <td>55e92310-cb8e-4754-b622-597e124b03de</td>\n",
       "      <td>NaN</td>\n",
       "      <td>2020-05-04</td>\n",
       "      <td>2020-05-04</td>\n",
       "      <td>youtube_channel_network</td>\n",
       "      <td>0 days</td>\n",
       "    </tr>\n",
       "    <tr>\n",
       "      <th>1</th>\n",
       "      <td>2020-05-05 05:20:15</td>\n",
       "      <td>building</td>\n",
       "      <td>assembly_shop</td>\n",
       "      <td>55e92310-cb8e-4754-b622-597e124b03de</td>\n",
       "      <td>NaN</td>\n",
       "      <td>2020-05-04</td>\n",
       "      <td>2020-05-04</td>\n",
       "      <td>youtube_channel_network</td>\n",
       "      <td>0 days</td>\n",
       "    </tr>\n",
       "    <tr>\n",
       "      <th>2</th>\n",
       "      <td>2020-05-05 19:24:02</td>\n",
       "      <td>building</td>\n",
       "      <td>assembly_shop</td>\n",
       "      <td>55e92310-cb8e-4754-b622-597e124b03de</td>\n",
       "      <td>NaN</td>\n",
       "      <td>2020-05-04</td>\n",
       "      <td>2020-05-04</td>\n",
       "      <td>youtube_channel_network</td>\n",
       "      <td>0 days</td>\n",
       "    </tr>\n",
       "    <tr>\n",
       "      <th>3</th>\n",
       "      <td>2020-05-05 20:59:19</td>\n",
       "      <td>building</td>\n",
       "      <td>assembly_shop</td>\n",
       "      <td>55e92310-cb8e-4754-b622-597e124b03de</td>\n",
       "      <td>NaN</td>\n",
       "      <td>2020-05-04</td>\n",
       "      <td>2020-05-04</td>\n",
       "      <td>youtube_channel_network</td>\n",
       "      <td>0 days</td>\n",
       "    </tr>\n",
       "    <tr>\n",
       "      <th>4</th>\n",
       "      <td>2020-05-06 00:52:56</td>\n",
       "      <td>building</td>\n",
       "      <td>assembly_shop</td>\n",
       "      <td>55e92310-cb8e-4754-b622-597e124b03de</td>\n",
       "      <td>NaN</td>\n",
       "      <td>2020-05-04</td>\n",
       "      <td>2020-05-04</td>\n",
       "      <td>youtube_channel_network</td>\n",
       "      <td>0 days</td>\n",
       "    </tr>\n",
       "  </tbody>\n",
       "</table>\n",
       "</div>"
      ],
      "text/plain": [
       "       event_datetime     event  building_type  \\\n",
       "0 2020-05-04 00:00:01  building  assembly_shop   \n",
       "1 2020-05-05 05:20:15  building  assembly_shop   \n",
       "2 2020-05-05 19:24:02  building  assembly_shop   \n",
       "3 2020-05-05 20:59:19  building  assembly_shop   \n",
       "4 2020-05-06 00:52:56  building  assembly_shop   \n",
       "\n",
       "                                user_id project_type first_event event_date  \\\n",
       "0  55e92310-cb8e-4754-b622-597e124b03de          NaN  2020-05-04 2020-05-04   \n",
       "1  55e92310-cb8e-4754-b622-597e124b03de          NaN  2020-05-04 2020-05-04   \n",
       "2  55e92310-cb8e-4754-b622-597e124b03de          NaN  2020-05-04 2020-05-04   \n",
       "3  55e92310-cb8e-4754-b622-597e124b03de          NaN  2020-05-04 2020-05-04   \n",
       "4  55e92310-cb8e-4754-b622-597e124b03de          NaN  2020-05-04 2020-05-04   \n",
       "\n",
       "                    source time_to_first_event  \n",
       "0  youtube_channel_network              0 days  \n",
       "1  youtube_channel_network              0 days  \n",
       "2  youtube_channel_network              0 days  \n",
       "3  youtube_channel_network              0 days  \n",
       "4  youtube_channel_network              0 days  "
      ]
     },
     "execution_count": 44,
     "metadata": {},
     "output_type": "execute_result"
    }
   ],
   "source": [
    "events_total.head()"
   ]
  },
  {
   "cell_type": "code",
   "execution_count": 45,
   "metadata": {},
   "outputs": [
    {
     "data": {
      "text/html": [
       "<div>\n",
       "<style scoped>\n",
       "    .dataframe tbody tr th:only-of-type {\n",
       "        vertical-align: middle;\n",
       "    }\n",
       "\n",
       "    .dataframe tbody tr th {\n",
       "        vertical-align: top;\n",
       "    }\n",
       "\n",
       "    .dataframe thead th {\n",
       "        text-align: right;\n",
       "    }\n",
       "</style>\n",
       "<table border=\"1\" class=\"dataframe\">\n",
       "  <thead>\n",
       "    <tr style=\"text-align: right;\">\n",
       "      <th></th>\n",
       "      <th>first_event</th>\n",
       "      <th>source</th>\n",
       "      <th>n_new_users</th>\n",
       "      <th>n_events</th>\n",
       "    </tr>\n",
       "  </thead>\n",
       "  <tbody>\n",
       "    <tr>\n",
       "      <th>0</th>\n",
       "      <td>2020-05-04</td>\n",
       "      <td>facebook_ads</td>\n",
       "      <td>1184</td>\n",
       "      <td>13222</td>\n",
       "    </tr>\n",
       "    <tr>\n",
       "      <th>1</th>\n",
       "      <td>2020-05-04</td>\n",
       "      <td>google_play_ads</td>\n",
       "      <td>2078</td>\n",
       "      <td>22436</td>\n",
       "    </tr>\n",
       "    <tr>\n",
       "      <th>2</th>\n",
       "      <td>2020-05-04</td>\n",
       "      <td>instagram_new_adverts</td>\n",
       "      <td>1452</td>\n",
       "      <td>16063</td>\n",
       "    </tr>\n",
       "    <tr>\n",
       "      <th>3</th>\n",
       "      <td>2020-05-04</td>\n",
       "      <td>youtube_channel_network</td>\n",
       "      <td>1146</td>\n",
       "      <td>12505</td>\n",
       "    </tr>\n",
       "    <tr>\n",
       "      <th>4</th>\n",
       "      <td>2020-05-05</td>\n",
       "      <td>facebook_ads</td>\n",
       "      <td>694</td>\n",
       "      <td>7311</td>\n",
       "    </tr>\n",
       "  </tbody>\n",
       "</table>\n",
       "</div>"
      ],
      "text/plain": [
       "  first_event                   source  n_new_users  n_events\n",
       "0  2020-05-04             facebook_ads         1184     13222\n",
       "1  2020-05-04          google_play_ads         2078     22436\n",
       "2  2020-05-04    instagram_new_adverts         1452     16063\n",
       "3  2020-05-04  youtube_channel_network         1146     12505\n",
       "4  2020-05-05             facebook_ads          694      7311"
      ]
     },
     "execution_count": 45,
     "metadata": {},
     "output_type": "execute_result"
    }
   ],
   "source": [
    "users_per_source = events_total.groupby(['first_event', 'source']).agg({'user_id': 'nunique', 'event': 'count'}).reset_index()\n",
    "users_per_source.columns=['first_event', 'source', 'n_new_users', 'n_events']\n",
    "users_per_source.head()"
   ]
  },
  {
   "cell_type": "code",
   "execution_count": 46,
   "metadata": {},
   "outputs": [
    {
     "data": {
      "text/html": [
       "<div>\n",
       "<style scoped>\n",
       "    .dataframe tbody tr th:only-of-type {\n",
       "        vertical-align: middle;\n",
       "    }\n",
       "\n",
       "    .dataframe tbody tr th {\n",
       "        vertical-align: top;\n",
       "    }\n",
       "\n",
       "    .dataframe thead th {\n",
       "        text-align: right;\n",
       "    }\n",
       "</style>\n",
       "<table border=\"1\" class=\"dataframe\">\n",
       "  <thead>\n",
       "    <tr style=\"text-align: right;\">\n",
       "      <th></th>\n",
       "      <th>first_event</th>\n",
       "      <th>source</th>\n",
       "      <th>n_new_users</th>\n",
       "      <th>n_events</th>\n",
       "      <th>n_users</th>\n",
       "      <th>ratio_per_source</th>\n",
       "      <th>events_per_us_per_source</th>\n",
       "    </tr>\n",
       "  </thead>\n",
       "  <tbody>\n",
       "    <tr>\n",
       "      <th>0</th>\n",
       "      <td>2020-05-04</td>\n",
       "      <td>facebook_ads</td>\n",
       "      <td>1184</td>\n",
       "      <td>13222</td>\n",
       "      <td>5860</td>\n",
       "      <td>0.202048</td>\n",
       "      <td>2.256314</td>\n",
       "    </tr>\n",
       "    <tr>\n",
       "      <th>1</th>\n",
       "      <td>2020-05-04</td>\n",
       "      <td>google_play_ads</td>\n",
       "      <td>2078</td>\n",
       "      <td>22436</td>\n",
       "      <td>5860</td>\n",
       "      <td>0.354608</td>\n",
       "      <td>3.828669</td>\n",
       "    </tr>\n",
       "    <tr>\n",
       "      <th>2</th>\n",
       "      <td>2020-05-04</td>\n",
       "      <td>instagram_new_adverts</td>\n",
       "      <td>1452</td>\n",
       "      <td>16063</td>\n",
       "      <td>5860</td>\n",
       "      <td>0.247782</td>\n",
       "      <td>2.741126</td>\n",
       "    </tr>\n",
       "    <tr>\n",
       "      <th>3</th>\n",
       "      <td>2020-05-04</td>\n",
       "      <td>youtube_channel_network</td>\n",
       "      <td>1146</td>\n",
       "      <td>12505</td>\n",
       "      <td>5860</td>\n",
       "      <td>0.195563</td>\n",
       "      <td>2.133959</td>\n",
       "    </tr>\n",
       "    <tr>\n",
       "      <th>4</th>\n",
       "      <td>2020-05-05</td>\n",
       "      <td>facebook_ads</td>\n",
       "      <td>694</td>\n",
       "      <td>7311</td>\n",
       "      <td>3361</td>\n",
       "      <td>0.206486</td>\n",
       "      <td>2.175245</td>\n",
       "    </tr>\n",
       "  </tbody>\n",
       "</table>\n",
       "</div>"
      ],
      "text/plain": [
       "  first_event                   source  n_new_users  n_events  n_users  \\\n",
       "0  2020-05-04             facebook_ads         1184     13222     5860   \n",
       "1  2020-05-04          google_play_ads         2078     22436     5860   \n",
       "2  2020-05-04    instagram_new_adverts         1452     16063     5860   \n",
       "3  2020-05-04  youtube_channel_network         1146     12505     5860   \n",
       "4  2020-05-05             facebook_ads          694      7311     3361   \n",
       "\n",
       "   ratio_per_source  events_per_us_per_source  \n",
       "0          0.202048                  2.256314  \n",
       "1          0.354608                  3.828669  \n",
       "2          0.247782                  2.741126  \n",
       "3          0.195563                  2.133959  \n",
       "4          0.206486                  2.175245  "
      ]
     },
     "execution_count": 46,
     "metadata": {},
     "output_type": "execute_result"
    }
   ],
   "source": [
    "source_ratio = pd.merge(users_per_source, users_per_cohort, on='first_event')\n",
    "source_ratio['ratio_per_source'] = source_ratio['n_new_users'] / source_ratio['n_users']\n",
    "source_ratio['events_per_us_per_source'] = source_ratio['n_events'] / source_ratio['n_users']\n",
    "source_ratio.head()"
   ]
  },
  {
   "cell_type": "code",
   "execution_count": 47,
   "metadata": {},
   "outputs": [
    {
     "data": {
      "text/html": [
       "<div>\n",
       "<style scoped>\n",
       "    .dataframe tbody tr th:only-of-type {\n",
       "        vertical-align: middle;\n",
       "    }\n",
       "\n",
       "    .dataframe tbody tr th {\n",
       "        vertical-align: top;\n",
       "    }\n",
       "\n",
       "    .dataframe thead th {\n",
       "        text-align: right;\n",
       "    }\n",
       "</style>\n",
       "<table border=\"1\" class=\"dataframe\">\n",
       "  <thead>\n",
       "    <tr style=\"text-align: right;\">\n",
       "      <th></th>\n",
       "      <th>source</th>\n",
       "      <th>day</th>\n",
       "      <th>cost</th>\n",
       "    </tr>\n",
       "  </thead>\n",
       "  <tbody>\n",
       "    <tr>\n",
       "      <th>0</th>\n",
       "      <td>facebook_ads</td>\n",
       "      <td>2020-05-03</td>\n",
       "      <td>935.882786</td>\n",
       "    </tr>\n",
       "    <tr>\n",
       "      <th>1</th>\n",
       "      <td>facebook_ads</td>\n",
       "      <td>2020-05-04</td>\n",
       "      <td>548.354480</td>\n",
       "    </tr>\n",
       "    <tr>\n",
       "      <th>2</th>\n",
       "      <td>facebook_ads</td>\n",
       "      <td>2020-05-05</td>\n",
       "      <td>260.185754</td>\n",
       "    </tr>\n",
       "    <tr>\n",
       "      <th>3</th>\n",
       "      <td>facebook_ads</td>\n",
       "      <td>2020-05-06</td>\n",
       "      <td>177.982200</td>\n",
       "    </tr>\n",
       "    <tr>\n",
       "      <th>4</th>\n",
       "      <td>facebook_ads</td>\n",
       "      <td>2020-05-07</td>\n",
       "      <td>111.766796</td>\n",
       "    </tr>\n",
       "  </tbody>\n",
       "</table>\n",
       "</div>"
      ],
      "text/plain": [
       "         source        day        cost\n",
       "0  facebook_ads 2020-05-03  935.882786\n",
       "1  facebook_ads 2020-05-04  548.354480\n",
       "2  facebook_ads 2020-05-05  260.185754\n",
       "3  facebook_ads 2020-05-06  177.982200\n",
       "4  facebook_ads 2020-05-07  111.766796"
      ]
     },
     "execution_count": 47,
     "metadata": {},
     "output_type": "execute_result"
    }
   ],
   "source": [
    "ad_cost.head()"
   ]
  },
  {
   "cell_type": "code",
   "execution_count": 48,
   "metadata": {},
   "outputs": [
    {
     "data": {
      "text/html": [
       "<div>\n",
       "<style scoped>\n",
       "    .dataframe tbody tr th:only-of-type {\n",
       "        vertical-align: middle;\n",
       "    }\n",
       "\n",
       "    .dataframe tbody tr th {\n",
       "        vertical-align: top;\n",
       "    }\n",
       "\n",
       "    .dataframe thead th {\n",
       "        text-align: right;\n",
       "    }\n",
       "</style>\n",
       "<table border=\"1\" class=\"dataframe\">\n",
       "  <thead>\n",
       "    <tr style=\"text-align: right;\">\n",
       "      <th></th>\n",
       "      <th>first_event</th>\n",
       "      <th>source</th>\n",
       "      <th>n_new_users</th>\n",
       "      <th>n_events</th>\n",
       "      <th>n_users</th>\n",
       "      <th>ratio_per_source</th>\n",
       "      <th>events_per_us_per_source</th>\n",
       "      <th>cost_per_click</th>\n",
       "      <th>cost_per_event</th>\n",
       "    </tr>\n",
       "  </thead>\n",
       "  <tbody>\n",
       "    <tr>\n",
       "      <th>0</th>\n",
       "      <td>2020-05-04</td>\n",
       "      <td>facebook_ads</td>\n",
       "      <td>1184</td>\n",
       "      <td>13222</td>\n",
       "      <td>5860</td>\n",
       "      <td>0.202048</td>\n",
       "      <td>2.256314</td>\n",
       "      <td>548.354480</td>\n",
       "      <td>243.031104</td>\n",
       "    </tr>\n",
       "    <tr>\n",
       "      <th>1</th>\n",
       "      <td>2020-05-04</td>\n",
       "      <td>google_play_ads</td>\n",
       "      <td>2078</td>\n",
       "      <td>22436</td>\n",
       "      <td>5860</td>\n",
       "      <td>0.354608</td>\n",
       "      <td>3.828669</td>\n",
       "      <td>554.651494</td>\n",
       "      <td>144.867969</td>\n",
       "    </tr>\n",
       "    <tr>\n",
       "      <th>2</th>\n",
       "      <td>2020-05-04</td>\n",
       "      <td>instagram_new_adverts</td>\n",
       "      <td>1452</td>\n",
       "      <td>16063</td>\n",
       "      <td>5860</td>\n",
       "      <td>0.247782</td>\n",
       "      <td>2.741126</td>\n",
       "      <td>502.925451</td>\n",
       "      <td>183.474017</td>\n",
       "    </tr>\n",
       "    <tr>\n",
       "      <th>3</th>\n",
       "      <td>2020-05-04</td>\n",
       "      <td>youtube_channel_network</td>\n",
       "      <td>1146</td>\n",
       "      <td>12505</td>\n",
       "      <td>5860</td>\n",
       "      <td>0.195563</td>\n",
       "      <td>2.133959</td>\n",
       "      <td>259.073224</td>\n",
       "      <td>121.404966</td>\n",
       "    </tr>\n",
       "    <tr>\n",
       "      <th>4</th>\n",
       "      <td>2020-05-05</td>\n",
       "      <td>facebook_ads</td>\n",
       "      <td>694</td>\n",
       "      <td>7311</td>\n",
       "      <td>3361</td>\n",
       "      <td>0.206486</td>\n",
       "      <td>2.175245</td>\n",
       "      <td>260.185754</td>\n",
       "      <td>119.612135</td>\n",
       "    </tr>\n",
       "  </tbody>\n",
       "</table>\n",
       "</div>"
      ],
      "text/plain": [
       "  first_event                   source  n_new_users  n_events  n_users  \\\n",
       "0  2020-05-04             facebook_ads         1184     13222     5860   \n",
       "1  2020-05-04          google_play_ads         2078     22436     5860   \n",
       "2  2020-05-04    instagram_new_adverts         1452     16063     5860   \n",
       "3  2020-05-04  youtube_channel_network         1146     12505     5860   \n",
       "4  2020-05-05             facebook_ads          694      7311     3361   \n",
       "\n",
       "   ratio_per_source  events_per_us_per_source  cost_per_click  cost_per_event  \n",
       "0          0.202048                  2.256314      548.354480      243.031104  \n",
       "1          0.354608                  3.828669      554.651494      144.867969  \n",
       "2          0.247782                  2.741126      502.925451      183.474017  \n",
       "3          0.195563                  2.133959      259.073224      121.404966  \n",
       "4          0.206486                  2.175245      260.185754      119.612135  "
      ]
     },
     "execution_count": 48,
     "metadata": {},
     "output_type": "execute_result"
    }
   ],
   "source": [
    "ad_cost.columns=['source', 'first_event', 'cost_per_click']\n",
    "total_cost = pd.merge(source_ratio, ad_cost, on=['first_event', 'source'])\n",
    "total_cost['cost_per_event'] = total_cost['cost_per_click'] / total_cost['events_per_us_per_source']\n",
    "total_cost.head()"
   ]
  },
  {
   "cell_type": "code",
   "execution_count": 49,
   "metadata": {},
   "outputs": [
    {
     "data": {
      "image/png": "[encoded data removed]",
      "text/plain": [
       "<Figure size 1224x936 with 4 Axes>"
      ]
     },
     "metadata": {
      "needs_background": "light"
     },
     "output_type": "display_data"
    }
   ],
   "source": [
    "colors = {'facebook_ads':'#7d7650', 'google_play_ads':'#e67548', 'instagram_new_adverts':'#f8e078', \n",
    "          'youtube_channel_network':'#a68674'}\n",
    "cmap = total_cost['source'].map(colors)\n",
    "\n",
    "fig, axs = plt.subplots(2, 2, sharex=True, figsize=(17, 13))\n",
    "plt.suptitle('Users acquisition', fontsize = 16)\n",
    "\n",
    "x_dates = total_cost['first_event'].dt.strftime('%Y-%m-%d')\n",
    "\n",
    "sns.barplot(ax=axs[0, 0], x=x_dates, y='ratio_per_source', hue='source', data=total_cost, palette=cmap) \n",
    "axs[0, 0].set_title('Users per source ratio', fontsize=14)\n",
    "axs[0, 0].set_xlabel('Joining date', fontsize=12)\n",
    "axs[0, 0].set_ylabel('Ratio', fontsize=12)\n",
    "\n",
    "sns.barplot(ax=axs[0, 1], x=x_dates, y='cost_per_click', hue='source', data=total_cost, palette=cmap) \n",
    "axs[0, 1].set_title('Cost per source', fontsize=14)\n",
    "axs[0, 1].set_xlabel('Joining date', fontsize=12)\n",
    "axs[0, 1].set_ylabel('Cost per click', fontsize=12)\n",
    "\n",
    "sns.barplot(ax=axs[1, 0], x=x_dates, y='events_per_us_per_source', hue='source', data=total_cost, palette=cmap) \n",
    "axs[1, 0].set_title('Average events per user per source', fontsize=14)\n",
    "axs[1, 0].set_xlabel('Joining date', fontsize=12)\n",
    "axs[1, 0].set_ylabel('Average number of events', fontsize=12)\n",
    "\n",
    "sns.barplot(ax=axs[1, 1], x=x_dates, y='cost_per_event', hue='source', data=total_cost, palette=cmap) \n",
    "axs[1, 1].set_title('Average cost per event per source', fontsize=14)\n",
    "axs[1, 1].set_xlabel('Joining date', fontsize=12)\n",
    "axs[1, 1].set_ylabel('Average cost', fontsize=12)\n",
    "\n",
    "plt.show()"
   ]
  },
  {
   "cell_type": "markdown",
   "metadata": {},
   "source": [
    "1. With regard to acquisition channels, we see a fairly stable picture. Most of the users every day came from Google ads, followed by Instagram. \n",
    "2. As for the cost, we can talk about several facts:\n",
    "   - The cost of advertising on Google is not much more than Facebook and Instagram, while it attracts much more users.\n",
    "   - Per week cost per click has decreased significantly \n",
    "   - With the cost per click the number of new users has decreased, and they are less interested in the game. Perhaps, if the marketing department returns to a more expensive, but more active audience, the company will be able to attract more customers, and due to their activity in the construction of various types of buildings, it will recoup its costs and earn money from showing them advertising. \n",
    "3. We see that users who come from Google are on average more active and make more events.\n",
    "4. If we focus on attracting an active audience through Google, the approximate cost of showing one ad in an application should cost at least $ 150"
   ]
  },
  {
   "cell_type": "markdown",
   "metadata": {},
   "source": [
    "### Step4"
   ]
  },
  {
   "cell_type": "markdown",
   "metadata": {},
   "source": [
    "**Test a hypothesis on the difference in completion time between users who finish the stage by building the assembly and those who do so by beating the boss**\n",
    "Formulate a statistical hypothesis regardin the results of analysis and test it."
   ]
  },
  {
   "cell_type": "markdown",
   "metadata": {},
   "source": [
    "Making samples"
   ]
  },
  {
   "cell_type": "code",
   "execution_count": 50,
   "metadata": {},
   "outputs": [
    {
     "data": {
      "text/html": [
       "<div>\n",
       "<style scoped>\n",
       "    .dataframe tbody tr th:only-of-type {\n",
       "        vertical-align: middle;\n",
       "    }\n",
       "\n",
       "    .dataframe tbody tr th {\n",
       "        vertical-align: top;\n",
       "    }\n",
       "\n",
       "    .dataframe thead th {\n",
       "        text-align: right;\n",
       "    }\n",
       "</style>\n",
       "<table border=\"1\" class=\"dataframe\">\n",
       "  <thead>\n",
       "    <tr style=\"text-align: right;\">\n",
       "      <th></th>\n",
       "      <th>event_datetime</th>\n",
       "      <th>event</th>\n",
       "      <th>building_type</th>\n",
       "      <th>user_id</th>\n",
       "      <th>project_type</th>\n",
       "      <th>first_event</th>\n",
       "      <th>event_date</th>\n",
       "      <th>source</th>\n",
       "      <th>time_to_first_event</th>\n",
       "    </tr>\n",
       "  </thead>\n",
       "  <tbody>\n",
       "    <tr>\n",
       "      <th>0</th>\n",
       "      <td>2020-05-04 00:00:01</td>\n",
       "      <td>building</td>\n",
       "      <td>assembly_shop</td>\n",
       "      <td>55e92310-cb8e-4754-b622-597e124b03de</td>\n",
       "      <td>NaN</td>\n",
       "      <td>2020-05-04</td>\n",
       "      <td>2020-05-04</td>\n",
       "      <td>youtube_channel_network</td>\n",
       "      <td>0 days</td>\n",
       "    </tr>\n",
       "    <tr>\n",
       "      <th>1</th>\n",
       "      <td>2020-05-05 05:20:15</td>\n",
       "      <td>building</td>\n",
       "      <td>assembly_shop</td>\n",
       "      <td>55e92310-cb8e-4754-b622-597e124b03de</td>\n",
       "      <td>NaN</td>\n",
       "      <td>2020-05-04</td>\n",
       "      <td>2020-05-04</td>\n",
       "      <td>youtube_channel_network</td>\n",
       "      <td>0 days</td>\n",
       "    </tr>\n",
       "    <tr>\n",
       "      <th>2</th>\n",
       "      <td>2020-05-05 19:24:02</td>\n",
       "      <td>building</td>\n",
       "      <td>assembly_shop</td>\n",
       "      <td>55e92310-cb8e-4754-b622-597e124b03de</td>\n",
       "      <td>NaN</td>\n",
       "      <td>2020-05-04</td>\n",
       "      <td>2020-05-04</td>\n",
       "      <td>youtube_channel_network</td>\n",
       "      <td>0 days</td>\n",
       "    </tr>\n",
       "    <tr>\n",
       "      <th>3</th>\n",
       "      <td>2020-05-05 20:59:19</td>\n",
       "      <td>building</td>\n",
       "      <td>assembly_shop</td>\n",
       "      <td>55e92310-cb8e-4754-b622-597e124b03de</td>\n",
       "      <td>NaN</td>\n",
       "      <td>2020-05-04</td>\n",
       "      <td>2020-05-04</td>\n",
       "      <td>youtube_channel_network</td>\n",
       "      <td>0 days</td>\n",
       "    </tr>\n",
       "    <tr>\n",
       "      <th>4</th>\n",
       "      <td>2020-05-06 00:52:56</td>\n",
       "      <td>building</td>\n",
       "      <td>assembly_shop</td>\n",
       "      <td>55e92310-cb8e-4754-b622-597e124b03de</td>\n",
       "      <td>NaN</td>\n",
       "      <td>2020-05-04</td>\n",
       "      <td>2020-05-04</td>\n",
       "      <td>youtube_channel_network</td>\n",
       "      <td>0 days</td>\n",
       "    </tr>\n",
       "  </tbody>\n",
       "</table>\n",
       "</div>"
      ],
      "text/plain": [
       "       event_datetime     event  building_type  \\\n",
       "0 2020-05-04 00:00:01  building  assembly_shop   \n",
       "1 2020-05-05 05:20:15  building  assembly_shop   \n",
       "2 2020-05-05 19:24:02  building  assembly_shop   \n",
       "3 2020-05-05 20:59:19  building  assembly_shop   \n",
       "4 2020-05-06 00:52:56  building  assembly_shop   \n",
       "\n",
       "                                user_id project_type first_event event_date  \\\n",
       "0  55e92310-cb8e-4754-b622-597e124b03de          NaN  2020-05-04 2020-05-04   \n",
       "1  55e92310-cb8e-4754-b622-597e124b03de          NaN  2020-05-04 2020-05-04   \n",
       "2  55e92310-cb8e-4754-b622-597e124b03de          NaN  2020-05-04 2020-05-04   \n",
       "3  55e92310-cb8e-4754-b622-597e124b03de          NaN  2020-05-04 2020-05-04   \n",
       "4  55e92310-cb8e-4754-b622-597e124b03de          NaN  2020-05-04 2020-05-04   \n",
       "\n",
       "                    source time_to_first_event  \n",
       "0  youtube_channel_network              0 days  \n",
       "1  youtube_channel_network              0 days  \n",
       "2  youtube_channel_network              0 days  \n",
       "3  youtube_channel_network              0 days  \n",
       "4  youtube_channel_network              0 days  "
      ]
     },
     "execution_count": 50,
     "metadata": {},
     "output_type": "execute_result"
    }
   ],
   "source": [
    " events_total.head()"
   ]
  },
  {
   "cell_type": "code",
   "execution_count": 51,
   "metadata": {},
   "outputs": [
    {
     "data": {
      "text/plain": [
       "project    1866\n",
       "Name: event, dtype: int64"
      ]
     },
     "execution_count": 51,
     "metadata": {},
     "output_type": "execute_result"
    }
   ],
   "source": [
    "satellite=events_total.query('event == \"project\"').reset_index(drop=True)\n",
    "satellite['event'].value_counts()"
   ]
  },
  {
   "cell_type": "code",
   "execution_count": 52,
   "metadata": {},
   "outputs": [
    {
     "data": {
      "text/plain": [
       "array(['c07b1c10-f477-44dc-81dc-ec82254b1347',\n",
       "       '65a92713-5969-48b1-8945-bfefa5063887',\n",
       "       'fa352362-d258-472c-b295-2796ccc39fa3', ...,\n",
       "       '92c1bdec-8449-4769-bf15-203c8e5830cc',\n",
       "       '825e727b-7847-4c5f-a26c-3ee0f18d8177',\n",
       "       '637a8d39-3872-4549-80cc-bebee6c88056'], dtype=object)"
      ]
     },
     "execution_count": 52,
     "metadata": {},
     "output_type": "execute_result"
    }
   ],
   "source": [
    "sat_dic = satellite['user_id'].unique()\n",
    "sat_dic"
   ]
  },
  {
   "cell_type": "code",
   "execution_count": 53,
   "metadata": {},
   "outputs": [
    {
     "data": {
      "text/plain": [
       "finished_stage_1    3951\n",
       "Name: event, dtype: int64"
      ]
     },
     "execution_count": 53,
     "metadata": {},
     "output_type": "execute_result"
    }
   ],
   "source": [
    "bos=events_total.query('event == \"finished_stage_1\"').reset_index(drop=True)\n",
    "boss=bos.query('user_id not in @sat_dic')\n",
    "boss['event'].value_counts()"
   ]
  },
  {
   "cell_type": "code",
   "execution_count": 54,
   "metadata": {},
   "outputs": [
    {
     "data": {
      "text/plain": [
       "(1866, 11)"
      ]
     },
     "execution_count": 54,
     "metadata": {},
     "output_type": "execute_result"
    }
   ],
   "source": [
    "finish_satellite=pd.merge(satellite, finish_date, on='user_id')\n",
    "finish_satellite.reset_index(drop=True)\n",
    "finish_satellite['time_to_finish'] = finish_satellite['finish_date'] - finish_satellite['first_event']\n",
    "finish_satellite.shape"
   ]
  },
  {
   "cell_type": "code",
   "execution_count": 55,
   "metadata": {},
   "outputs": [
    {
     "data": {
      "text/plain": [
       "(3951, 11)"
      ]
     },
     "execution_count": 55,
     "metadata": {},
     "output_type": "execute_result"
    }
   ],
   "source": [
    "finish_boss=pd.merge(boss, finish_date, on='user_id')\n",
    "finish_boss.reset_index(drop=True)\n",
    "finish_boss['time_to_finish'] = finish_boss['finish_date'] - finish_boss['first_event']\n",
    "finish_boss.shape"
   ]
  },
  {
   "cell_type": "markdown",
   "metadata": {},
   "source": [
    "Let's formulate null hypothesis H₀ and alternative hypothesis, H₁. \n",
    "H₀: There is no difference in completion time between users who finish the stage by building the assembly and those who do so by beating the boss\n",
    "H₁: There is a significant difference in completion time between users who finish the stage by building the assembly and those who do so by beating the boss"
   ]
  },
  {
   "cell_type": "markdown",
   "metadata": {},
   "source": [
    "Let's first apply Levene's test to check if variances differ significantly"
   ]
  },
  {
   "cell_type": "code",
   "execution_count": 56,
   "metadata": {},
   "outputs": [
    {
     "data": {
      "text/plain": [
       "0.07217406614678082"
      ]
     },
     "execution_count": 56,
     "metadata": {},
     "output_type": "execute_result"
    }
   ],
   "source": [
    "fin_satellite = finish_satellite.groupby('time_to_finish')['user_id'].count()\n",
    "fin_boss = finish_boss.groupby('time_to_finish')['user_id'].count()\n",
    "\n",
    "stat, p = levene(fin_satellite, fin_boss)\n",
    "p"
   ]
  },
  {
   "cell_type": "markdown",
   "metadata": {},
   "source": [
    "A p value is higher than 0.05, it means that equal_var = True will need to be used"
   ]
  },
  {
   "cell_type": "code",
   "execution_count": 57,
   "metadata": {},
   "outputs": [
    {
     "name": "stdout",
     "output_type": "stream",
     "text": [
      "p-value: 0.13713541713456162\n",
      "We can't reject the null hypothesis\n"
     ]
    }
   ],
   "source": [
    "alpha = 0.05\n",
    "\n",
    "results = st.ttest_ind(fin_satellite, fin_boss, equal_var=True) \n",
    "\n",
    "print('p-value:', results.pvalue)\n",
    "\n",
    "if (results.pvalue < alpha):\n",
    "        print(\"We reject the null hypothesis\")\n",
    "else:\n",
    "        print(\"We can't reject the null hypothesis\")"
   ]
  },
  {
   "cell_type": "markdown",
   "metadata": {},
   "source": [
    "We can't say that there is a significant difference in completion time between users who finish the stage by building the assembly and those who do so by beating the boss."
   ]
  },
  {
   "cell_type": "markdown",
   "metadata": {},
   "source": [
    "**Test a hypothesis on the difference in completion time between users who came from Google and users who came from others sourses**"
   ]
  },
  {
   "cell_type": "code",
   "execution_count": 58,
   "metadata": {},
   "outputs": [
    {
     "data": {
      "text/plain": [
       "google_play_ads            4817\n",
       "instagram_new_adverts      3347\n",
       "facebook_ads               2726\n",
       "youtube_channel_network    2686\n",
       "Name: source, dtype: int64"
      ]
     },
     "execution_count": 58,
     "metadata": {},
     "output_type": "execute_result"
    }
   ],
   "source": [
    "source['source'].value_counts()"
   ]
  },
  {
   "cell_type": "code",
   "execution_count": 59,
   "metadata": {},
   "outputs": [
    {
     "data": {
      "text/html": [
       "<div>\n",
       "<style scoped>\n",
       "    .dataframe tbody tr th:only-of-type {\n",
       "        vertical-align: middle;\n",
       "    }\n",
       "\n",
       "    .dataframe tbody tr th {\n",
       "        vertical-align: top;\n",
       "    }\n",
       "\n",
       "    .dataframe thead th {\n",
       "        text-align: right;\n",
       "    }\n",
       "</style>\n",
       "<table border=\"1\" class=\"dataframe\">\n",
       "  <thead>\n",
       "    <tr style=\"text-align: right;\">\n",
       "      <th></th>\n",
       "      <th>event_datetime</th>\n",
       "      <th>event</th>\n",
       "      <th>building_type</th>\n",
       "      <th>user_id</th>\n",
       "      <th>project_type</th>\n",
       "      <th>first_event</th>\n",
       "      <th>event_date</th>\n",
       "      <th>source</th>\n",
       "      <th>time_to_first_event</th>\n",
       "      <th>finish_date</th>\n",
       "      <th>time_to_finish</th>\n",
       "    </tr>\n",
       "  </thead>\n",
       "  <tbody>\n",
       "    <tr>\n",
       "      <th>0</th>\n",
       "      <td>2020-05-15 05:29:13</td>\n",
       "      <td>finished_stage_1</td>\n",
       "      <td>NaN</td>\n",
       "      <td>c07b1c10-f477-44dc-81dc-ec82254b1347</td>\n",
       "      <td>NaN</td>\n",
       "      <td>2020-05-04</td>\n",
       "      <td>2020-05-04</td>\n",
       "      <td>facebook_ads</td>\n",
       "      <td>0 days</td>\n",
       "      <td>2020-05-15</td>\n",
       "      <td>11 days</td>\n",
       "    </tr>\n",
       "    <tr>\n",
       "      <th>1</th>\n",
       "      <td>2020-05-16 11:51:58</td>\n",
       "      <td>finished_stage_1</td>\n",
       "      <td>NaN</td>\n",
       "      <td>6edd42cc-e753-4ff6-a947-2107cd560710</td>\n",
       "      <td>NaN</td>\n",
       "      <td>2020-05-04</td>\n",
       "      <td>2020-05-04</td>\n",
       "      <td>instagram_new_adverts</td>\n",
       "      <td>0 days</td>\n",
       "      <td>2020-05-16</td>\n",
       "      <td>12 days</td>\n",
       "    </tr>\n",
       "    <tr>\n",
       "      <th>2</th>\n",
       "      <td>2020-05-11 14:18:05</td>\n",
       "      <td>finished_stage_1</td>\n",
       "      <td>NaN</td>\n",
       "      <td>cdc6bb92-0ccb-4490-9866-ef142f09139d</td>\n",
       "      <td>NaN</td>\n",
       "      <td>2020-05-04</td>\n",
       "      <td>2020-05-04</td>\n",
       "      <td>google_play_ads</td>\n",
       "      <td>0 days</td>\n",
       "      <td>2020-05-11</td>\n",
       "      <td>7 days</td>\n",
       "    </tr>\n",
       "    <tr>\n",
       "      <th>3</th>\n",
       "      <td>2020-05-16 13:08:11</td>\n",
       "      <td>finished_stage_1</td>\n",
       "      <td>NaN</td>\n",
       "      <td>4fe0f101-694b-4e31-9740-d1d87f7208ea</td>\n",
       "      <td>NaN</td>\n",
       "      <td>2020-05-04</td>\n",
       "      <td>2020-05-04</td>\n",
       "      <td>facebook_ads</td>\n",
       "      <td>0 days</td>\n",
       "      <td>2020-05-16</td>\n",
       "      <td>12 days</td>\n",
       "    </tr>\n",
       "    <tr>\n",
       "      <th>4</th>\n",
       "      <td>2020-05-18 03:50:27</td>\n",
       "      <td>finished_stage_1</td>\n",
       "      <td>NaN</td>\n",
       "      <td>65a92713-5969-48b1-8945-bfefa5063887</td>\n",
       "      <td>NaN</td>\n",
       "      <td>2020-05-04</td>\n",
       "      <td>2020-05-04</td>\n",
       "      <td>google_play_ads</td>\n",
       "      <td>0 days</td>\n",
       "      <td>2020-05-18</td>\n",
       "      <td>14 days</td>\n",
       "    </tr>\n",
       "  </tbody>\n",
       "</table>\n",
       "</div>"
      ],
      "text/plain": [
       "       event_datetime             event building_type  \\\n",
       "0 2020-05-15 05:29:13  finished_stage_1           NaN   \n",
       "1 2020-05-16 11:51:58  finished_stage_1           NaN   \n",
       "2 2020-05-11 14:18:05  finished_stage_1           NaN   \n",
       "3 2020-05-16 13:08:11  finished_stage_1           NaN   \n",
       "4 2020-05-18 03:50:27  finished_stage_1           NaN   \n",
       "\n",
       "                                user_id project_type first_event event_date  \\\n",
       "0  c07b1c10-f477-44dc-81dc-ec82254b1347          NaN  2020-05-04 2020-05-04   \n",
       "1  6edd42cc-e753-4ff6-a947-2107cd560710          NaN  2020-05-04 2020-05-04   \n",
       "2  cdc6bb92-0ccb-4490-9866-ef142f09139d          NaN  2020-05-04 2020-05-04   \n",
       "3  4fe0f101-694b-4e31-9740-d1d87f7208ea          NaN  2020-05-04 2020-05-04   \n",
       "4  65a92713-5969-48b1-8945-bfefa5063887          NaN  2020-05-04 2020-05-04   \n",
       "\n",
       "                  source time_to_first_event finish_date time_to_finish  \n",
       "0           facebook_ads              0 days  2020-05-15        11 days  \n",
       "1  instagram_new_adverts              0 days  2020-05-16        12 days  \n",
       "2        google_play_ads              0 days  2020-05-11         7 days  \n",
       "3           facebook_ads              0 days  2020-05-16        12 days  \n",
       "4        google_play_ads              0 days  2020-05-18        14 days  "
      ]
     },
     "execution_count": 59,
     "metadata": {},
     "output_type": "execute_result"
    }
   ],
   "source": [
    "finish=events_total.query('event == \"finished_stage_1\"').reset_index(drop=True)\n",
    "finish_=pd.merge(finish, finish_date, on='user_id')\n",
    "finish_.reset_index(drop=True)\n",
    "finish_['time_to_finish'] = finish_['finish_date'] - finish_['first_event']\n",
    "finish_.head()"
   ]
  },
  {
   "cell_type": "markdown",
   "metadata": {},
   "source": [
    "Let's formulate null hypothesis H₀ and alternative hypothesis, H₁. \n",
    "H₀: There is no difference in completion time between users who users who came from Google and users who came from others sourses\n",
    "H₁: There is a significant difference in completion time between users who users who came from Google and users who came from others sourses"
   ]
  },
  {
   "cell_type": "code",
   "execution_count": 60,
   "metadata": {},
   "outputs": [],
   "source": [
    "fin_google = finish_[finish_['source']=='google_play_ads'].groupby('time_to_finish')['user_id'].count()\n",
    "fin_others = finish_[finish_['source']!='google_play_ads'].groupby('time_to_finish')['user_id'].count()"
   ]
  },
  {
   "cell_type": "code",
   "execution_count": 61,
   "metadata": {},
   "outputs": [
    {
     "name": "stdout",
     "output_type": "stream",
     "text": [
      "p-value: 0.06742731984952699\n",
      "We can't reject the null hypothesis\n"
     ]
    }
   ],
   "source": [
    "alpha = 0.05\n",
    "\n",
    "results = st.ttest_ind(fin_google, fin_others) \n",
    "\n",
    "print('p-value:', results.pvalue)\n",
    "\n",
    "if (results.pvalue < alpha):\n",
    "        print(\"We reject the null hypothesis\")\n",
    "else:\n",
    "        print(\"We can't reject the null hypothesis\")"
   ]
  },
  {
   "cell_type": "markdown",
   "metadata": {},
   "source": [
    "We can't say that there is a significant difference in completion time between users who users who came from Google and users who came from others sourses"
   ]
  },
  {
   "cell_type": "code",
   "execution_count": 65,
   "metadata": {},
   "outputs": [],
   "source": [
    "events_total.to_csv('events_total.csv')"
   ]
  },
  {
   "cell_type": "markdown",
   "metadata": {},
   "source": [
    "<a id=\"oc\"></a>"
   ]
  },
  {
   "cell_type": "markdown",
   "metadata": {},
   "source": [
    "### Overall conclusion"
   ]
  },
  {
   "cell_type": "markdown",
   "metadata": {},
   "source": [
    "1. All the users made the first event on the same day when they clicked on the advertisement.\n",
    "2. Every day the number of players starting to play is significantly decreasing. \n",
    "3. Players complete the first level on average in 11-12 days. It can also be seen that the later the players joined, the fewer people went to the finish line.\n",
    "4. Not only the number of attracted new players is decreasing, but also the interest of new users in the game itself. With a difference of only 7 days in the game, the number of events decreased from 11 to 6 on average, the percentage of those who completed the first stage - from 45 to 30.\n",
    "5. The spaceport is built at the same level from cohort to cohort. At the same time, the number of assembly shops built decreased by almost five times. The research center is being built as a whole several times less, and their number has also decreased from cohort to cohort. \n",
    "6. With regard to acquisition channels, we see a fairly stable picture. Most of the users every day came from Google ads, followed by Instagram. \n",
    "7. As for the cost, we can talk about several facts:\n",
    "   - The cost of advertising on Google is not much more than Facebook and Instagram, while it attracts much more users.\n",
    "   - Per week cost per click has decreased significantly \n",
    "   - With the cost per click the number of new users has decreased, and they are less interested in the game. Perhaps, if the marketing department returns to a more expensive, but more active audience, the company will be able to attract more customers, and due to their activity in the construction of various types of buildings, it will recoup its costs and earn money from showing them advertising. \n",
    "8. Users who come from Google are on average more active and make more events.\n",
    "9. If we focus on attracting an active audience through Google, the approximate cost of showing one ad in an application should cost at least $ 150\n",
    "10. We can't say that there is a significant difference in completion time between users who finish the stage by building the assembly and those who do so by beating the boss.\n",
    "11. We can't say that there is a significant difference in completion time between users who users who came from Google and users who came from others sourses.\n",
    "\n",
    "Recommendations:\n",
    "\n",
    "1. I would recommend to return to a more expensive in terms of cost per click, but more active audience. WE will be able to attract more customers, and due to their activity in the construction of various types of buildings, it will recoup its costs and earn money from showing them advertising. \n",
    "\n",
    "2. The basic monetization as showing ads on the screen where the user selects the type of objects to be constructed is a good option, but we have to pay attantion on decreasing number of consrtucted assemnly shops and research center. \n",
    "\n",
    "3. A large number of advertisements can scare users away from the game. You can offer players to watch ads to speed up the game process, or buy this acceleration for money."
   ]
  }
 ],
 "metadata": {
  "kernelspec": {
   "display_name": "Python 3",
   "language": "python",
   "name": "python3"
  },
  "language_info": {
   "codemirror_mode": {
    "name": "ipython",
    "version": 3
   },
   "file_extension": ".py",
   "mimetype": "text/x-python",
   "name": "python",
   "nbconvert_exporter": "python",
   "pygments_lexer": "ipython3",
   "version": "3.8.3"
  },
  "toc": {
   "base_numbering": 1,
   "nav_menu": {},
   "number_sections": true,
   "sideBar": true,
   "skip_h1_title": true,
   "title_cell": "Table of Contents",
   "title_sidebar": "Contents",
   "toc_cell": false,
   "toc_position": {},
   "toc_section_display": true,
   "toc_window_display": false
  }
 },
 "nbformat": 4,
 "nbformat_minor": 2
}
